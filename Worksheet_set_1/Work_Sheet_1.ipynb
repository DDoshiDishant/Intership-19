{
 "cells": [
  {
   "cell_type": "markdown",
   "metadata": {},
   "source": [
    "# Write a python program to find the factorial of a number.\n"
   ]
  },
  {
   "cell_type": "code",
   "execution_count": 20,
   "metadata": {},
   "outputs": [
    {
     "name": "stdout",
     "output_type": "stream",
     "text": [
      "Enter The Number4\n",
      "factorial of 4 is 24\n"
     ]
    }
   ],
   "source": [
    "num=int(input('Enter The Number'))\n",
    "factorial=1\n",
    "if num<=0:\n",
    "    print('Your Number Is Negative')\n",
    "elif num==0:\n",
    "    print('The Factorial Of Zero Is 1')\n",
    "else:\n",
    "    for i in range(1,num+1):\n",
    "        factorial=factorial*i\n",
    "    print('factorial of',num,'is',factorial)"
   ]
  },
  {
   "cell_type": "markdown",
   "metadata": {},
   "source": [
    "# Write a python program to find whether a number is prime or composite."
   ]
  },
  {
   "cell_type": "code",
   "execution_count": 40,
   "metadata": {},
   "outputs": [
    {
     "name": "stdout",
     "output_type": "stream",
     "text": [
      "Enter The Number13\n",
      "Number is prime\n"
     ]
    }
   ],
   "source": [
    "num=int(input('Enter The Number'))\n",
    "\n",
    "if num>1:\n",
    "    for i in range(2,num):\n",
    "        if(num%i)==0:\n",
    "            print('Number Is Not Prime')\n",
    "            break\n",
    "    else:\n",
    "            print('Number is prime')\n",
    "else:\n",
    "        print('Number is not peime')"
   ]
  },
  {
   "cell_type": "markdown",
   "metadata": {},
   "source": [
    "# Write a python program to check whether a given string is palindrome or not."
   ]
  },
  {
   "cell_type": "code",
   "execution_count": 44,
   "metadata": {},
   "outputs": [
    {
     "name": "stdout",
     "output_type": "stream",
     "text": [
      "Enter The String:-HAH\n",
      "The String Is Palindrome\n"
     ]
    }
   ],
   "source": [
    "my_str=str(input(\"Enter The String:-\"))\n",
    "my_str=my_str.casefold()\n",
    "rev_str=reversed(my_str)\n",
    "if list(my_str)==list(rev_str):\n",
    "    print('The String Is Palindrome')\n",
    "else:\n",
    "    print('The String Is Not Palindrome')"
   ]
  },
  {
   "cell_type": "markdown",
   "metadata": {},
   "source": [
    "# Write a Python program to get the third side of right-angled triangle from two given sides."
   ]
  },
  {
   "cell_type": "code",
   "execution_count": 49,
   "metadata": {},
   "outputs": [
    {
     "name": "stdout",
     "output_type": "stream",
     "text": [
      "Enter The Value Of one side right-angle:-3\n",
      "Enter The Value Of second side right angle:-4\n",
      "Value Of Third Side of right-angle triangle = 5.0\n"
     ]
    }
   ],
   "source": [
    "from math import sqrt\n",
    "a=int(input('Enter The Value Of one side right-angle:-'))\n",
    "b=int(input('Enter The Value Of second side right angle:-'))\n",
    "c=sqrt(a**2+b**2)\n",
    "\n",
    "print('Value Of Third Side of right-angle triangle =',c)"
   ]
  },
  {
   "cell_type": "markdown",
   "metadata": {},
   "source": [
    "# Write a python program to print the frequency of each of the characters present in a given string."
   ]
  },
  {
   "cell_type": "code",
   "execution_count": 71,
   "metadata": {},
   "outputs": [
    {
     "name": "stdout",
     "output_type": "stream",
     "text": [
      "Enter a stringdishant\n",
      "{'d': 1, 'i': 1, 's': 1, 'h': 1, 'a': 1, 'n': 1, 't': 1}\n"
     ]
    }
   ],
   "source": [
    "from collections import Counter\n",
    "\n",
    "str= input(\"Enter a string\")\n",
    "count={}\n",
    "\n",
    "for i in str:\n",
    "    if i in count.keys():\n",
    "        count[i]+=1\n",
    "    else:\n",
    "            count[i]=1\n",
    "print(count)    "
   ]
  },
  {
   "cell_type": "code",
   "execution_count": null,
   "metadata": {},
   "outputs": [],
   "source": []
  }
 ],
 "metadata": {
  "kernelspec": {
   "display_name": "Python 3",
   "language": "python",
   "name": "python3"
  },
  "language_info": {
   "codemirror_mode": {
    "name": "ipython",
    "version": 3
   },
   "file_extension": ".py",
   "mimetype": "text/x-python",
   "name": "python",
   "nbconvert_exporter": "python",
   "pygments_lexer": "ipython3",
   "version": "3.8.5"
  }
 },
 "nbformat": 4,
 "nbformat_minor": 4
}
