{
 "cells": [
  {
   "cell_type": "markdown",
   "metadata": {},
   "source": [
    "# Q1: Write a python program to scrape data for “Data Analyst” Job position in \n",
    "“Bangalore” location. You have to scrape the job-title, job-location, company_name,\n",
    "experience_required. You have to scrape first 10 jobs data."
   ]
  },
  {
   "cell_type": "code",
   "execution_count": 159,
   "metadata": {},
   "outputs": [
    {
     "name": "stdout",
     "output_type": "stream",
     "text": [
      "Requirement already satisfied: selenium in c:\\users\\dishant\\anaconda3\\lib\\site-packages (3.141.0)\n",
      "Requirement already satisfied: urllib3 in c:\\users\\dishant\\anaconda3\\lib\\site-packages (from selenium) (1.25.11)\n"
     ]
    }
   ],
   "source": [
    "!pip install selenium"
   ]
  },
  {
   "cell_type": "code",
   "execution_count": 160,
   "metadata": {},
   "outputs": [],
   "source": [
    "import selenium\n",
    "import pandas as pd\n",
    "from selenium import webdriver\n",
    "import time"
   ]
  },
  {
   "cell_type": "code",
   "execution_count": 161,
   "metadata": {},
   "outputs": [],
   "source": [
    "driver1=webdriver.Chrome('chromedriver.exe')"
   ]
  },
  {
   "cell_type": "code",
   "execution_count": 162,
   "metadata": {},
   "outputs": [],
   "source": [
    "url='https://www.naukri.com/'\n",
    "driver1.get(url)"
   ]
  },
  {
   "cell_type": "code",
   "execution_count": 163,
   "metadata": {},
   "outputs": [
    {
     "data": {
      "text/plain": [
       "<selenium.webdriver.remote.webelement.WebElement (session=\"5f08a55978b39bbdf7f91e5fd7730e77\", element=\"2f2f8e09-4603-4b21-8281-f21211cdafe0\")>"
      ]
     },
     "execution_count": 163,
     "metadata": {},
     "output_type": "execute_result"
    }
   ],
   "source": [
    "search_job=driver1.find_element_by_id('qsb-keyword-sugg')\n",
    "search_job"
   ]
  },
  {
   "cell_type": "code",
   "execution_count": 164,
   "metadata": {},
   "outputs": [],
   "source": [
    "search_job.send_keys('Data Analyst')"
   ]
  },
  {
   "cell_type": "code",
   "execution_count": 165,
   "metadata": {},
   "outputs": [],
   "source": [
    "search_loc=driver1.find_element_by_id('qsb-location-sugg')\n",
    "search_loc.send_keys('Bangalore')"
   ]
  },
  {
   "cell_type": "code",
   "execution_count": 166,
   "metadata": {},
   "outputs": [
    {
     "data": {
      "text/plain": [
       "<selenium.webdriver.remote.webelement.WebElement (session=\"5f08a55978b39bbdf7f91e5fd7730e77\", element=\"e58230b6-7a9a-48c1-b450-ac69ff895864\")>"
      ]
     },
     "execution_count": 166,
     "metadata": {},
     "output_type": "execute_result"
    }
   ],
   "source": [
    "search_btn=driver1.find_element_by_xpath(\"//button[@class='btn']\")\n",
    "search_btn"
   ]
  },
  {
   "cell_type": "code",
   "execution_count": 167,
   "metadata": {},
   "outputs": [],
   "source": [
    "search_btn.click()"
   ]
  },
  {
   "cell_type": "code",
   "execution_count": 168,
   "metadata": {},
   "outputs": [],
   "source": [
    "time.sleep(10)"
   ]
  },
  {
   "cell_type": "code",
   "execution_count": 169,
   "metadata": {},
   "outputs": [
    {
     "data": {
      "text/plain": [
       "[<selenium.webdriver.remote.webelement.WebElement (session=\"5f08a55978b39bbdf7f91e5fd7730e77\", element=\"c32ca392-a25b-431c-935c-bbdf1cadc70d\")>,\n",
       " <selenium.webdriver.remote.webelement.WebElement (session=\"5f08a55978b39bbdf7f91e5fd7730e77\", element=\"c8dd430a-b3c1-43dc-b77b-b26f683f09ea\")>,\n",
       " <selenium.webdriver.remote.webelement.WebElement (session=\"5f08a55978b39bbdf7f91e5fd7730e77\", element=\"3458ccfe-ec09-42f2-bc0c-976425107b72\")>,\n",
       " <selenium.webdriver.remote.webelement.WebElement (session=\"5f08a55978b39bbdf7f91e5fd7730e77\", element=\"b5b50305-8d0d-4190-befa-153d55594f0f\")>,\n",
       " <selenium.webdriver.remote.webelement.WebElement (session=\"5f08a55978b39bbdf7f91e5fd7730e77\", element=\"71a6b8b7-41ee-4087-98ea-86641028bfac\")>,\n",
       " <selenium.webdriver.remote.webelement.WebElement (session=\"5f08a55978b39bbdf7f91e5fd7730e77\", element=\"192254ff-cc75-487e-9c14-5c1af9a046d1\")>,\n",
       " <selenium.webdriver.remote.webelement.WebElement (session=\"5f08a55978b39bbdf7f91e5fd7730e77\", element=\"d251effc-18ce-4b79-bd7d-b39bdac5ee1c\")>,\n",
       " <selenium.webdriver.remote.webelement.WebElement (session=\"5f08a55978b39bbdf7f91e5fd7730e77\", element=\"6fcd3194-b721-49e5-83f3-29c63cb3d30f\")>,\n",
       " <selenium.webdriver.remote.webelement.WebElement (session=\"5f08a55978b39bbdf7f91e5fd7730e77\", element=\"ca1505bd-5d5e-4972-afad-4260c659785a\")>,\n",
       " <selenium.webdriver.remote.webelement.WebElement (session=\"5f08a55978b39bbdf7f91e5fd7730e77\", element=\"3ffac1a9-2bed-4e37-9e24-e481b19be09c\")>,\n",
       " <selenium.webdriver.remote.webelement.WebElement (session=\"5f08a55978b39bbdf7f91e5fd7730e77\", element=\"68c0af0a-0830-4895-8ff1-85055f857edc\")>,\n",
       " <selenium.webdriver.remote.webelement.WebElement (session=\"5f08a55978b39bbdf7f91e5fd7730e77\", element=\"89e72283-0e58-4d52-a4f1-e1cd4ae5856d\")>,\n",
       " <selenium.webdriver.remote.webelement.WebElement (session=\"5f08a55978b39bbdf7f91e5fd7730e77\", element=\"f34904bd-c081-4d53-991f-90d356a73524\")>,\n",
       " <selenium.webdriver.remote.webelement.WebElement (session=\"5f08a55978b39bbdf7f91e5fd7730e77\", element=\"bfe1a491-18ac-4e8f-84ce-9a26ab165163\")>,\n",
       " <selenium.webdriver.remote.webelement.WebElement (session=\"5f08a55978b39bbdf7f91e5fd7730e77\", element=\"d50c5de5-c7d9-4351-831d-468ceacb1810\")>,\n",
       " <selenium.webdriver.remote.webelement.WebElement (session=\"5f08a55978b39bbdf7f91e5fd7730e77\", element=\"93c47361-b2d5-495e-82c0-1b44f154926c\")>,\n",
       " <selenium.webdriver.remote.webelement.WebElement (session=\"5f08a55978b39bbdf7f91e5fd7730e77\", element=\"613d2619-e55c-45a8-a8cc-7ef9c09d0cb0\")>,\n",
       " <selenium.webdriver.remote.webelement.WebElement (session=\"5f08a55978b39bbdf7f91e5fd7730e77\", element=\"025b0e29-249b-4cca-80b3-2e9937ba586e\")>,\n",
       " <selenium.webdriver.remote.webelement.WebElement (session=\"5f08a55978b39bbdf7f91e5fd7730e77\", element=\"7790ffce-234c-46c6-9aa6-126f32a7d804\")>,\n",
       " <selenium.webdriver.remote.webelement.WebElement (session=\"5f08a55978b39bbdf7f91e5fd7730e77\", element=\"a6c9a7b4-94a7-4c59-8eae-37b29e861ac1\")>]"
      ]
     },
     "execution_count": 169,
     "metadata": {},
     "output_type": "execute_result"
    }
   ],
   "source": [
    "title_tags=driver1.find_elements_by_xpath(\"//a[@class='title fw500 ellipsis']\")\n",
    "title_tags"
   ]
  },
  {
   "cell_type": "code",
   "execution_count": 170,
   "metadata": {},
   "outputs": [
    {
     "data": {
      "text/plain": [
       "['Business Data Analyst',\n",
       " 'Business Data Analyst',\n",
       " 'Senior Data Analyst IDAM Services',\n",
       " 'Data Analyst/Sr.Data Engineer',\n",
       " 'Business Data Analyst - Google Data Studio & SQL',\n",
       " 'Data Analyst - Python/SQL',\n",
       " 'Executive Data Analyst',\n",
       " 'Senior Data Analyst',\n",
       " 'Systems and Data Analyst, Safety and Provisioning',\n",
       " 'Data Analyst with SQL',\n",
       " 'Data Analyst',\n",
       " 'Business Data Analyst - MIS & Reporting',\n",
       " 'Data Analyst - EdTech',\n",
       " 'Lead , Data Analyst',\n",
       " 'Data Analyst with SAS & Python',\n",
       " 'Data Analyst',\n",
       " 'Data Analyst',\n",
       " 'Data Analyst',\n",
       " 'Data Analyst - I/II',\n",
       " 'Senior Data Analyst']"
      ]
     },
     "execution_count": 170,
     "metadata": {},
     "output_type": "execute_result"
    }
   ],
   "source": [
    "Job_titles1=[]\n",
    "\n",
    "for i in title_tags:\n",
    "    Job_titles1.append(i.text)\n",
    "    \n",
    "Job_titles1"
   ]
  },
  {
   "cell_type": "code",
   "execution_count": 171,
   "metadata": {},
   "outputs": [
    {
     "data": {
      "text/plain": [
       "[<selenium.webdriver.remote.webelement.WebElement (session=\"5f08a55978b39bbdf7f91e5fd7730e77\", element=\"d94b2653-8321-4376-abc5-fc20d0a940ec\")>,\n",
       " <selenium.webdriver.remote.webelement.WebElement (session=\"5f08a55978b39bbdf7f91e5fd7730e77\", element=\"6dcb5918-98a5-429c-a03b-cfa61f02958c\")>,\n",
       " <selenium.webdriver.remote.webelement.WebElement (session=\"5f08a55978b39bbdf7f91e5fd7730e77\", element=\"dcd42b8c-dead-42c2-a42d-30814c848c83\")>,\n",
       " <selenium.webdriver.remote.webelement.WebElement (session=\"5f08a55978b39bbdf7f91e5fd7730e77\", element=\"e226623e-f52d-46bf-8a9f-ff4f1999c899\")>,\n",
       " <selenium.webdriver.remote.webelement.WebElement (session=\"5f08a55978b39bbdf7f91e5fd7730e77\", element=\"2a24972a-42f0-4695-b891-f67e90304a31\")>,\n",
       " <selenium.webdriver.remote.webelement.WebElement (session=\"5f08a55978b39bbdf7f91e5fd7730e77\", element=\"0b83a632-478e-413f-aacb-362f4985a4d5\")>,\n",
       " <selenium.webdriver.remote.webelement.WebElement (session=\"5f08a55978b39bbdf7f91e5fd7730e77\", element=\"b9ed6c2d-e06d-4fef-9f78-cf3390f9063d\")>,\n",
       " <selenium.webdriver.remote.webelement.WebElement (session=\"5f08a55978b39bbdf7f91e5fd7730e77\", element=\"ba15c35b-5456-4d0f-940d-ddf211d7a0b8\")>,\n",
       " <selenium.webdriver.remote.webelement.WebElement (session=\"5f08a55978b39bbdf7f91e5fd7730e77\", element=\"8bcf5919-93d2-4017-9237-92834fcb9924\")>,\n",
       " <selenium.webdriver.remote.webelement.WebElement (session=\"5f08a55978b39bbdf7f91e5fd7730e77\", element=\"0b097644-ad7d-445e-917f-429073d915cf\")>,\n",
       " <selenium.webdriver.remote.webelement.WebElement (session=\"5f08a55978b39bbdf7f91e5fd7730e77\", element=\"344b606e-34d1-4353-9b64-419e9cdaf730\")>,\n",
       " <selenium.webdriver.remote.webelement.WebElement (session=\"5f08a55978b39bbdf7f91e5fd7730e77\", element=\"00a4e0b0-e60b-4188-b5da-45d69a39f338\")>,\n",
       " <selenium.webdriver.remote.webelement.WebElement (session=\"5f08a55978b39bbdf7f91e5fd7730e77\", element=\"e75cfb7d-a3d3-4139-9261-8a65f6eb9e3c\")>,\n",
       " <selenium.webdriver.remote.webelement.WebElement (session=\"5f08a55978b39bbdf7f91e5fd7730e77\", element=\"7c6412f8-ac41-49e6-ade0-f8e274d7421a\")>,\n",
       " <selenium.webdriver.remote.webelement.WebElement (session=\"5f08a55978b39bbdf7f91e5fd7730e77\", element=\"0247d65d-b866-4cee-9658-34ea50025339\")>,\n",
       " <selenium.webdriver.remote.webelement.WebElement (session=\"5f08a55978b39bbdf7f91e5fd7730e77\", element=\"ab5564a9-a227-4f39-84ab-9a065a44178d\")>,\n",
       " <selenium.webdriver.remote.webelement.WebElement (session=\"5f08a55978b39bbdf7f91e5fd7730e77\", element=\"27d825f1-86de-4e88-9a8d-671530a8d1d1\")>,\n",
       " <selenium.webdriver.remote.webelement.WebElement (session=\"5f08a55978b39bbdf7f91e5fd7730e77\", element=\"3d7183e2-17f4-4bbb-8663-cdaed41ca3ba\")>,\n",
       " <selenium.webdriver.remote.webelement.WebElement (session=\"5f08a55978b39bbdf7f91e5fd7730e77\", element=\"27438129-7104-420f-887f-dba236fb57bf\")>,\n",
       " <selenium.webdriver.remote.webelement.WebElement (session=\"5f08a55978b39bbdf7f91e5fd7730e77\", element=\"188116ac-a32a-445a-836c-263cc98fd3b7\")>]"
      ]
     },
     "execution_count": 171,
     "metadata": {},
     "output_type": "execute_result"
    }
   ],
   "source": [
    "loc_tags=driver1.find_elements_by_xpath(\"//li[@class='fleft grey-text br2 placeHolderLi location']\")\n",
    "loc_tags"
   ]
  },
  {
   "cell_type": "code",
   "execution_count": 172,
   "metadata": {},
   "outputs": [
    {
     "data": {
      "text/plain": [
       "['Bangalore/Bengaluru',\n",
       " 'Bangalore/Bengaluru',\n",
       " 'Bangalore/Bengaluru',\n",
       " 'Hyderabad/Secunderabad, Chennai, Bangalore/Bengaluru\\n(WFH during Covid)',\n",
       " 'Bangalore/Bengaluru',\n",
       " 'Bangalore/Bengaluru',\n",
       " 'Bangalore/Bengaluru',\n",
       " 'Hyderabad/Secunderabad, Pune, Gurgaon/Gurugram, Chennai, Bangalore/Bengaluru, Mumbai (All Areas)\\n(WFH during Covid)',\n",
       " 'Bangalore/Bengaluru',\n",
       " 'Noida, Gurgaon/Gurugram, Bangalore/Bengaluru',\n",
       " 'Bengaluru/Bangalore',\n",
       " 'Mumbai, Bangalore/Bengaluru',\n",
       " 'Bangalore/Bengaluru',\n",
       " 'Bangalore/Bengaluru',\n",
       " 'Gurgaon/Gurugram, Chennai, Bangalore',\n",
       " 'Bangalore/Bengaluru',\n",
       " 'Gurgaon/Gurugram, Bangalore/Bengaluru, Mumbai (All Areas)',\n",
       " 'Bangalore/Bengaluru(Indira Nagar)',\n",
       " 'Bangalore/Bengaluru',\n",
       " 'Bangalore/Bengaluru']"
      ]
     },
     "execution_count": 172,
     "metadata": {},
     "output_type": "execute_result"
    }
   ],
   "source": [
    "Job_location1=[]\n",
    "\n",
    "\n",
    "for i in loc_tags:\n",
    "    Job_location1.append(i.text)\n",
    "    \n",
    "Job_location1"
   ]
  },
  {
   "cell_type": "code",
   "execution_count": 173,
   "metadata": {},
   "outputs": [
    {
     "data": {
      "text/plain": [
       "[<selenium.webdriver.remote.webelement.WebElement (session=\"5f08a55978b39bbdf7f91e5fd7730e77\", element=\"9edafd3b-ccba-40ff-9a43-be1ebf8d7488\")>,\n",
       " <selenium.webdriver.remote.webelement.WebElement (session=\"5f08a55978b39bbdf7f91e5fd7730e77\", element=\"55755408-421f-4b68-a391-f88c1fec0797\")>,\n",
       " <selenium.webdriver.remote.webelement.WebElement (session=\"5f08a55978b39bbdf7f91e5fd7730e77\", element=\"986aed4c-e72b-45b4-9ca2-e67172029575\")>,\n",
       " <selenium.webdriver.remote.webelement.WebElement (session=\"5f08a55978b39bbdf7f91e5fd7730e77\", element=\"91805e86-8b07-493a-96b0-83e7d563b004\")>,\n",
       " <selenium.webdriver.remote.webelement.WebElement (session=\"5f08a55978b39bbdf7f91e5fd7730e77\", element=\"1c8e328a-ecaf-473f-9ec3-87a7b973e58c\")>,\n",
       " <selenium.webdriver.remote.webelement.WebElement (session=\"5f08a55978b39bbdf7f91e5fd7730e77\", element=\"af8c443c-40fb-4951-af9c-24fd6e146b35\")>,\n",
       " <selenium.webdriver.remote.webelement.WebElement (session=\"5f08a55978b39bbdf7f91e5fd7730e77\", element=\"41e75ae9-6618-437d-be80-130e3fbafa50\")>,\n",
       " <selenium.webdriver.remote.webelement.WebElement (session=\"5f08a55978b39bbdf7f91e5fd7730e77\", element=\"2788e1dd-93a3-4119-b8bf-a6eb9a283f98\")>,\n",
       " <selenium.webdriver.remote.webelement.WebElement (session=\"5f08a55978b39bbdf7f91e5fd7730e77\", element=\"d65ec0db-8eea-48d5-b883-ae9e55144ef1\")>,\n",
       " <selenium.webdriver.remote.webelement.WebElement (session=\"5f08a55978b39bbdf7f91e5fd7730e77\", element=\"8c2a8534-7008-4dfc-8c7a-8191b4d02671\")>,\n",
       " <selenium.webdriver.remote.webelement.WebElement (session=\"5f08a55978b39bbdf7f91e5fd7730e77\", element=\"e5d86ebe-4376-4221-aedd-d334a0990216\")>,\n",
       " <selenium.webdriver.remote.webelement.WebElement (session=\"5f08a55978b39bbdf7f91e5fd7730e77\", element=\"da102375-1efb-49ff-87f5-7dab17ff2639\")>,\n",
       " <selenium.webdriver.remote.webelement.WebElement (session=\"5f08a55978b39bbdf7f91e5fd7730e77\", element=\"64f04201-1c8f-4616-a44e-19cfe136b2f2\")>,\n",
       " <selenium.webdriver.remote.webelement.WebElement (session=\"5f08a55978b39bbdf7f91e5fd7730e77\", element=\"4acd2540-282a-49e0-881a-7b9156bef566\")>,\n",
       " <selenium.webdriver.remote.webelement.WebElement (session=\"5f08a55978b39bbdf7f91e5fd7730e77\", element=\"9f6ece27-2aae-4e7f-be59-752f23247c71\")>,\n",
       " <selenium.webdriver.remote.webelement.WebElement (session=\"5f08a55978b39bbdf7f91e5fd7730e77\", element=\"eb91f81c-e0fe-4c94-b892-2537d31fe521\")>,\n",
       " <selenium.webdriver.remote.webelement.WebElement (session=\"5f08a55978b39bbdf7f91e5fd7730e77\", element=\"df92b657-a184-4718-a0d8-52fbbc5fe005\")>,\n",
       " <selenium.webdriver.remote.webelement.WebElement (session=\"5f08a55978b39bbdf7f91e5fd7730e77\", element=\"70ec29f2-0c95-4d00-b252-c207fe635157\")>,\n",
       " <selenium.webdriver.remote.webelement.WebElement (session=\"5f08a55978b39bbdf7f91e5fd7730e77\", element=\"47f38ec0-4eee-4a58-b98d-63bc645d4117\")>,\n",
       " <selenium.webdriver.remote.webelement.WebElement (session=\"5f08a55978b39bbdf7f91e5fd7730e77\", element=\"f957750b-0dba-4482-8ea9-8cfea81a3967\")>]"
      ]
     },
     "execution_count": 173,
     "metadata": {},
     "output_type": "execute_result"
    }
   ],
   "source": [
    "comname_tags=driver1.find_elements_by_xpath(\"//a[@class='subTitle ellipsis fleft']\")\n",
    "comname_tags"
   ]
  },
  {
   "cell_type": "code",
   "execution_count": 174,
   "metadata": {},
   "outputs": [
    {
     "data": {
      "text/plain": [
       "['Trigent Software',\n",
       " 'Trigent Software',\n",
       " 'GlaxoSmithKline Pharmaceuticals Limited',\n",
       " 'SYREN TECHNOLOGIES PRIVATE LIMITED',\n",
       " 'AVE-Promagne',\n",
       " 'Affine',\n",
       " 'Gokaldas Exports Ltd',\n",
       " 'Virtusa Consulting Services Pvt Ltd',\n",
       " 'AECOM India Private Limited',\n",
       " 'Wipro Limited',\n",
       " 'IBM India Pvt. Limited',\n",
       " 'INTERTRUST GROUP',\n",
       " 'TalentStack',\n",
       " 'Near Pte. Ltd.',\n",
       " 'Podium Systems',\n",
       " 'Coda Payments',\n",
       " 'FedEx Express',\n",
       " 'Supertails',\n",
       " 'Philips India Limited',\n",
       " 'IDC Corporate']"
      ]
     },
     "execution_count": 174,
     "metadata": {},
     "output_type": "execute_result"
    }
   ],
   "source": [
    "Company_Name1=[]\n",
    "\n",
    "for i in comname_tags:\n",
    "    Company_Name1.append(i.text)\n",
    "    \n",
    "Company_Name1"
   ]
  },
  {
   "cell_type": "code",
   "execution_count": 175,
   "metadata": {},
   "outputs": [
    {
     "data": {
      "text/plain": [
       "[<selenium.webdriver.remote.webelement.WebElement (session=\"5f08a55978b39bbdf7f91e5fd7730e77\", element=\"75756e3a-475a-4482-a547-187ed0604e39\")>,\n",
       " <selenium.webdriver.remote.webelement.WebElement (session=\"5f08a55978b39bbdf7f91e5fd7730e77\", element=\"d156db34-b2a2-4cb5-95ee-c5d89d584d4b\")>,\n",
       " <selenium.webdriver.remote.webelement.WebElement (session=\"5f08a55978b39bbdf7f91e5fd7730e77\", element=\"457db5d6-1d29-46db-b324-31a7a8b35065\")>,\n",
       " <selenium.webdriver.remote.webelement.WebElement (session=\"5f08a55978b39bbdf7f91e5fd7730e77\", element=\"336424dc-5146-47f5-ba84-f60efa3efe2e\")>,\n",
       " <selenium.webdriver.remote.webelement.WebElement (session=\"5f08a55978b39bbdf7f91e5fd7730e77\", element=\"d11502a7-0048-4797-8fc4-d10a363c878a\")>,\n",
       " <selenium.webdriver.remote.webelement.WebElement (session=\"5f08a55978b39bbdf7f91e5fd7730e77\", element=\"7fd9f1ec-40c6-4fb4-b806-6b8e7515a1f0\")>,\n",
       " <selenium.webdriver.remote.webelement.WebElement (session=\"5f08a55978b39bbdf7f91e5fd7730e77\", element=\"efa63260-3b8b-4627-8f87-d2c8ef0e8c95\")>,\n",
       " <selenium.webdriver.remote.webelement.WebElement (session=\"5f08a55978b39bbdf7f91e5fd7730e77\", element=\"07087f0f-012e-4da4-a9be-61cca6bb2147\")>,\n",
       " <selenium.webdriver.remote.webelement.WebElement (session=\"5f08a55978b39bbdf7f91e5fd7730e77\", element=\"030c658b-2247-41db-85fc-bcaec99c8d1d\")>,\n",
       " <selenium.webdriver.remote.webelement.WebElement (session=\"5f08a55978b39bbdf7f91e5fd7730e77\", element=\"996afb62-d211-43b6-9b94-3efc9148b50f\")>,\n",
       " <selenium.webdriver.remote.webelement.WebElement (session=\"5f08a55978b39bbdf7f91e5fd7730e77\", element=\"1fff9781-f428-4920-a87a-f96d000741a2\")>,\n",
       " <selenium.webdriver.remote.webelement.WebElement (session=\"5f08a55978b39bbdf7f91e5fd7730e77\", element=\"5f992c20-9ff6-4a47-9f9c-725598b4b26b\")>,\n",
       " <selenium.webdriver.remote.webelement.WebElement (session=\"5f08a55978b39bbdf7f91e5fd7730e77\", element=\"020d3b1b-da12-4cdf-b5d8-947c8bfbeedb\")>,\n",
       " <selenium.webdriver.remote.webelement.WebElement (session=\"5f08a55978b39bbdf7f91e5fd7730e77\", element=\"2aba87af-e17f-4878-b044-3636c4f31cc5\")>,\n",
       " <selenium.webdriver.remote.webelement.WebElement (session=\"5f08a55978b39bbdf7f91e5fd7730e77\", element=\"37df8440-6de1-468d-9132-db74c69a0e8a\")>,\n",
       " <selenium.webdriver.remote.webelement.WebElement (session=\"5f08a55978b39bbdf7f91e5fd7730e77\", element=\"222d5f66-1429-4a3a-862c-22ad3c619a60\")>,\n",
       " <selenium.webdriver.remote.webelement.WebElement (session=\"5f08a55978b39bbdf7f91e5fd7730e77\", element=\"512c3282-d93c-41c8-b9ff-267c80e53a01\")>,\n",
       " <selenium.webdriver.remote.webelement.WebElement (session=\"5f08a55978b39bbdf7f91e5fd7730e77\", element=\"48b66ab0-34dc-460d-9961-b827aa98b052\")>,\n",
       " <selenium.webdriver.remote.webelement.WebElement (session=\"5f08a55978b39bbdf7f91e5fd7730e77\", element=\"764a3c08-f4a1-46ce-9fc2-d7e0c5431a53\")>,\n",
       " <selenium.webdriver.remote.webelement.WebElement (session=\"5f08a55978b39bbdf7f91e5fd7730e77\", element=\"3920cff7-7611-4ed5-b0ec-64e9de3efabe\")>]"
      ]
     },
     "execution_count": 175,
     "metadata": {},
     "output_type": "execute_result"
    }
   ],
   "source": [
    "exp_tags=driver1.find_elements_by_xpath(\"//li[@class='fleft grey-text br2 placeHolderLi experience']\")\n",
    "exp_tags"
   ]
  },
  {
   "cell_type": "code",
   "execution_count": 176,
   "metadata": {},
   "outputs": [
    {
     "data": {
      "text/plain": [
       "['5-10 Yrs',\n",
       " '5-10 Yrs',\n",
       " '4-8 Yrs',\n",
       " '4-9 Yrs',\n",
       " '3-8 Yrs',\n",
       " '3-5 Yrs',\n",
       " '0-3 Yrs',\n",
       " '8-12 Yrs',\n",
       " '2-7 Yrs',\n",
       " '3-5 Yrs',\n",
       " '1-4 Yrs',\n",
       " '3-8 Yrs',\n",
       " '2-6 Yrs',\n",
       " '6-11 Yrs',\n",
       " '4-7 Yrs',\n",
       " '3-4 Yrs',\n",
       " '2-6 Yrs',\n",
       " '1-3 Yrs',\n",
       " '3-6 Yrs',\n",
       " '3-6 Yrs']"
      ]
     },
     "execution_count": 176,
     "metadata": {},
     "output_type": "execute_result"
    }
   ],
   "source": [
    "Experience_Req1=[]\n",
    "\n",
    "for i in exp_tags:\n",
    "    Experience_Req1.append(i.text)\n",
    "    \n",
    "Experience_Req1"
   ]
  },
  {
   "cell_type": "code",
   "execution_count": 177,
   "metadata": {},
   "outputs": [],
   "source": [
    "df=pd.DataFrame()"
   ]
  },
  {
   "cell_type": "code",
   "execution_count": 179,
   "metadata": {},
   "outputs": [
    {
     "data": {
      "text/html": [
       "<div>\n",
       "<style scoped>\n",
       "    .dataframe tbody tr th:only-of-type {\n",
       "        vertical-align: middle;\n",
       "    }\n",
       "\n",
       "    .dataframe tbody tr th {\n",
       "        vertical-align: top;\n",
       "    }\n",
       "\n",
       "    .dataframe thead th {\n",
       "        text-align: right;\n",
       "    }\n",
       "</style>\n",
       "<table border=\"1\" class=\"dataframe\">\n",
       "  <thead>\n",
       "    <tr style=\"text-align: right;\">\n",
       "      <th></th>\n",
       "      <th>Company-name</th>\n",
       "      <th>Job-Title</th>\n",
       "      <th>Job-location</th>\n",
       "      <th>Exp-req</th>\n",
       "    </tr>\n",
       "  </thead>\n",
       "  <tbody>\n",
       "    <tr>\n",
       "      <th>0</th>\n",
       "      <td>Trigent Software</td>\n",
       "      <td>Business Data Analyst</td>\n",
       "      <td>Bangalore/Bengaluru</td>\n",
       "      <td>5-10 Yrs</td>\n",
       "    </tr>\n",
       "    <tr>\n",
       "      <th>1</th>\n",
       "      <td>Trigent Software</td>\n",
       "      <td>Business Data Analyst</td>\n",
       "      <td>Bangalore/Bengaluru</td>\n",
       "      <td>5-10 Yrs</td>\n",
       "    </tr>\n",
       "    <tr>\n",
       "      <th>2</th>\n",
       "      <td>GlaxoSmithKline Pharmaceuticals Limited</td>\n",
       "      <td>Senior Data Analyst IDAM Services</td>\n",
       "      <td>Bangalore/Bengaluru</td>\n",
       "      <td>4-8 Yrs</td>\n",
       "    </tr>\n",
       "    <tr>\n",
       "      <th>3</th>\n",
       "      <td>SYREN TECHNOLOGIES PRIVATE LIMITED</td>\n",
       "      <td>Data Analyst/Sr.Data Engineer</td>\n",
       "      <td>Hyderabad/Secunderabad, Chennai, Bangalore/Ben...</td>\n",
       "      <td>4-9 Yrs</td>\n",
       "    </tr>\n",
       "    <tr>\n",
       "      <th>4</th>\n",
       "      <td>AVE-Promagne</td>\n",
       "      <td>Business Data Analyst - Google Data Studio &amp; SQL</td>\n",
       "      <td>Bangalore/Bengaluru</td>\n",
       "      <td>3-8 Yrs</td>\n",
       "    </tr>\n",
       "    <tr>\n",
       "      <th>5</th>\n",
       "      <td>Affine</td>\n",
       "      <td>Data Analyst - Python/SQL</td>\n",
       "      <td>Bangalore/Bengaluru</td>\n",
       "      <td>3-5 Yrs</td>\n",
       "    </tr>\n",
       "    <tr>\n",
       "      <th>6</th>\n",
       "      <td>Gokaldas Exports Ltd</td>\n",
       "      <td>Executive Data Analyst</td>\n",
       "      <td>Bangalore/Bengaluru</td>\n",
       "      <td>0-3 Yrs</td>\n",
       "    </tr>\n",
       "    <tr>\n",
       "      <th>7</th>\n",
       "      <td>Virtusa Consulting Services Pvt Ltd</td>\n",
       "      <td>Senior Data Analyst</td>\n",
       "      <td>Hyderabad/Secunderabad, Pune, Gurgaon/Gurugram...</td>\n",
       "      <td>8-12 Yrs</td>\n",
       "    </tr>\n",
       "    <tr>\n",
       "      <th>8</th>\n",
       "      <td>AECOM India Private Limited</td>\n",
       "      <td>Systems and Data Analyst, Safety and Provisioning</td>\n",
       "      <td>Bangalore/Bengaluru</td>\n",
       "      <td>2-7 Yrs</td>\n",
       "    </tr>\n",
       "    <tr>\n",
       "      <th>9</th>\n",
       "      <td>Wipro Limited</td>\n",
       "      <td>Data Analyst with SQL</td>\n",
       "      <td>Noida, Gurgaon/Gurugram, Bangalore/Bengaluru</td>\n",
       "      <td>3-5 Yrs</td>\n",
       "    </tr>\n",
       "  </tbody>\n",
       "</table>\n",
       "</div>"
      ],
      "text/plain": [
       "                              Company-name  \\\n",
       "0                         Trigent Software   \n",
       "1                         Trigent Software   \n",
       "2  GlaxoSmithKline Pharmaceuticals Limited   \n",
       "3       SYREN TECHNOLOGIES PRIVATE LIMITED   \n",
       "4                             AVE-Promagne   \n",
       "5                                   Affine   \n",
       "6                     Gokaldas Exports Ltd   \n",
       "7      Virtusa Consulting Services Pvt Ltd   \n",
       "8              AECOM India Private Limited   \n",
       "9                            Wipro Limited   \n",
       "\n",
       "                                           Job-Title  \\\n",
       "0                              Business Data Analyst   \n",
       "1                              Business Data Analyst   \n",
       "2                  Senior Data Analyst IDAM Services   \n",
       "3                      Data Analyst/Sr.Data Engineer   \n",
       "4   Business Data Analyst - Google Data Studio & SQL   \n",
       "5                          Data Analyst - Python/SQL   \n",
       "6                             Executive Data Analyst   \n",
       "7                                Senior Data Analyst   \n",
       "8  Systems and Data Analyst, Safety and Provisioning   \n",
       "9                              Data Analyst with SQL   \n",
       "\n",
       "                                        Job-location   Exp-req  \n",
       "0                                Bangalore/Bengaluru  5-10 Yrs  \n",
       "1                                Bangalore/Bengaluru  5-10 Yrs  \n",
       "2                                Bangalore/Bengaluru   4-8 Yrs  \n",
       "3  Hyderabad/Secunderabad, Chennai, Bangalore/Ben...   4-9 Yrs  \n",
       "4                                Bangalore/Bengaluru   3-8 Yrs  \n",
       "5                                Bangalore/Bengaluru   3-5 Yrs  \n",
       "6                                Bangalore/Bengaluru   0-3 Yrs  \n",
       "7  Hyderabad/Secunderabad, Pune, Gurgaon/Gurugram...  8-12 Yrs  \n",
       "8                                Bangalore/Bengaluru   2-7 Yrs  \n",
       "9       Noida, Gurgaon/Gurugram, Bangalore/Bengaluru   3-5 Yrs  "
      ]
     },
     "execution_count": 179,
     "metadata": {},
     "output_type": "execute_result"
    }
   ],
   "source": [
    "df['Job-Title']=Job_titles1\n",
    "df['Job-location']=Job_location1\n",
    "df['Company-name']=Company_Name1\n",
    "df['Exp-req']=Experience_Req1\n",
    "\n",
    "df[0:10]"
   ]
  },
  {
   "cell_type": "markdown",
   "metadata": {},
   "source": [
    "# Q2: Write a python program to scrape data for “Data Scientist” Job position in \n",
    "“Bangalore” location. You have to scrape the job-title, job-location,\n",
    "company_name, full job-description. You have to scrape first 10 jobs data."
   ]
  },
  {
   "cell_type": "code",
   "execution_count": 180,
   "metadata": {},
   "outputs": [],
   "source": [
    "driver2=webdriver.Chrome('chromedriver.exe')"
   ]
  },
  {
   "cell_type": "code",
   "execution_count": 181,
   "metadata": {},
   "outputs": [],
   "source": [
    "url2='https://www.naukri.com/'\n",
    "driver2.get(url2)"
   ]
  },
  {
   "cell_type": "code",
   "execution_count": 182,
   "metadata": {},
   "outputs": [
    {
     "data": {
      "text/plain": [
       "<selenium.webdriver.remote.webelement.WebElement (session=\"659630a5e1428e997ea5db6c5ecc703e\", element=\"ec0e8086-3290-4b37-8173-66ce9f145711\")>"
      ]
     },
     "execution_count": 182,
     "metadata": {},
     "output_type": "execute_result"
    }
   ],
   "source": [
    "search_jobs2=driver2.find_element_by_name('keyword')\n",
    "search_jobs2"
   ]
  },
  {
   "cell_type": "code",
   "execution_count": 183,
   "metadata": {},
   "outputs": [],
   "source": [
    "search_jobs2.send_keys('Data Scientist')"
   ]
  },
  {
   "cell_type": "code",
   "execution_count": 184,
   "metadata": {},
   "outputs": [
    {
     "data": {
      "text/plain": [
       "<selenium.webdriver.remote.webelement.WebElement (session=\"659630a5e1428e997ea5db6c5ecc703e\", element=\"f39960c7-b879-457b-8356-a4ec27179d62\")>"
      ]
     },
     "execution_count": 184,
     "metadata": {},
     "output_type": "execute_result"
    }
   ],
   "source": [
    "search_loc2=driver2.find_element_by_name('location')\n",
    "search_loc2"
   ]
  },
  {
   "cell_type": "code",
   "execution_count": 185,
   "metadata": {},
   "outputs": [],
   "source": [
    "search_loc2.send_keys('Bangalore')"
   ]
  },
  {
   "cell_type": "code",
   "execution_count": 186,
   "metadata": {},
   "outputs": [
    {
     "data": {
      "text/plain": [
       "<selenium.webdriver.remote.webelement.WebElement (session=\"659630a5e1428e997ea5db6c5ecc703e\", element=\"b494b2c8-c1c4-47df-92d0-dcc66708d434\")>"
      ]
     },
     "execution_count": 186,
     "metadata": {},
     "output_type": "execute_result"
    }
   ],
   "source": [
    "search_btn=driver2.find_element_by_xpath(\"//button[@class='btn']\")\n",
    "search_btn"
   ]
  },
  {
   "cell_type": "code",
   "execution_count": 187,
   "metadata": {},
   "outputs": [],
   "source": [
    "search_btn.click()"
   ]
  },
  {
   "cell_type": "code",
   "execution_count": 188,
   "metadata": {},
   "outputs": [],
   "source": [
    "time.sleep(10)"
   ]
  },
  {
   "cell_type": "code",
   "execution_count": 189,
   "metadata": {},
   "outputs": [
    {
     "data": {
      "text/plain": [
       "[<selenium.webdriver.remote.webelement.WebElement (session=\"659630a5e1428e997ea5db6c5ecc703e\", element=\"399b4e0b-5398-4fae-a694-fdb0ec83cf56\")>,\n",
       " <selenium.webdriver.remote.webelement.WebElement (session=\"659630a5e1428e997ea5db6c5ecc703e\", element=\"3af6e49a-3cac-4a74-b047-6b6081be5961\")>,\n",
       " <selenium.webdriver.remote.webelement.WebElement (session=\"659630a5e1428e997ea5db6c5ecc703e\", element=\"60c7a65c-6351-49f0-938f-f32a92bb3f27\")>,\n",
       " <selenium.webdriver.remote.webelement.WebElement (session=\"659630a5e1428e997ea5db6c5ecc703e\", element=\"6de08048-1f8a-4868-bee9-072be2c59eae\")>,\n",
       " <selenium.webdriver.remote.webelement.WebElement (session=\"659630a5e1428e997ea5db6c5ecc703e\", element=\"cecc57c3-fec2-40e0-8d12-691382c90c77\")>,\n",
       " <selenium.webdriver.remote.webelement.WebElement (session=\"659630a5e1428e997ea5db6c5ecc703e\", element=\"988e4bfd-af29-4143-bb43-63c09ba99cd6\")>,\n",
       " <selenium.webdriver.remote.webelement.WebElement (session=\"659630a5e1428e997ea5db6c5ecc703e\", element=\"c0572fb1-aa8b-484d-94c0-7e33a60b97b8\")>,\n",
       " <selenium.webdriver.remote.webelement.WebElement (session=\"659630a5e1428e997ea5db6c5ecc703e\", element=\"dd808764-aec0-4fae-991e-58190f22fcb8\")>,\n",
       " <selenium.webdriver.remote.webelement.WebElement (session=\"659630a5e1428e997ea5db6c5ecc703e\", element=\"85618171-c52e-454c-ae25-c999afc0ad0c\")>,\n",
       " <selenium.webdriver.remote.webelement.WebElement (session=\"659630a5e1428e997ea5db6c5ecc703e\", element=\"53c0f23e-8e2e-42d8-bdee-bb75902ae618\")>,\n",
       " <selenium.webdriver.remote.webelement.WebElement (session=\"659630a5e1428e997ea5db6c5ecc703e\", element=\"56bcb47a-0e0d-4583-bc9e-eb6b7c827749\")>,\n",
       " <selenium.webdriver.remote.webelement.WebElement (session=\"659630a5e1428e997ea5db6c5ecc703e\", element=\"6fd35da6-e655-4b5b-92bb-f7b4bae61883\")>,\n",
       " <selenium.webdriver.remote.webelement.WebElement (session=\"659630a5e1428e997ea5db6c5ecc703e\", element=\"69c9fcb1-9d6d-496d-a3fe-eef04807d037\")>,\n",
       " <selenium.webdriver.remote.webelement.WebElement (session=\"659630a5e1428e997ea5db6c5ecc703e\", element=\"d86793e4-84b4-412e-a85a-a86a1cebf037\")>,\n",
       " <selenium.webdriver.remote.webelement.WebElement (session=\"659630a5e1428e997ea5db6c5ecc703e\", element=\"7df95348-f7e6-47ff-a71d-11be177c1b64\")>,\n",
       " <selenium.webdriver.remote.webelement.WebElement (session=\"659630a5e1428e997ea5db6c5ecc703e\", element=\"81454dfd-dc86-4a24-962c-3d329030bb52\")>,\n",
       " <selenium.webdriver.remote.webelement.WebElement (session=\"659630a5e1428e997ea5db6c5ecc703e\", element=\"fc3bae64-e769-4a4f-bc89-3557bdd7e4cc\")>,\n",
       " <selenium.webdriver.remote.webelement.WebElement (session=\"659630a5e1428e997ea5db6c5ecc703e\", element=\"4a67bda7-5407-4b70-b0bb-68a98a87c8e2\")>,\n",
       " <selenium.webdriver.remote.webelement.WebElement (session=\"659630a5e1428e997ea5db6c5ecc703e\", element=\"b439ab99-a7f7-4908-bdbe-89e1a059f5b4\")>,\n",
       " <selenium.webdriver.remote.webelement.WebElement (session=\"659630a5e1428e997ea5db6c5ecc703e\", element=\"4cef934a-9a7e-4a1f-9201-05d09cdf61f7\")>]"
      ]
     },
     "execution_count": 189,
     "metadata": {},
     "output_type": "execute_result"
    }
   ],
   "source": [
    "title_tag2=driver2.find_elements_by_xpath(\"//a[@class='title fw500 ellipsis']\")\n",
    "title_tag2"
   ]
  },
  {
   "cell_type": "code",
   "execution_count": 190,
   "metadata": {},
   "outputs": [
    {
     "data": {
      "text/plain": [
       "['Lead Data Scientist BFSI',\n",
       " 'Data Scientist: Advanced Analytics',\n",
       " 'Senior Data Scientist',\n",
       " 'SENIOR DATA SCIENTIST',\n",
       " 'Requirement For Data Scientist - Mumbai & Bangalore',\n",
       " 'Hiring For Data Scientist / Statistical Analyst',\n",
       " 'Associate Data Scientist',\n",
       " 'Data Scientist',\n",
       " 'Data Scientist',\n",
       " 'Data Scientist',\n",
       " 'Data Scientist',\n",
       " 'Data Scientist',\n",
       " 'Cognitive Data Scientist',\n",
       " 'Data Scientist + Python + Big DATA',\n",
       " 'Senior Data Scientist, Payments compliance',\n",
       " 'Senior Data Scientist',\n",
       " 'Sr Data Scientist',\n",
       " 'Sr Data Scientist',\n",
       " 'Senior Data Scientist',\n",
       " 'Data Scientist (Python & SQL)']"
      ]
     },
     "execution_count": 190,
     "metadata": {},
     "output_type": "execute_result"
    }
   ],
   "source": [
    "Job_Title2=[]\n",
    "\n",
    "for i in title_tag2:\n",
    "    Job_Title2.append(i.text)\n",
    "    \n",
    "Job_Title2"
   ]
  },
  {
   "cell_type": "code",
   "execution_count": 191,
   "metadata": {},
   "outputs": [
    {
     "data": {
      "text/plain": [
       "[<selenium.webdriver.remote.webelement.WebElement (session=\"659630a5e1428e997ea5db6c5ecc703e\", element=\"151d7f16-5540-45f3-965e-f44c320c326c\")>,\n",
       " <selenium.webdriver.remote.webelement.WebElement (session=\"659630a5e1428e997ea5db6c5ecc703e\", element=\"5a4870fc-f902-4c8a-ade7-afff363949fe\")>,\n",
       " <selenium.webdriver.remote.webelement.WebElement (session=\"659630a5e1428e997ea5db6c5ecc703e\", element=\"b6e5eb94-7c5e-4a81-a12c-e3c042f675ff\")>,\n",
       " <selenium.webdriver.remote.webelement.WebElement (session=\"659630a5e1428e997ea5db6c5ecc703e\", element=\"b7fc90b8-a26c-4ff1-a5c5-8ff9bb18e3b9\")>,\n",
       " <selenium.webdriver.remote.webelement.WebElement (session=\"659630a5e1428e997ea5db6c5ecc703e\", element=\"600854c7-a34c-474c-8a0a-67c08a9840d9\")>,\n",
       " <selenium.webdriver.remote.webelement.WebElement (session=\"659630a5e1428e997ea5db6c5ecc703e\", element=\"0b78a0c3-c804-498d-888b-4a8d30e05eb8\")>,\n",
       " <selenium.webdriver.remote.webelement.WebElement (session=\"659630a5e1428e997ea5db6c5ecc703e\", element=\"46137c26-ddd4-4a77-bd0b-c811c7007776\")>,\n",
       " <selenium.webdriver.remote.webelement.WebElement (session=\"659630a5e1428e997ea5db6c5ecc703e\", element=\"c8dfa28e-f695-4fa6-9bd9-eea7847ecba3\")>,\n",
       " <selenium.webdriver.remote.webelement.WebElement (session=\"659630a5e1428e997ea5db6c5ecc703e\", element=\"e009ed94-d168-4ed0-87ec-b0d33d7152f8\")>,\n",
       " <selenium.webdriver.remote.webelement.WebElement (session=\"659630a5e1428e997ea5db6c5ecc703e\", element=\"b459e943-e15b-44a0-b295-3c8d3ebd3b16\")>,\n",
       " <selenium.webdriver.remote.webelement.WebElement (session=\"659630a5e1428e997ea5db6c5ecc703e\", element=\"f25986a8-111e-4c67-ada4-dbb42e68ae64\")>,\n",
       " <selenium.webdriver.remote.webelement.WebElement (session=\"659630a5e1428e997ea5db6c5ecc703e\", element=\"b6520aa6-d5ce-461c-95fc-13f9530b7aaf\")>,\n",
       " <selenium.webdriver.remote.webelement.WebElement (session=\"659630a5e1428e997ea5db6c5ecc703e\", element=\"f4778e33-1abe-4227-900c-2dbe6cf8b014\")>,\n",
       " <selenium.webdriver.remote.webelement.WebElement (session=\"659630a5e1428e997ea5db6c5ecc703e\", element=\"99086e54-e536-4c36-8e21-e8561ca5f918\")>,\n",
       " <selenium.webdriver.remote.webelement.WebElement (session=\"659630a5e1428e997ea5db6c5ecc703e\", element=\"e8bfddaf-bf56-41de-9891-a752393b1bd0\")>,\n",
       " <selenium.webdriver.remote.webelement.WebElement (session=\"659630a5e1428e997ea5db6c5ecc703e\", element=\"6b611757-8d5d-4e52-93f0-bee5d7f1a749\")>,\n",
       " <selenium.webdriver.remote.webelement.WebElement (session=\"659630a5e1428e997ea5db6c5ecc703e\", element=\"319055a1-cf36-4c28-8a4a-15b9ea53c5e1\")>,\n",
       " <selenium.webdriver.remote.webelement.WebElement (session=\"659630a5e1428e997ea5db6c5ecc703e\", element=\"56c246e2-fcd5-4ec4-a346-c2634050fc0c\")>,\n",
       " <selenium.webdriver.remote.webelement.WebElement (session=\"659630a5e1428e997ea5db6c5ecc703e\", element=\"11a5db11-548f-410f-8447-989fb50e146d\")>,\n",
       " <selenium.webdriver.remote.webelement.WebElement (session=\"659630a5e1428e997ea5db6c5ecc703e\", element=\"d761c9c2-f80f-4944-99d2-525665d643e1\")>]"
      ]
     },
     "execution_count": 191,
     "metadata": {},
     "output_type": "execute_result"
    }
   ],
   "source": [
    "loc_tag2=driver2.find_elements_by_xpath(\"//li[@class='fleft grey-text br2 placeHolderLi location']\")\n",
    "loc_tag2"
   ]
  },
  {
   "cell_type": "code",
   "execution_count": 192,
   "metadata": {},
   "outputs": [
    {
     "data": {
      "text/plain": [
       "['Bengaluru/Bangalore',\n",
       " 'Bengaluru/Bangalore',\n",
       " 'Bangalore/Bengaluru',\n",
       " 'Bangalore/Bengaluru',\n",
       " 'Bangalore/Bengaluru, Mumbai (All Areas)',\n",
       " 'Bangalore/Bengaluru',\n",
       " 'Bangalore/Bengaluru',\n",
       " 'Bangalore/Bengaluru\\n(WFH during Covid)',\n",
       " 'Bangalore/Bengaluru\\n(WFH during Covid)',\n",
       " 'Bangalore/Bengaluru',\n",
       " 'Bangalore/Bengaluru',\n",
       " 'Noida, Bangalore/Bengaluru',\n",
       " 'Bengaluru/Bangalore',\n",
       " 'Hyderabad/Secunderabad, Chennai, Bangalore/Bengaluru',\n",
       " 'Bangalore/Bengaluru',\n",
       " 'Bangalore/Bengaluru',\n",
       " 'Bengaluru/Bangalore',\n",
       " 'Bangalore/Bengaluru',\n",
       " 'Bangalore/Bengaluru',\n",
       " 'Hyderabad/Secunderabad, Chennai, Bangalore/Bengaluru']"
      ]
     },
     "execution_count": 192,
     "metadata": {},
     "output_type": "execute_result"
    }
   ],
   "source": [
    "Job_Location2=[]\n",
    "\n",
    "for i in loc_tag2:\n",
    "    Job_Location2.append(i.text)\n",
    "    \n",
    "Job_Location2"
   ]
  },
  {
   "cell_type": "code",
   "execution_count": 193,
   "metadata": {},
   "outputs": [
    {
     "data": {
      "text/plain": [
       "[<selenium.webdriver.remote.webelement.WebElement (session=\"659630a5e1428e997ea5db6c5ecc703e\", element=\"c201b452-8987-4111-bd78-f2c23502b3da\")>,\n",
       " <selenium.webdriver.remote.webelement.WebElement (session=\"659630a5e1428e997ea5db6c5ecc703e\", element=\"9997b7ca-1325-4d6c-bb99-e4fc5e29c863\")>,\n",
       " <selenium.webdriver.remote.webelement.WebElement (session=\"659630a5e1428e997ea5db6c5ecc703e\", element=\"c83b1736-7a0c-4d51-89ca-398606fbed6d\")>,\n",
       " <selenium.webdriver.remote.webelement.WebElement (session=\"659630a5e1428e997ea5db6c5ecc703e\", element=\"b4d9f784-cb37-463b-a7f5-4bea031057c1\")>,\n",
       " <selenium.webdriver.remote.webelement.WebElement (session=\"659630a5e1428e997ea5db6c5ecc703e\", element=\"03040353-11dd-462f-abca-ef63733279da\")>,\n",
       " <selenium.webdriver.remote.webelement.WebElement (session=\"659630a5e1428e997ea5db6c5ecc703e\", element=\"69a9b8be-9192-42a8-84a8-0b32b64dcb0d\")>,\n",
       " <selenium.webdriver.remote.webelement.WebElement (session=\"659630a5e1428e997ea5db6c5ecc703e\", element=\"aa0d47a3-beed-47b1-b3cb-b6f8f9c1762b\")>,\n",
       " <selenium.webdriver.remote.webelement.WebElement (session=\"659630a5e1428e997ea5db6c5ecc703e\", element=\"c10f4085-e6c9-4266-805c-004cf8fa5760\")>,\n",
       " <selenium.webdriver.remote.webelement.WebElement (session=\"659630a5e1428e997ea5db6c5ecc703e\", element=\"e3d2f11f-9ebf-4141-9ca3-7e69d5f9b485\")>,\n",
       " <selenium.webdriver.remote.webelement.WebElement (session=\"659630a5e1428e997ea5db6c5ecc703e\", element=\"84f46720-1d36-4319-bba0-aa473223bf9f\")>,\n",
       " <selenium.webdriver.remote.webelement.WebElement (session=\"659630a5e1428e997ea5db6c5ecc703e\", element=\"afc77c89-51e8-4b1a-b5ab-004f5bd51052\")>,\n",
       " <selenium.webdriver.remote.webelement.WebElement (session=\"659630a5e1428e997ea5db6c5ecc703e\", element=\"8238b6e3-898b-4f5d-9098-93cd59347284\")>,\n",
       " <selenium.webdriver.remote.webelement.WebElement (session=\"659630a5e1428e997ea5db6c5ecc703e\", element=\"bfdfac8b-3594-482c-829e-ff1817cab641\")>,\n",
       " <selenium.webdriver.remote.webelement.WebElement (session=\"659630a5e1428e997ea5db6c5ecc703e\", element=\"8ca5bef1-2dcb-4118-ac48-d188a7dd7793\")>,\n",
       " <selenium.webdriver.remote.webelement.WebElement (session=\"659630a5e1428e997ea5db6c5ecc703e\", element=\"0674c49e-9e96-4456-a89b-f50117e13e07\")>,\n",
       " <selenium.webdriver.remote.webelement.WebElement (session=\"659630a5e1428e997ea5db6c5ecc703e\", element=\"dbd44280-ec40-4594-92f1-27e2cef05aee\")>,\n",
       " <selenium.webdriver.remote.webelement.WebElement (session=\"659630a5e1428e997ea5db6c5ecc703e\", element=\"fb40c6a3-d373-440b-b91b-15529972adc9\")>,\n",
       " <selenium.webdriver.remote.webelement.WebElement (session=\"659630a5e1428e997ea5db6c5ecc703e\", element=\"501f5f38-cf37-4f6f-9727-ebf7160ad909\")>,\n",
       " <selenium.webdriver.remote.webelement.WebElement (session=\"659630a5e1428e997ea5db6c5ecc703e\", element=\"ba964093-7ffd-4ee3-8eab-01c091638841\")>,\n",
       " <selenium.webdriver.remote.webelement.WebElement (session=\"659630a5e1428e997ea5db6c5ecc703e\", element=\"39d1fb0d-f6ab-49cc-ac86-fbc7e0e679a8\")>]"
      ]
     },
     "execution_count": 193,
     "metadata": {},
     "output_type": "execute_result"
    }
   ],
   "source": [
    "comname_tag2=driver2.find_elements_by_xpath(\"//a[@class='subTitle ellipsis fleft']\")\n",
    "comname_tag2"
   ]
  },
  {
   "cell_type": "code",
   "execution_count": 194,
   "metadata": {},
   "outputs": [
    {
     "data": {
      "text/plain": [
       "['IBM India Pvt. Limited',\n",
       " 'IBM India Pvt. Limited',\n",
       " 'Airbnb',\n",
       " 'Happiest Minds Technologies Pvt.Ltd',\n",
       " 'CRISIL LIMITED',\n",
       " 'ManpowerGroup Services India Private Limited',\n",
       " 'Philips India Limited',\n",
       " 'NeenOpal Intelligent Solutions Private Limited',\n",
       " 'PRESCIENCE DECISION SOLUTIONS PRIVATE LIMITED',\n",
       " 'ELPIS IT SOLUTIONS PVT LTD',\n",
       " 'ELPIS IT SOLUTIONS PVT LTD',\n",
       " 'Oracle India Pvt. Ltd.',\n",
       " 'IBM India Pvt. Limited',\n",
       " 'Capgemini Technology Services India Limited',\n",
       " 'AIRBNB GLOBAL CAPABILITY CENTER PRIVATE LIMITED',\n",
       " 'ANT work',\n",
       " 'IBM India Pvt. Limited',\n",
       " 'IBM India Pvt. Limited',\n",
       " 'Philips India Limited',\n",
       " 'AVE-Promagne']"
      ]
     },
     "execution_count": 194,
     "metadata": {},
     "output_type": "execute_result"
    }
   ],
   "source": [
    "Company_Name2=[]\n",
    "\n",
    "for i in comname_tag2:\n",
    "    Company_Name2.append(i.text)\n",
    "    \n",
    "Company_Name2"
   ]
  },
  {
   "cell_type": "code",
   "execution_count": 197,
   "metadata": {},
   "outputs": [],
   "source": [
    "urls_tag2=driver2.find_elements_by_xpath(\"//a[@class='title fw500 ellipsis']\")"
   ]
  },
  {
   "cell_type": "code",
   "execution_count": 198,
   "metadata": {},
   "outputs": [
    {
     "data": {
      "text/plain": [
       "['https://www.naukri.com/job-listings-lead-data-scientist-bfsi-ibm-india-pvt-limited-bengaluru-bangalore-5-to-9-years-070921901691?src=jobsearchDesk&sid=16311686522942910&xp=1&px=1',\n",
       " 'https://www.naukri.com/job-listings-data-scientist-advanced-analytics-ibm-india-pvt-limited-bengaluru-bangalore-3-to-7-years-070921901677?src=jobsearchDesk&sid=16311686522942910&xp=2&px=1',\n",
       " 'https://www.naukri.com/job-listings-senior-data-scientist-airbnb-bangalore-bengaluru-7-to-12-years-080921500017?src=jobsearchDesk&sid=16311686522942910&xp=3&px=1',\n",
       " 'https://www.naukri.com/job-listings-senior-data-scientist-happiest-minds-technologies-pvt-ltd-bangalore-bengaluru-5-to-10-years-070921501517?src=jobsearchDesk&sid=16311686522942910&xp=4&px=1',\n",
       " 'https://www.naukri.com/job-listings-requirement-for-data-scientist-mumbai-bangalore-crisil-limited-bangalore-bengaluru-mumbai-all-areas-2-to-6-years-080921005523?src=jobsearchDesk&sid=16311686522942910&xp=5&px=1',\n",
       " 'https://www.naukri.com/job-listings-hiring-for-data-scientist-statistical-analyst-manpowergroup-services-india-private-limited-bangalore-bengaluru-2-to-4-years-080921011029?src=jobsearchDesk&sid=16311686522942910&xp=6&px=1',\n",
       " 'https://www.naukri.com/job-listings-associate-data-scientist-philips-india-limited-bangalore-bengaluru-3-to-5-years-060921501985?src=jobsearchDesk&sid=16311686522942910&xp=7&px=1',\n",
       " 'https://www.naukri.com/job-listings-data-scientist-neenopal-intelligent-solutions-private-limited-bangalore-bengaluru-2-to-5-years-080921006998?src=jobsearchDesk&sid=16311686522942910&xp=8&px=1',\n",
       " 'https://www.naukri.com/job-listings-data-scientist-prescience-decision-solutions-private-limited-bangalore-bengaluru-5-to-10-years-080921005624?src=jobsearchDesk&sid=16311686522942910&xp=9&px=1',\n",
       " 'https://www.naukri.com/job-listings-data-scientist-elpis-it-solutions-pvt-ltd-bangalore-bengaluru-3-to-8-years-070921602158?src=jobsearchDesk&sid=16311686522942910&xp=10&px=1',\n",
       " 'https://www.naukri.com/job-listings-data-scientist-elpis-it-solutions-pvt-ltd-bangalore-bengaluru-3-to-8-years-070921002157?src=jobsearchDesk&sid=16311686522942910&xp=11&px=1',\n",
       " 'https://www.naukri.com/job-listings-data-scientist-oracle-india-pvt-ltd-noida-bangalore-bengaluru-5-to-9-years-010621004567?src=jobsearchDesk&sid=16311686522942910&xp=12&px=1',\n",
       " 'https://www.naukri.com/job-listings-cognitive-data-scientist-ibm-india-pvt-limited-bengaluru-bangalore-3-to-7-years-030921904668?src=jobsearchDesk&sid=16311686522942910&xp=13&px=1',\n",
       " 'https://www.naukri.com/job-listings-data-scientist-python-big-data-capgemini-technology-services-india-limited-hyderabad-secunderabad-chennai-bangalore-bengaluru-6-to-11-years-030921008208?src=jobsearchDesk&sid=16311686522942910&xp=14&px=1',\n",
       " 'https://www.naukri.com/job-listings-senior-data-scientist-payments-compliance-airbnb-global-capability-center-private-limited-bangalore-bengaluru-4-to-9-years-020921903258?src=jobsearchDesk&sid=16311686522942910&xp=15&px=1',\n",
       " 'https://www.naukri.com/job-listings-senior-data-scientist-ant-work-bangalore-bengaluru-9-to-14-years-020921501606?src=jobsearchDesk&sid=16311686522942910&xp=16&px=1',\n",
       " 'https://www.naukri.com/job-listings-sr-data-scientist-ibm-india-pvt-limited-bengaluru-bangalore-6-to-8-years-010921906637?src=jobsearchDesk&sid=16311686522942910&xp=17&px=1',\n",
       " 'https://www.naukri.com/job-listings-sr-data-scientist-ibm-india-pvt-limited-bangalore-bengaluru-6-to-8-years-010921906105?src=jobsearchDesk&sid=16311686522942910&xp=18&px=1',\n",
       " 'https://www.naukri.com/job-listings-senior-data-scientist-philips-india-limited-bangalore-bengaluru-8-to-10-years-250821500891?src=jobsearchDesk&sid=16311686522942910&xp=19&px=1',\n",
       " 'https://www.naukri.com/job-listings-data-scientist-python-sql-ave-promagne-hyderabad-secunderabad-chennai-bangalore-bengaluru-6-to-8-years-060921904967?src=jobsearchDesk&sid=16311686522942910&xp=20&px=1']"
      ]
     },
     "execution_count": 198,
     "metadata": {},
     "output_type": "execute_result"
    }
   ],
   "source": [
    "urls=[]\n",
    "\n",
    "for i in urls_tag2:\n",
    "    urls.append(i.get_attribute('href'))\n",
    "urls"
   ]
  },
  {
   "cell_type": "code",
   "execution_count": 199,
   "metadata": {},
   "outputs": [],
   "source": [
    "job_description=[]"
   ]
  },
  {
   "cell_type": "code",
   "execution_count": 200,
   "metadata": {},
   "outputs": [],
   "source": [
    "for i in urls:\n",
    "    driver2.get(i)  \n",
    "    try:\n",
    "        job_desc=driver2.find_element_by_xpath(\"//section[@class='job-desc']\")\n",
    "        job_description.append(job_desc.text)\n",
    "    except:\n",
    "        job_description.append(\"-\")"
   ]
  },
  {
   "cell_type": "code",
   "execution_count": 201,
   "metadata": {},
   "outputs": [
    {
     "data": {
      "text/plain": [
       "['-',\n",
       " '-',\n",
       " 'Job description\\nResponsibilities include:\\nDefining and evaluating key metrics and understanding what moves them and why\\nOwnership of conceptualizing, developing, and maintaining dashboards and visualizations\\nInvestigating evolving fraud trends to extract patterns, identify root causes and propose actionable solutions\\nCommunicating analyses and recommendations to cross functional stakeholders for decision making\\nEmpowering the team to answer data questions quickly and easily by building high-quality ground truth data sets\\nHere are example traits we value:\\nProfessional industry experience in a quantitative analysis role (7+ years preferred)\\nComfortable in SQL and some experience with a programming language (Python or R a plus)\\nAbility to communicate clearly and effectively to cross functional partners of varying technical levels\\nAbility to define relevant metrics that can guide and influence stakeholders to the appropriate and accurate insights\\nExperience or willingness to learn tools to create data pipelines using Airflow\\nBuilding clear and easy to understand dashboards (Tableau) and presentations\\nRoleGraphic/Web Designer\\nIndustry TypeInternet\\nFunctional AreaIT Software - DBA, Datawarehousing\\nEmployment TypeFull Time, Permanent\\nRole CategoryProgramming & Design\\nEducation\\nUG :Any Graduate\\nPG :Any Postgraduate\\nKey Skills\\nData ScienceRData ScientistTableauPythonSql',\n",
       " 'Job description\\n  Skills\\nRequired Skills: Data Science, Machine Learning, Deep Learning, Python, NLP\\nDesired Skills: Computer Vision\\nRoles and responsibilities\\nExperience in Data Modelling, R, Python, SQL, Data Science, Machine Learning, Deep Learning, NLP, Statistics\\nHave ability to solve Business problems using Data\\nShould possess extensive knowledge of and experience in applying data mining and machine learning techniques on large amount of datasets\\nHigh level of proficiency in statistical tools like R, Python\\nCandidate will be expected to communicate analytical results in a way that is meaningful for business stakeholders and provides actionable insights.\\nHave the ability to discover new opportunities where advanced analytical techniques can be leveraged for solving business problems\\nGood to Have\\nExpertise in programming languages like Java/C/C /Python\\nExperience with relational databases and SQL is good to have\\nExperience in audio and video analytics\\nRelevant experience in Big Data platforms like Hadoop eco-system\\nCome up with innovative algorithms and solutions\\nStaffing Type:Permanent\\nRoleClinical Research Associate/Scientist\\nIndustry TypeIT Services & Consulting\\nFunctional AreaMedical, Healthcare, R&D, Pharmaceuticals, Biotechnology\\nEmployment TypeFull Time, Permanent\\nRole CategoryR&D\\nEducation\\nUG :Any Graduate\\nPG :Any Postgraduate\\nKey Skills\\nHospitalityNSEStaffingBfsiAnalyticalAgileData miningAnalyticsAutomotiveSQL',\n",
       " 'Job description\\n\\nCRISIL (formerly Credit Rating Information Services of India Limited) is an Indian analytical company providing ratings, research, and risk and policy advisory services and is a subsidiary of American company S&P Global\\n\\nWe are looking Data Scientist for Mumbai & Bangalore location\\nCandidates who can join immediately or within 30-45 need only apply\\n\\nPlease refer below JD for your reference-\\n\\nJob Description Data scientist:\\nClient oriented approach to problem solving. Individual should be able to have a holistic view of multiple businesses and develop analytic solutions accordingly.\\nOwn and deliver multiple and complex analytic projects. This would require an understanding of business context, conversion of business problems in modeling, and implementing such solutions to create business value.\\nAlways up to date with the latest use cases of modeling community, machine learning and deep learning algorithms and share knowledge within the team.\\nProficiency in basic statistics, hypothesis testing, segmentation and predictive modeling.\\nAbility to translate and articulate technical thoughts and ideas to a larger audience including influencing skills with peers and senior management.\\nStrong project management skills.\\nAbility to coach and mentor juniors.\\nEagerness to work on new and challenging tasks on a regular basis with an ability to research new ways of doing things better/efficiently.\\nContribute to organizational initiatives in wide ranging areas including competency development, training, organizational building activities etc.\\nSkills\\n\\nBasic Qualifications\\n\\nBachelors Degree with 2+ years of experience in data analytics,\\nHands-on experience in Python / SAS or R programing along with strong experience in SQL and Excel Macros.\\nExperienced in working with large and multiple datasets, data warehouses and ability to pull data using relevant programs and coding.\\nWell versed with necessary data preprocessing and feature engineering skills.\\nAt least 2 years of experience implementing Machine learning algorithms such as Random Forest and Gradient Boosting in solving business problems such as Default classification and macroeconomic forecasting.\\nAt least 1 year of experience implementing deep learning techniques like neural networks\\nExposure to deep learning packages like Tensorflow\\nStrong background in Statistical Analysis\\nBackground in BFSI space will be preferred\\n\\nRoleData Analyst\\nIndustry TypeBanking\\nFunctional AreaAnalytics & Business Intelligence\\nEmployment TypeFull Time, Permanent\\nRole CategoryAnalytics & BI\\nEducation\\nUG :Any Graduate\\nPG :Any Postgraduate\\nKey Skills\\nrMachine LearningPython\\nTensorflowPredictive ModelingSegmentationNeural NetworksDeep LearningRandom ForestSQL\\nSkills highlighted with ‘‘ are preferred keyskills',\n",
       " 'Job description\\nDepartment- BIRS (Business Intelligence Risk Solutions)\\n\\nJD Statistical Analyst/ Data scientist:\\nClient oriented approach to problem solving. Individual should be able to have a holistic view of multiple businesses and develop analytic solutions accordingly.\\nOwn and deliver multiple and complex analytic projects. This would require an understanding of business context, conversion of business problems in modeling, and implementing such solutions to create business value.\\nAlways up to date with the latest use cases of modeling community, machine learning and deep learning algorithms and share knowledge within the team.\\nProficiency in basic statistics, hypothesis testing, segmentation and predictive modeling.\\nAbility to translate and articulate technical thoughts and ideas to a larger audience including influencing skills with peers and senior management.\\nStrong project management skills.\\nAbility to coach and mentor juniors.\\nEagerness to work on new and challenging tasks on a regular basis with an ability to research new ways of doing things better/efficiently.\\nContribute to organizational initiatives in wide ranging areas including competency development, training, organizational building activities etc.\\nBasic Qualifications\\n\\nBachelor’s Degree with 2+ years of experience in data analytics,\\nHands-on experience in Python / SAS or R programing along with strong experience in SQL and Excel Macros.\\nExperienced in working with large and multiple datasets, data warehouses and ability to pull data using relevant programs and coding.\\nWell versed with necessary data preprocessing and feature engineering skills.\\nAt least 2 years of experience implementing Machine learning algorithms such as Random Forest and Gradient Boosting in solving business problems such as Default classification and macroeconomic forecasting.\\nAt least 1 year of experience implementing deep learning techniques like neural networks\\nExposure to deep learning packages like Tensorflow\\nStrong background in Statistical Analysis\\nBackground in BFSI space will be preferredRoles and Responsibilities\\n\\nIf anyone interested, please share your resume to below mail id:-\\n\\nSoundarya.s@manpower.co.in;\\n\\n\\nRoleSoftware Developer\\nIndustry TypeIT Services & Consulting\\nFunctional AreaIT Software - DBA, Datawarehousing\\nEmployment TypeFull Time, Permanent\\nRole CategoryProgramming & Design\\nEducation\\nUG :B.Tech/B.E. in Any Specialization\\nKey Skills\\nTensorflowPredictive ModelingRNeural NetworksMachine LearningStatistical AnalysisDeep LearningPythonRandom ForestSQL',\n",
       " 'Job description\\nUse predictive modeling to increase and optimize customer experiences, revenue generation, campaign optimization and other business outcomes\\nWork with product management to develop data use cases and embed predictive models in workflows on resource constrained platforms and cloud enabled.\\nSelecting features, building and optimizing classifiers using machine learning and deep learning techniques\\nCollaborates with Data Engineers to enhance data collection and ingestion/curation techniques to include information that is relevant for building analytic systems\\nProcessing, cleansing, and verifying the integrity of data used for analysis\\nDevelop processes and tools to monitor and analyze model performance and data accuracy. Life cycle management of predictive models.\\nAdherence to compliance procedures in accordance with regulatory standards, requirements, and policies. Managing and designing the reporting environment, including data sources security, and metadata.\\nJob Qualifications:\\nMaster s degree or PhD in Computer Science, Information management, Statistics or related field, with 3 to 5 years of experience in the Consumer or Healthcare industry manipulating data sets and building predictive models with focus on product development\\nExperience in statistical modelling, machine learning, data mining, unstructured data analytics and natural language processing. Sound understanding of - Bayesian Modelling, Classification Models, Cluster Analysis, Neural Network, Nonparametric Methods, Multivariate Statistics, etc.\\nStrong hands on knowledge of ML techniques like regression algorithms, K-NN, Na ve Bayes, SVM and ensemble techniques like Random forest, AdaBoost etc\\nHaving strong knowledge in unsupervised learning algorithms using Neural networks and Deep-Learning\\nStrong knowledge in Data Wrangling and Exploration techniques to identify the patterns, trends and outliners.\\nDeep knowledge and practical experience with data science toolkits, such as NumPy, Pandas, scikit-learn or equivalent\\nExperience with data visualization tools, such as QlikView, Matplotlib, seaborn or equivalent tools.\\nProficiency in using query languages, such as SQL, PL/SQL\\nHands on experience in the one or more databases like Hadoop, AWS Redshift, Snowflake etc.\\nGood applied statistics skills, such as distributions, statistical testing, regression, etc.\\nGood ETL scripting and programming skills, such as Python, R or Scala to integrate developed solution into the proposition.\\nA team player capable of working and integrating across cross-functional team for implementing project requirements. Experience in technical requirements gathering and documentation.\\nAbility to work effectively and independently in a fast-paced global collaborative agile team environment with tight deadlines\\nA flexible, pragmatic and collaborative team player with innate ability to engage with stakeholders at all levels in the organization.\\nA self-starter with high levels of drive, energy, resilience and a desire for professional excellence with a passion for data and data science\\nRoleClinical Research Associate/Scientist\\nIndustry TypeMedical Services / Hospital\\nFunctional AreaMedical, Healthcare, R&D, Pharmaceuticals, Biotechnology\\nEmployment TypeFull Time, Permanent\\nRole CategoryR&D\\nEducation\\nUG :Any Graduate\\nPG :Post Graduation Not Required\\nKey Skills\\nProduct managementComputer sciencemetadataMachine learningAgilePLSQLHealthcareQlikViewData miningPython',\n",
       " 'Job description\\nRoles and Responsibilities\\nWe are looking for someone who would be responsible for analyzing data and providing business insights. As a Data Scientist your responsibilities will include understanding the business problem and experimenting with different modelling architectures to create the best possible setup from model performance as well as computational performance. To do this job successfully, you need exceptional skills in Machine Learning and Programming. Your ultimate goal will be to find the best data-based solution for the problem at hand.\\nMoreover, you are expected to learn fast and deliver quickly in a fast-paced startup environment. If you thrive on ambiguity and are a problem solver and yet deliver value to clients, feel free to reach out to us.\\nWe are looking ONLY FOR SELF DRIVEN INDIVIDUALS with a desire to excel in Data Science Domain.\\nUnderstanding business objectives and developing models that help to achieve them, along with metrics to track their progress\\nDevelop and maintain robust data processing pipelines and reproducible modeling pipelines\\nBuild mathematical models to solve various problems ranging from Time Series forecasting to Neural Networks and ensure seamless deployment in production pipelines.\\nAnalyze experimental results, iterate and refine models to create significant business impact\\nFollow strict coding standards and other software engineering best practices\\n\\n\\nDesired Candidate Profile\\nProven experience as a Data Scientist or similar role\\nStrong SQL, R/Python Skills\\nShould have familiarity with Machine Learning Models and fundamentals in Forecasting and Optimization Techniques\\nShould have strong mathematical background & analytical bent of mind\\nStrong Problem-Solving Ability\\nAbility to communicate well in a highly collaborative team environment, consisting of both technical and non-technical personnel\\nReliable self-starter that is capable of working with a high degree of autonomy\\n\\n\\nPerks and Benefits\\n\\nNeenOpal is a global management consulting firm with a unique and specialized focus on Data Science.\\nWe provide services across the whole value chain of an organization - Digital Strategy, Sales & Marketing, Supply Chain & Logistics as well as Finance. Youll have a blast doing it in our fun, passionate environment.\\nRoleData scientist\\nIndustry TypeManagement Consulting\\nFunctional AreaIT Software - Other\\nEmployment TypeFull Time, Permanent\\nRole CategoryNot mentioned\\nEducation\\nUG :Any Graduate\\nPG :Any Postgraduate\\nKey Skills\\nData SciencePythonSQL\\nExcelSoftware EngineeringProblem SolvingNeural NetworksTime SeriesData AnalysisBusiness InsightsData ProcessingMachine Learning\\nSkills highlighted with ‘‘ are preferred keyskills',\n",
       " 'Job description\\nHi,\\n\\nWe at Prescience www.prescienceds.com looking for Data Scientist @ Bangalore .\\n\\nRoles and Responsibilities\\nAs a Data Scientist you will be working with senior management of clients to understand the business requirements, define right problem statement and come up with a framework for the solution. You will also work on the solution and at time guide a small team to deliver the same. Part of job role would be develop products in the area of Natural Language Processing, Conversational Interfaces, Text Mining etc.\\n\\nDesired Candidate Profile\\nWhat we are looking for:\\nGood applied statistics skills, such as distributions, statistical testing, regression, etc. Experience in Natural Language Processing, Computer Vision. Exposure to common data science business problems like clustering, classification, anomaly detection, prediction etc.\\nGood understanding of machine learning techniques and algorithms\\nExperience with common data science toolkits Python, R, SAS\\nProficiency in using query languages such as SQL, Hive, etc Experience with NoSQL database, SQL Server, PostgreSQL, MongoDB\\nGreat communication skills\\nData-oriented personality and excellent business analysis skills\\nExperience in solutioning for data science related problems, work with business stakeholders to define right problem statement and solution.\\nOpen to professionals who have data analytics / BI background and then moved to Data Scientist roles.\\n\\nPerks and Benefits\\n\\n\\nRoleOther\\nIndustry TypeIT Services & Consulting\\nFunctional AreaAnalytics & Business Intelligence\\nEmployment TypeFull Time, Permanent\\nRole CategoryOther\\nEducation\\nUG :Any Graduate\\nKey Skills\\nTensorflowPostgreSQLNatural Language ProcessingNeural NetworksMachine LearningStatisticsSQLData ScienceAnomaly DetectionPytorchRNLPMongoDBQlikViewComputer VisionData AnalyticsPython',\n",
       " 'Job description\\nRoles and Responsibilities\\nJob Description:\\nDevelop data powered insights deriving from distributed, real time streaming applications, and develop AI systems leveraging on such data powered insights.\\nLooking for candidates with passion and energy to work in a high energy team with entrepreneurial culture: Self starter attitude, quick learning aptitude, passion and willingness to deliver on time with quality.\\n\\nJob Skills Required:\\nExpert data science skills using supervised and unsupervised learning. Deep learning.\\nCompute: Spark/Storm/NiFi/Flink/Redis, or other.\\nVisualization: Banana UI, Kibana, or other,\\nTools: H2O, TensorFlow, Mlib, Scikit, Keras or other.\\nMessaging: Kafka, RabbitMQ, or other.\\n\\nStrong Analytical and Math/Statistics skills.\\n\\nQualification :\\nM.Tech/M.E./M.S. in Computer Science, Engineering or a related field, preferably with a concentration, major or minor in Data Science or Machine Learning. PhD would be added advantage.\\n\\nDesired Candidate Profile\\nDesirable s that would strengthen candidacy:\\n Proven track record from public competitions such as from Kagel, Analytics Vidya, etc. \\n\\nExpertise in one or more high level programming languages such as Java, Scala, Python, Go, Erlang, etc.\\n\\nExpertise in developing scalable applications in a distributed environment.\\n\\nStrong SQL or NoSQL skills with one or more open source DBMS such as MySql, MongoDB, Cassandra.\\n\\nExpertise in containerized environments on private or public clouds - Aws Azure, etc.\\n\\n\\nRoleSoftware Developer\\nIndustry TypeIT Services & Consulting\\nFunctional AreaIT Software - Application Programming, Maintenance\\nEmployment TypeFull Time, Temporary/Contractual\\nRole CategoryProgramming & Design\\nEducation\\nUG :Any Graduate\\nPG :Any Postgraduate\\nKey Skills\\ndeep learningKibanatensorflowdata scienceKafkakerasSparkMachine Learning',\n",
       " 'Job description\\nRoles and Responsibilities\\nJob Description:\\nDevelop data powered insights deriving from distributed, real time streaming applications, and develop AI systems leveraging on such data powered insights.\\nLooking for candidates with passion and energy to work in a high energy team with entrepreneurial culture: Self starter attitude, quick learning aptitude, passion and willingness to deliver on time with quality.\\n\\nJob Skills Required:\\nExpert data science skills using supervised and unsupervised learning. Deep learning.\\nCompute: Spark/Storm/NiFi/Flink/Redis, or other.\\nVisualization: Banana UI, Kibana, or other,\\nTools: H2O, TensorFlow, Mlib, Scikit, Keras or other.\\nMessaging: Kafka, RabbitMQ, or other.\\n\\nStrong Analytical and Math/Statistics skills.\\n\\nQualification :\\nM.Tech/M.E./M.S. in Computer Science, Engineering or a related field, preferably with a concentration, major or minor in Data Science or Machine Learning. PhD would be added advantage.\\n\\nDesired Candidate Profile\\nDesirable s that would strengthen candidacy:\\n Proven track record from public competitions such as from Kagel, Analytics Vidya, etc. \\n\\nExpertise in one or more high level programming languages such as Java, Scala, Python, Go, Erlang, etc.\\n\\nExpertise in developing scalable applications in a distributed environment.\\n\\nStrong SQL or NoSQL skills with one or more open source DBMS such as MySql, MongoDB, Cassandra.\\n\\nExpertise in containerized environments on private or public clouds - Aws Azure, etc.\\n\\n\\nRoleSoftware Developer\\nIndustry TypeIT Services & Consulting\\nFunctional AreaIT Software - Application Programming, Maintenance\\nEmployment TypeFull Time, Temporary/Contractual\\nRole CategoryProgramming & Design\\nEducation\\nUG :Any Graduate\\nPG :Any Postgraduate\\nKey Skills\\ndeep learningKibanatensorflowdata scienceKafkakerasSparkMachine Learning',\n",
       " '-',\n",
       " '-',\n",
       " '-',\n",
       " 'Job description\\nThe Challenge\\nBe a thought leader, partner with your cross-functional partners to foster a data driven payments organization.\\nWith a focus on Payments compliance and keeping our platform safe, anticipate and detect new fraud trends and regulatory requirements.\\nDefine and evaluate key metrics. Build the data foundation you need, in partnership with the data engineering team.\\nDeliver actionable user-insights to build the best products and models\\nDesign experiments to measure the impact of new payments features\\nEmpower the product and engineering teams to make data-driven decisions\\nWhat you need to succeed\\n4+ years industry experience in a quantitative analysis role. Experience in Payments a strong plus\\nFluent in SQL and proficiency in analytical tools such as Python, R, etc.\\nBackground in statistics and experience with experimentation\\nSolid understanding of product analytics\\nExperience or willingness to learn tools to create data pipelines using Airflow/Minerva\\nAbility to communicate clearly and effectively to cross functional partners of varying technical levels\\nRoleData Analyst\\nIndustry TypeTravel & Tourism\\nFunctional AreaAnalytics & Business Intelligence\\nEmployment TypeFull Time, Permanent\\nRole CategoryAnalytics & BI\\nEducation\\nUG :Any Graduate\\nPG :Any Postgraduate\\nKey Skills\\nQuantitative AnalysisRData EngineeringData ScientistStatisticsAnalyticsPythonSQL',\n",
       " 'Job description\\n\\nPurpose of the position\\nThe position should be able to liaison seamlessly with the Product Engineering, Sales Engineering and Delivery teams to deliver quality work products within scope, time and budget focused on ensuring client satisfaction. The position should also be able to mentor junior data scientists in day-to-day tasks.\\nEssential Job Function\\nA senior data scientist who can demonstrate thought leadership and translate them into actionable work products in text/image-based artificial intelligence. The ideal candidate should possess programming experience in Python/R (C++ will be a plus) for analysing structured and unstructured data and build models using deep learning techniques. He/she should be an innovative thinker and possesses the ability to bring a varied perspective to problem-solving using data, statistical, algorithmic, deep learning and visualization techniques. He/she should possess a proven track record of leading and mentoring a team of high performing data scientists.\\nBasic Qualification\\nEducation: PhD/Master s degree in Computer Science/Data Science / Mathematics / Statistics /Allied Fields\\nEssential Qualification:\\nAt least 9 years of experience in machine learning with at least at least 4 years of hands-on experience in developing enterprise class and scalable models using deep learning/Natural Language Processing including Natural Language Understanding/Natural Language Inference\\nHands-on experience in achieving data parallelism/model parallelism using multiple GPUs\\nExposure to pre-processing techniques to enhance documents to aid accuracy of extraction\\nSolid mathematical foundations of machine learning/deep learning/computer vision\\nHands-on experience in Tensor Flow, Keras, PyTorch, NLTK\\nHands-on experience in Python/R/C programming\\nCompilers: Anaconda/ ANT\\nExcellent communication skills\\nBusiness mindset\\nDesirable Technical background\\nExposure to various opensource and proprietary OCR/ICR for extracting both Latin and non-Latin scripts\\nExposure to MLOps implementing and automating continuous integration (CI), continuous delivery (CD), and continuous training (CT) for machine learning (ML) systems\\nExperience in building NLP solutions for Japanese/Thai/Arabic/Chinese Languages\\nExperience in Natural Language Processing including Natural Language Understanding/Natural Language Inference\\nExperience in developing enterprise class scalable and self-learning NLP solutions/engines\\nFractal Structures and Distributions\\nFractal dimension for data mining\\nImage based fractal analysis\\nSelf-resonance and self-similarity\\nRoleOutside Technical Consultant\\nIndustry TypeIT Services & Consulting\\nFunctional AreaIT Software - Application Programming, Maintenance\\nEmployment TypeFull Time, Permanent\\nRole CategorySystem Design/Implementation/ERP/CRM\\nEducation\\nUG :Any Graduate\\nPG :Post Graduation Not Required\\nKey Skills\\nData ScienceNlpArtificial IntelligenceTensor FlowData ScientistNatural Language ProcessingComputer VisionMachine LearningDeep LearningPython',\n",
       " '-',\n",
       " '-',\n",
       " 'Job description\\nMain purpose of this role:\\nBe a part of the Enterprise IT , Information and Data Science team and drive a strategic and actionable Data Science architecture to activate the needed business capabilities. Deliver business use cases like Care Provider (Customer, Product , IB ) 360 initiative, Product bundling , Value Based pricing , Conversational AI, Indirect Trade partner classification , Data pipeline predictions etc - an ambition to better understand the needs of Healthcare Providers, the way Philips serves its customers and how and where Philips can add value to the customer decision journey.\\nYour responsibilities\\nEnsure strategic direction for data science capabilities for Philips is created and kept up to date on a regular basis\\nContinuously evaluate the latest techniques in Artificial intelligence, machine learning, robotics, statistical analysis\\nImplement advanced algorithms for business problems based on statistical analysis, coding, deep learning, advanced data mining techniques etc.\\nDevelop new algorithms if necessary, to bring predictive, advanced statistics / learning based solutions\\nDevelop algorithms to further automate processes and feed insights back into PIL for better business outcome\\nCo-create with business / market / functions or IT platforms on requirements\\nEnsure quality of data and solution developed\\nLead and drive data mining, creating algorithms, collection of data, collection of procedures during the design, build phases of a project\\nLead and drive in deploy and testing of the solutions and insights\\nSpot and evaluate emerging/cutting edge, open source, data science/machine learning libraries\\nYou are part of:\\nYou will be part of Group IT , Information and Data Management team that drives business impact through Data Science and Advanced analytics. A team that instigates collaboration across diverse teams globally to manage Data as an asset at Philips.\\nCore competencies needed to be successful:\\nA Master s Degree or PhD in Computer Science, Econometrics, Artificial Intelligence, Applied Mathematics, Statistics or equivalent;\\n8-10 years of overall experience in data science, data analytics roles\\n8+ years of experience in multiple of machine learning, data mining, deep learning, artificial intelligence, pattern recognition areas\\nExperience in driving implementation of solutions, data and algorithms on data warehouse and lakes like Azure , AWS, SQL etc\\nDemonstrable advanced programming experience in Python or another programming language such as Azure ML/R/Python etc ;\\nStrong analytical and social skills and the capability to translate data intelligence into valuable insights for the senior stakeholders in the company\\nAbility to formulate multiple complex business problems into hypothesis and proof of concepts for testing\\nManage Projects and lead a sub-portfolio of data science project teams to deliver results\\nCoach, Guide and direct teams of internal and vendor resources\\nCollaborate across IT platform teams to deploy solutions and drive continuous improvements\\nManage senior stakeholder in the company in a matrix organization i.e. Market / BG / Function leaders\\nRoleBusiness/EDP Analyst\\nIndustry TypeMedical Services / Hospital\\nFunctional AreaITES, BPO, KPO, LPO, Customer Service, Operations\\nEmployment TypeFull Time, Permanent\\nRole CategoryOperations\\nEducation\\nUG :Any Graduate\\nPG :Post Graduation Not Required\\nKey Skills\\nComputer scienceData managementCodingAnalyticalMachine learningHealthcareData miningRoboticsSQLPython',\n",
       " 'Job description\\nRequired Technical and Professional Expertise\\n• 6+ years of industry work experience in data scientist projects\\n• Master’s degree or higher in Statistics/Math/Computer Science or related field\\n• Background in applied statistical modeling on large experimental or observational data sets\\n• Experience extracting data from a variety of sources, and a desire to expand those skills (working knowledge SQL is required, Spark is a plus)\\n• Experience with one or more statistical or machine learning software such as R, Python, etc.\\n• Must showcase past work through published articles/GitHub/social media\\n\\nPreferred Technical and Professional Expertise\\n• Knowledge of distributed computing systems, e.g. Cosmos, Spark, Hadoop, and relational database management system\\n• PhD. in Statistics is preferred\\n• You love collaborative environments that use agile methodologies to encourage creative design thinking and find innovative ways to develop with cutting edge technologies\\n• Ambitious individual who can work under their own direction towards agreed targets/goals and with creative approach to work\\n• Intuitive individual with an ability to manage change and proven time management\\n• Proven interpersonal skills while contributing to team effort by accomplishing related results as needed\\nRoleData Analyst\\nIndustry TypeIT Services & Consulting\\nFunctional AreaAnalytics & Business Intelligence\\nEmployment TypeFull Time, Permanent\\nRole CategoryAnalytics & BI\\nEducation\\nUG :B.Sc in Maths, Statistics\\nPG :MS/M.Sc(Science) in Maths, Statistics\\nDoctorate :Doctorate Not Required\\nKey Skills\\nRData scienceData analyticsSQLPython']"
      ]
     },
     "execution_count": 201,
     "metadata": {},
     "output_type": "execute_result"
    }
   ],
   "source": [
    "job_description[0:20]"
   ]
  },
  {
   "cell_type": "code",
   "execution_count": 202,
   "metadata": {},
   "outputs": [
    {
     "name": "stdout",
     "output_type": "stream",
     "text": [
      "20 20 20 20 20\n"
     ]
    }
   ],
   "source": [
    "print(len(Company_Name2),len(Job_Title2),len(Job_Location2),len(Experience_Req2),len(job_description))"
   ]
  },
  {
   "cell_type": "code",
   "execution_count": 207,
   "metadata": {},
   "outputs": [],
   "source": [
    "df2=pd.DataFrame()"
   ]
  },
  {
   "cell_type": "code",
   "execution_count": 208,
   "metadata": {},
   "outputs": [
    {
     "data": {
      "text/html": [
       "<div>\n",
       "<style scoped>\n",
       "    .dataframe tbody tr th:only-of-type {\n",
       "        vertical-align: middle;\n",
       "    }\n",
       "\n",
       "    .dataframe tbody tr th {\n",
       "        vertical-align: top;\n",
       "    }\n",
       "\n",
       "    .dataframe thead th {\n",
       "        text-align: right;\n",
       "    }\n",
       "</style>\n",
       "<table border=\"1\" class=\"dataframe\">\n",
       "  <thead>\n",
       "    <tr style=\"text-align: right;\">\n",
       "      <th></th>\n",
       "      <th>Job-Title</th>\n",
       "      <th>Job-Location</th>\n",
       "      <th>Comapny-Name</th>\n",
       "      <th>Job-Decription</th>\n",
       "    </tr>\n",
       "  </thead>\n",
       "  <tbody>\n",
       "    <tr>\n",
       "      <th>0</th>\n",
       "      <td>Lead Data Scientist BFSI</td>\n",
       "      <td>Bengaluru/Bangalore</td>\n",
       "      <td>IBM India Pvt. Limited</td>\n",
       "      <td>-</td>\n",
       "    </tr>\n",
       "    <tr>\n",
       "      <th>1</th>\n",
       "      <td>Data Scientist: Advanced Analytics</td>\n",
       "      <td>Bengaluru/Bangalore</td>\n",
       "      <td>IBM India Pvt. Limited</td>\n",
       "      <td>-</td>\n",
       "    </tr>\n",
       "    <tr>\n",
       "      <th>2</th>\n",
       "      <td>Senior Data Scientist</td>\n",
       "      <td>Bangalore/Bengaluru</td>\n",
       "      <td>Airbnb</td>\n",
       "      <td>Job description\\nResponsibilities include:\\nDe...</td>\n",
       "    </tr>\n",
       "    <tr>\n",
       "      <th>3</th>\n",
       "      <td>SENIOR DATA SCIENTIST</td>\n",
       "      <td>Bangalore/Bengaluru</td>\n",
       "      <td>Happiest Minds Technologies Pvt.Ltd</td>\n",
       "      <td>Job description\\n  Skills\\nRequired Skills: Da...</td>\n",
       "    </tr>\n",
       "    <tr>\n",
       "      <th>4</th>\n",
       "      <td>Requirement For Data Scientist - Mumbai &amp; Bang...</td>\n",
       "      <td>Bangalore/Bengaluru, Mumbai (All Areas)</td>\n",
       "      <td>CRISIL LIMITED</td>\n",
       "      <td>Job description\\n\\nCRISIL (formerly Credit Rat...</td>\n",
       "    </tr>\n",
       "    <tr>\n",
       "      <th>5</th>\n",
       "      <td>Hiring For Data Scientist / Statistical Analyst</td>\n",
       "      <td>Bangalore/Bengaluru</td>\n",
       "      <td>ManpowerGroup Services India Private Limited</td>\n",
       "      <td>Job description\\nDepartment- BIRS (Business In...</td>\n",
       "    </tr>\n",
       "    <tr>\n",
       "      <th>6</th>\n",
       "      <td>Associate Data Scientist</td>\n",
       "      <td>Bangalore/Bengaluru</td>\n",
       "      <td>Philips India Limited</td>\n",
       "      <td>Job description\\nUse predictive modeling to in...</td>\n",
       "    </tr>\n",
       "    <tr>\n",
       "      <th>7</th>\n",
       "      <td>Data Scientist</td>\n",
       "      <td>Bangalore/Bengaluru\\n(WFH during Covid)</td>\n",
       "      <td>NeenOpal Intelligent Solutions Private Limited</td>\n",
       "      <td>Job description\\nRoles and Responsibilities\\nW...</td>\n",
       "    </tr>\n",
       "    <tr>\n",
       "      <th>8</th>\n",
       "      <td>Data Scientist</td>\n",
       "      <td>Bangalore/Bengaluru\\n(WFH during Covid)</td>\n",
       "      <td>PRESCIENCE DECISION SOLUTIONS PRIVATE LIMITED</td>\n",
       "      <td>Job description\\nHi,\\n\\nWe at Prescience www.p...</td>\n",
       "    </tr>\n",
       "    <tr>\n",
       "      <th>9</th>\n",
       "      <td>Data Scientist</td>\n",
       "      <td>Bangalore/Bengaluru</td>\n",
       "      <td>ELPIS IT SOLUTIONS PVT LTD</td>\n",
       "      <td>Job description\\nRoles and Responsibilities\\nJ...</td>\n",
       "    </tr>\n",
       "  </tbody>\n",
       "</table>\n",
       "</div>"
      ],
      "text/plain": [
       "                                           Job-Title  \\\n",
       "0                           Lead Data Scientist BFSI   \n",
       "1                 Data Scientist: Advanced Analytics   \n",
       "2                              Senior Data Scientist   \n",
       "3                              SENIOR DATA SCIENTIST   \n",
       "4  Requirement For Data Scientist - Mumbai & Bang...   \n",
       "5    Hiring For Data Scientist / Statistical Analyst   \n",
       "6                           Associate Data Scientist   \n",
       "7                                     Data Scientist   \n",
       "8                                     Data Scientist   \n",
       "9                                     Data Scientist   \n",
       "\n",
       "                              Job-Location  \\\n",
       "0                      Bengaluru/Bangalore   \n",
       "1                      Bengaluru/Bangalore   \n",
       "2                      Bangalore/Bengaluru   \n",
       "3                      Bangalore/Bengaluru   \n",
       "4  Bangalore/Bengaluru, Mumbai (All Areas)   \n",
       "5                      Bangalore/Bengaluru   \n",
       "6                      Bangalore/Bengaluru   \n",
       "7  Bangalore/Bengaluru\\n(WFH during Covid)   \n",
       "8  Bangalore/Bengaluru\\n(WFH during Covid)   \n",
       "9                      Bangalore/Bengaluru   \n",
       "\n",
       "                                     Comapny-Name  \\\n",
       "0                          IBM India Pvt. Limited   \n",
       "1                          IBM India Pvt. Limited   \n",
       "2                                          Airbnb   \n",
       "3             Happiest Minds Technologies Pvt.Ltd   \n",
       "4                                  CRISIL LIMITED   \n",
       "5    ManpowerGroup Services India Private Limited   \n",
       "6                           Philips India Limited   \n",
       "7  NeenOpal Intelligent Solutions Private Limited   \n",
       "8   PRESCIENCE DECISION SOLUTIONS PRIVATE LIMITED   \n",
       "9                      ELPIS IT SOLUTIONS PVT LTD   \n",
       "\n",
       "                                      Job-Decription  \n",
       "0                                                  -  \n",
       "1                                                  -  \n",
       "2  Job description\\nResponsibilities include:\\nDe...  \n",
       "3  Job description\\n  Skills\\nRequired Skills: Da...  \n",
       "4  Job description\\n\\nCRISIL (formerly Credit Rat...  \n",
       "5  Job description\\nDepartment- BIRS (Business In...  \n",
       "6  Job description\\nUse predictive modeling to in...  \n",
       "7  Job description\\nRoles and Responsibilities\\nW...  \n",
       "8  Job description\\nHi,\\n\\nWe at Prescience www.p...  \n",
       "9  Job description\\nRoles and Responsibilities\\nJ...  "
      ]
     },
     "execution_count": 208,
     "metadata": {},
     "output_type": "execute_result"
    }
   ],
   "source": [
    "df2['Job-Title']=Job_Title2[:20]\n",
    "df2['Job-Location']=Job_Location2[:20]\n",
    "df2['Comapny-Name']=Company_Name2[:20]\n",
    "df2['Job-Decription']=job_description[:20]\n",
    "\n",
    "df2[0:10]"
   ]
  },
  {
   "cell_type": "markdown",
   "metadata": {},
   "source": [
    "# Q3: In this question you have to scrape data using the filters available on the"
   ]
  },
  {
   "cell_type": "markdown",
   "metadata": {},
   "source": [
    "webpage as shown below: You have to use the location and salary filter. You have to scrape data for “Data Scientist” designation for first 10 job results. You have to scrape the job-title, job-location, company_name, experience_required. The location filter to be used is “Delhi/NCR” The salary filter to be used is “3-6” lakhs The task will be done as shown in the below steps:\n",
    "\n",
    "1)first get the webpage https://www.naukri.com/\n",
    "2)Enter “Data Scientist” in “Skill,Designations,Companies” field .\n",
    "3)Then click the search button.\n",
    "4)Then apply the location filter and salary filter by checking the respective boxes\n",
    "5)Then scrape the data for the first 10 jobs results you get.\n",
    "6)Finally create a dataframe of the scraped data. Note- All of the above steps have to be done in code. No step is to be done manually."
   ]
  },
  {
   "cell_type": "code",
   "execution_count": 209,
   "metadata": {},
   "outputs": [],
   "source": [
    "driver3=webdriver.Chrome('chromedriver.exe')"
   ]
  },
  {
   "cell_type": "code",
   "execution_count": 210,
   "metadata": {},
   "outputs": [],
   "source": [
    "url3='https://www.naukri.com/'"
   ]
  },
  {
   "cell_type": "code",
   "execution_count": 211,
   "metadata": {},
   "outputs": [],
   "source": [
    "driver3.get(url3)"
   ]
  },
  {
   "cell_type": "code",
   "execution_count": 212,
   "metadata": {},
   "outputs": [],
   "source": [
    "search_job=driver3.find_element_by_id('qsb-keyword-sugg')"
   ]
  },
  {
   "cell_type": "code",
   "execution_count": 213,
   "metadata": {},
   "outputs": [],
   "source": [
    "search_job.send_keys('“Data Scientist')"
   ]
  },
  {
   "cell_type": "code",
   "execution_count": 214,
   "metadata": {},
   "outputs": [],
   "source": [
    "search_btn=driver3.find_element_by_xpath(\"//button[@class='btn']\")"
   ]
  },
  {
   "cell_type": "code",
   "execution_count": 215,
   "metadata": {},
   "outputs": [],
   "source": [
    "search_btn.click()"
   ]
  },
  {
   "cell_type": "code",
   "execution_count": 216,
   "metadata": {},
   "outputs": [],
   "source": [
    "filter_loc=driver3.find_element_by_xpath(\"//span[@title='Delhi / NCR']\")"
   ]
  },
  {
   "cell_type": "code",
   "execution_count": 217,
   "metadata": {},
   "outputs": [],
   "source": [
    "filter_loc.click()"
   ]
  },
  {
   "cell_type": "code",
   "execution_count": 218,
   "metadata": {},
   "outputs": [],
   "source": [
    "filter_sal=driver3.find_element_by_xpath(\"//span[@title='3-6 Lakhs']\")"
   ]
  },
  {
   "cell_type": "code",
   "execution_count": 219,
   "metadata": {},
   "outputs": [],
   "source": [
    "filter_sal.click()"
   ]
  },
  {
   "cell_type": "code",
   "execution_count": 220,
   "metadata": {},
   "outputs": [],
   "source": [
    "title_tags3=driver3.find_elements_by_xpath(\"//a[@class='title fw500 ellipsis']\")"
   ]
  },
  {
   "cell_type": "code",
   "execution_count": 221,
   "metadata": {},
   "outputs": [
    {
     "data": {
      "text/plain": [
       "['Data Scientist/ Machine Learning Engineer',\n",
       " 'Only Fresher / Data Scientist / Data Analyst / Analytics - MNC Jobs',\n",
       " 'Data Analyst/Data Scientist',\n",
       " 'Data Scientist',\n",
       " 'Data Scientist / Data Analyst / Business Analytics - MNC Jobs Freshers',\n",
       " 'Data Scientist / Data Analyst',\n",
       " 'Immediate Openings For Data Scientist For Wipro C2H',\n",
       " 'Data Scientist',\n",
       " 'Data Scientist',\n",
       " 'Data Scientist-immediate Joiners',\n",
       " 'Data Scientist - WFH - MIND Infotech',\n",
       " 'Junior Data Scientists & Engineers',\n",
       " 'Data Scientist - Machine Learning/ NLP',\n",
       " 'Data Scientist Internship',\n",
       " 'Data Scientist',\n",
       " 'Senior Data Scientist',\n",
       " 'Data Scientist',\n",
       " 'Senior Data Scientist',\n",
       " 'Hiring Data Scientist Develope || IDS Infotech LTD || (Permanent WFH)',\n",
       " 'Data Scientist']"
      ]
     },
     "execution_count": 221,
     "metadata": {},
     "output_type": "execute_result"
    }
   ],
   "source": [
    "Job_Title3=[]\n",
    "\n",
    "for i in title_tags3:\n",
    "    Job_Title3.append(i.text)\n",
    "Job_Title3"
   ]
  },
  {
   "cell_type": "code",
   "execution_count": 222,
   "metadata": {},
   "outputs": [],
   "source": [
    "loc_tags3=driver3.find_elements_by_xpath(\"//li[@class='fleft grey-text br2 placeHolderLi location']\")"
   ]
  },
  {
   "cell_type": "code",
   "execution_count": 223,
   "metadata": {},
   "outputs": [
    {
     "data": {
      "text/plain": [
       "['Mohali/SAS Nagar, Hyderabad/Secunderabad, Ahmedabad, Gurgaon/Gurugram, Chennai, Bangalore/Bengaluru',\n",
       " 'Noida, Gurgaon/Gurugram, Delhi / NCR',\n",
       " 'Bangalore/Bengaluru, Delhi / NCR, Mumbai (All Areas)',\n",
       " 'Gurgaon/Gurugram\\n(WFH during Covid)',\n",
       " 'Noida, New Delhi, Gurgaon/Gurugram',\n",
       " 'Gurgaon/Gurugram',\n",
       " 'Gurgaon/Gurugram',\n",
       " 'Noida\\n(WFH during Covid)',\n",
       " 'Delhi / NCR(Okhla)',\n",
       " 'Noida',\n",
       " 'Pune, Chennai, Bangalore/Bengaluru, Delhi / NCR, Mumbai (All Areas)',\n",
       " 'New Delhi, Delhi / NCR',\n",
       " 'Gurgaon/Gurugram',\n",
       " 'New Delhi',\n",
       " 'Mumbai, Gurgaon/Gurugram, Bangalore/Bengaluru',\n",
       " 'Hyderabad/Secunderabad, Gurgaon/Gurugram, Bangalore/Bengaluru',\n",
       " 'Kolkata, Hyderabad/Secunderabad, Ahmedabad, Bangalore/Bengaluru, Delhi / NCR, jharkhand, odisha, west bengal\\n(WFH during Covid)',\n",
       " 'Delhi',\n",
       " 'Chandigarh, Hyderabad/Secunderabad, Chennai, Bangalore/Bengaluru, Delhi / NCR',\n",
       " 'Delhi']"
      ]
     },
     "execution_count": 223,
     "metadata": {},
     "output_type": "execute_result"
    }
   ],
   "source": [
    "Job_Location3=[]\n",
    "\n",
    "for i in loc_tags3:\n",
    "    Job_Location3.append(i.text)\n",
    "    \n",
    "Job_Location3"
   ]
  },
  {
   "cell_type": "code",
   "execution_count": 224,
   "metadata": {},
   "outputs": [],
   "source": [
    "cname_tags3=driver3.find_elements_by_xpath(\"//a[@class='subTitle ellipsis fleft']\")"
   ]
  },
  {
   "cell_type": "code",
   "execution_count": 225,
   "metadata": {},
   "outputs": [
    {
     "data": {
      "text/plain": [
       "['Creative Hands HR Consultancy',\n",
       " 'GABA Consultancy services',\n",
       " 'Skillenable Fintech Private Limited',\n",
       " 'PROCESS NINE TECHNOLOGIES PVT.LTD.',\n",
       " 'GABA Consultancy services',\n",
       " 'CARS24',\n",
       " 'IDESLABS PRIVATE LIMITED',\n",
       " 'R Systems International Ltd.',\n",
       " 'Kusum Healthcare Pvt. Ltd.',\n",
       " 'Quikruit Consulting LLP',\n",
       " 'MOTHERSONSUMI INFOTECH & DESIGNS LIMITED',\n",
       " 'PY Consultancy',\n",
       " 'TalPro',\n",
       " 'iHackers Inc',\n",
       " 'Fractal Analytics',\n",
       " 'inVentiv International Pharma Services Pvt. Ltd.',\n",
       " 'Experiture',\n",
       " 'iNICU',\n",
       " 'IDS Infotech Ltd.',\n",
       " 'Sentieo']"
      ]
     },
     "execution_count": 225,
     "metadata": {},
     "output_type": "execute_result"
    }
   ],
   "source": [
    "Company_Name3=[]\n",
    "\n",
    "for i in cname_tags3:\n",
    "    Company_Name3.append(i.text)\n",
    "    \n",
    "Company_Name3"
   ]
  },
  {
   "cell_type": "code",
   "execution_count": 226,
   "metadata": {},
   "outputs": [],
   "source": [
    "exp_tags3=driver3.find_elements_by_xpath(\"//li[@class='fleft grey-text br2 placeHolderLi experience']\")"
   ]
  },
  {
   "cell_type": "code",
   "execution_count": 227,
   "metadata": {},
   "outputs": [
    {
     "data": {
      "text/plain": [
       "['0-0 Yrs',\n",
       " '0-0 Yrs',\n",
       " '2-5 Yrs',\n",
       " '1-3 Yrs',\n",
       " '0-0 Yrs',\n",
       " '1-5 Yrs',\n",
       " '5-10 Yrs',\n",
       " '3-6 Yrs',\n",
       " '4-6 Yrs',\n",
       " '2-5 Yrs',\n",
       " '3-7 Yrs',\n",
       " '0-3 Yrs',\n",
       " '2-6 Yrs',\n",
       " '0-1 Yrs',\n",
       " '3-7 Yrs',\n",
       " '3-6 Yrs',\n",
       " '5-7 Yrs',\n",
       " '1-5 Yrs',\n",
       " '5-10 Yrs',\n",
       " '2-7 Yrs']"
      ]
     },
     "execution_count": 227,
     "metadata": {},
     "output_type": "execute_result"
    }
   ],
   "source": [
    "Exp_Required3=[]\n",
    "\n",
    "for i in exp_tags3:\n",
    "    Exp_Required3.append(i.text)\n",
    "    \n",
    "Exp_Required3"
   ]
  },
  {
   "cell_type": "code",
   "execution_count": 228,
   "metadata": {},
   "outputs": [
    {
     "name": "stdout",
     "output_type": "stream",
     "text": [
      "20 20 20 20\n"
     ]
    }
   ],
   "source": [
    "print(len(Job_Title3),len(Job_Location3),len(Company_Name3),len(Exp_Required3))"
   ]
  },
  {
   "cell_type": "code",
   "execution_count": 232,
   "metadata": {},
   "outputs": [
    {
     "data": {
      "text/html": [
       "<div>\n",
       "<style scoped>\n",
       "    .dataframe tbody tr th:only-of-type {\n",
       "        vertical-align: middle;\n",
       "    }\n",
       "\n",
       "    .dataframe tbody tr th {\n",
       "        vertical-align: top;\n",
       "    }\n",
       "\n",
       "    .dataframe thead th {\n",
       "        text-align: right;\n",
       "    }\n",
       "</style>\n",
       "<table border=\"1\" class=\"dataframe\">\n",
       "  <thead>\n",
       "    <tr style=\"text-align: right;\">\n",
       "      <th></th>\n",
       "      <th>Job-Title</th>\n",
       "      <th>Job-Location</th>\n",
       "      <th>Company-Name</th>\n",
       "      <th>Experience-Required</th>\n",
       "    </tr>\n",
       "  </thead>\n",
       "  <tbody>\n",
       "    <tr>\n",
       "      <th>0</th>\n",
       "      <td>Data Scientist/ Machine Learning Engineer</td>\n",
       "      <td>Mohali/SAS Nagar, Hyderabad/Secunderabad, Ahme...</td>\n",
       "      <td>Creative Hands HR Consultancy</td>\n",
       "      <td>0-0 Yrs</td>\n",
       "    </tr>\n",
       "    <tr>\n",
       "      <th>1</th>\n",
       "      <td>Only Fresher / Data Scientist / Data Analyst /...</td>\n",
       "      <td>Noida, Gurgaon/Gurugram, Delhi / NCR</td>\n",
       "      <td>GABA Consultancy services</td>\n",
       "      <td>0-0 Yrs</td>\n",
       "    </tr>\n",
       "    <tr>\n",
       "      <th>2</th>\n",
       "      <td>Data Analyst/Data Scientist</td>\n",
       "      <td>Bangalore/Bengaluru, Delhi / NCR, Mumbai (All ...</td>\n",
       "      <td>Skillenable Fintech Private Limited</td>\n",
       "      <td>2-5 Yrs</td>\n",
       "    </tr>\n",
       "    <tr>\n",
       "      <th>3</th>\n",
       "      <td>Data Scientist</td>\n",
       "      <td>Gurgaon/Gurugram\\n(WFH during Covid)</td>\n",
       "      <td>PROCESS NINE TECHNOLOGIES PVT.LTD.</td>\n",
       "      <td>1-3 Yrs</td>\n",
       "    </tr>\n",
       "    <tr>\n",
       "      <th>4</th>\n",
       "      <td>Data Scientist / Data Analyst / Business Analy...</td>\n",
       "      <td>Noida, New Delhi, Gurgaon/Gurugram</td>\n",
       "      <td>GABA Consultancy services</td>\n",
       "      <td>0-0 Yrs</td>\n",
       "    </tr>\n",
       "    <tr>\n",
       "      <th>5</th>\n",
       "      <td>Data Scientist / Data Analyst</td>\n",
       "      <td>Gurgaon/Gurugram</td>\n",
       "      <td>CARS24</td>\n",
       "      <td>1-5 Yrs</td>\n",
       "    </tr>\n",
       "    <tr>\n",
       "      <th>6</th>\n",
       "      <td>Immediate Openings For Data Scientist For Wipr...</td>\n",
       "      <td>Gurgaon/Gurugram</td>\n",
       "      <td>IDESLABS PRIVATE LIMITED</td>\n",
       "      <td>5-10 Yrs</td>\n",
       "    </tr>\n",
       "    <tr>\n",
       "      <th>7</th>\n",
       "      <td>Data Scientist</td>\n",
       "      <td>Noida\\n(WFH during Covid)</td>\n",
       "      <td>R Systems International Ltd.</td>\n",
       "      <td>3-6 Yrs</td>\n",
       "    </tr>\n",
       "    <tr>\n",
       "      <th>8</th>\n",
       "      <td>Data Scientist</td>\n",
       "      <td>Delhi / NCR(Okhla)</td>\n",
       "      <td>Kusum Healthcare Pvt. Ltd.</td>\n",
       "      <td>4-6 Yrs</td>\n",
       "    </tr>\n",
       "    <tr>\n",
       "      <th>9</th>\n",
       "      <td>Data Scientist-immediate Joiners</td>\n",
       "      <td>Noida</td>\n",
       "      <td>Quikruit Consulting LLP</td>\n",
       "      <td>2-5 Yrs</td>\n",
       "    </tr>\n",
       "  </tbody>\n",
       "</table>\n",
       "</div>"
      ],
      "text/plain": [
       "                                           Job-Title  \\\n",
       "0          Data Scientist/ Machine Learning Engineer   \n",
       "1  Only Fresher / Data Scientist / Data Analyst /...   \n",
       "2                        Data Analyst/Data Scientist   \n",
       "3                                     Data Scientist   \n",
       "4  Data Scientist / Data Analyst / Business Analy...   \n",
       "5                      Data Scientist / Data Analyst   \n",
       "6  Immediate Openings For Data Scientist For Wipr...   \n",
       "7                                     Data Scientist   \n",
       "8                                     Data Scientist   \n",
       "9                   Data Scientist-immediate Joiners   \n",
       "\n",
       "                                        Job-Location  \\\n",
       "0  Mohali/SAS Nagar, Hyderabad/Secunderabad, Ahme...   \n",
       "1               Noida, Gurgaon/Gurugram, Delhi / NCR   \n",
       "2  Bangalore/Bengaluru, Delhi / NCR, Mumbai (All ...   \n",
       "3               Gurgaon/Gurugram\\n(WFH during Covid)   \n",
       "4                 Noida, New Delhi, Gurgaon/Gurugram   \n",
       "5                                   Gurgaon/Gurugram   \n",
       "6                                   Gurgaon/Gurugram   \n",
       "7                          Noida\\n(WFH during Covid)   \n",
       "8                                 Delhi / NCR(Okhla)   \n",
       "9                                              Noida   \n",
       "\n",
       "                          Company-Name Experience-Required  \n",
       "0        Creative Hands HR Consultancy             0-0 Yrs  \n",
       "1            GABA Consultancy services             0-0 Yrs  \n",
       "2  Skillenable Fintech Private Limited             2-5 Yrs  \n",
       "3   PROCESS NINE TECHNOLOGIES PVT.LTD.             1-3 Yrs  \n",
       "4            GABA Consultancy services             0-0 Yrs  \n",
       "5                               CARS24             1-5 Yrs  \n",
       "6             IDESLABS PRIVATE LIMITED            5-10 Yrs  \n",
       "7         R Systems International Ltd.             3-6 Yrs  \n",
       "8           Kusum Healthcare Pvt. Ltd.             4-6 Yrs  \n",
       "9              Quikruit Consulting LLP             2-5 Yrs  "
      ]
     },
     "execution_count": 232,
     "metadata": {},
     "output_type": "execute_result"
    }
   ],
   "source": [
    "df3=pd.DataFrame()\n",
    "\n",
    "df3['Job-Title']=Job_Title3\n",
    "df3['Job-Location']=Job_Location3\n",
    "df3['Company-Name']=Company_Name3\n",
    "df3['Experience-Required']=Exp_Required3\n",
    "\n",
    "df3[0:10]"
   ]
  },
  {
   "cell_type": "markdown",
   "metadata": {},
   "source": [
    "# 4: Write a python program to scrape data for first 10 job results for Data scientist \n",
    "Designation in Noida location. You have to scrape company_name, No. of days \n",
    "ago when job was posted, Rating of the company."
   ]
  },
  {
   "cell_type": "markdown",
   "metadata": {},
   "source": [
    "This task will be done in following steps"
   ]
  },
  {
   "cell_type": "markdown",
   "metadata": {},
   "source": [
    "1.first get the webpage https://www.glassdoor.co.in/index.htm"
   ]
  },
  {
   "cell_type": "markdown",
   "metadata": {},
   "source": [
    "2.Enter “Data Scientist” in “Job Title,Keyword,Company” field and enter “Noida” in “location” field."
   ]
  },
  {
   "cell_type": "markdown",
   "metadata": {},
   "source": [
    "3.Then click the search button."
   ]
  },
  {
   "cell_type": "markdown",
   "metadata": {},
   "source": [
    "4.Then scrape the data for the first 10 jobs results"
   ]
  },
  {
   "cell_type": "markdown",
   "metadata": {},
   "source": [
    "5.Finally create a dataframe of the scraped data. Note- All of the above steps have to be done in code. No step is to be done manually."
   ]
  },
  {
   "cell_type": "code",
   "execution_count": 234,
   "metadata": {},
   "outputs": [],
   "source": [
    "driver4=webdriver.Chrome('chromedriver.exe')"
   ]
  },
  {
   "cell_type": "code",
   "execution_count": 235,
   "metadata": {},
   "outputs": [],
   "source": [
    "url4='https://www.glassdoor.co.in/member/home/index.htm'"
   ]
  },
  {
   "cell_type": "code",
   "execution_count": 236,
   "metadata": {},
   "outputs": [],
   "source": [
    "driver4.get(url4)"
   ]
  },
  {
   "cell_type": "code",
   "execution_count": 237,
   "metadata": {},
   "outputs": [],
   "source": [
    "search_job_tag=driver4.find_element_by_xpath(\"//input[@class='css-1etjok6']\")"
   ]
  },
  {
   "cell_type": "code",
   "execution_count": 238,
   "metadata": {},
   "outputs": [],
   "source": [
    "search_job_tag.send_keys('Data Scientist')"
   ]
  },
  {
   "cell_type": "code",
   "execution_count": 239,
   "metadata": {},
   "outputs": [],
   "source": [
    "loc_tag=driver4.find_element_by_xpath(\"//input[@id='sc.location']\")"
   ]
  },
  {
   "cell_type": "code",
   "execution_count": 240,
   "metadata": {},
   "outputs": [],
   "source": [
    "loc_tag.send_keys('Noida')"
   ]
  },
  {
   "cell_type": "code",
   "execution_count": 241,
   "metadata": {},
   "outputs": [],
   "source": [
    "search_btn=driver4.find_element_by_xpath(\"//span[@class='css-8zxfjs']\").click()"
   ]
  },
  {
   "cell_type": "code",
   "execution_count": 251,
   "metadata": {},
   "outputs": [
    {
     "data": {
      "text/plain": [
       "[<selenium.webdriver.remote.webelement.WebElement (session=\"15afc44b36306949393d12c285c7a259\", element=\"49731509-d236-43da-b7b7-2451dc2e4518\")>,\n",
       " <selenium.webdriver.remote.webelement.WebElement (session=\"15afc44b36306949393d12c285c7a259\", element=\"5d53b855-4d30-4a0e-b8fb-aff146cb53a4\")>,\n",
       " <selenium.webdriver.remote.webelement.WebElement (session=\"15afc44b36306949393d12c285c7a259\", element=\"294cdece-8ed8-4ee2-8aa3-3cde3ac4876c\")>,\n",
       " <selenium.webdriver.remote.webelement.WebElement (session=\"15afc44b36306949393d12c285c7a259\", element=\"9dbc97bb-5607-4694-8239-ca64dd297b54\")>,\n",
       " <selenium.webdriver.remote.webelement.WebElement (session=\"15afc44b36306949393d12c285c7a259\", element=\"e7e6dfbc-c4fe-46ca-830c-96e6eb9a2273\")>,\n",
       " <selenium.webdriver.remote.webelement.WebElement (session=\"15afc44b36306949393d12c285c7a259\", element=\"8de040bd-57c2-4f90-9abc-037c5de5ed25\")>,\n",
       " <selenium.webdriver.remote.webelement.WebElement (session=\"15afc44b36306949393d12c285c7a259\", element=\"39e84a9a-e68e-4772-b9c7-e07b2ff50e81\")>,\n",
       " <selenium.webdriver.remote.webelement.WebElement (session=\"15afc44b36306949393d12c285c7a259\", element=\"d8d7123e-c829-492d-bb43-6dd84b885ffe\")>,\n",
       " <selenium.webdriver.remote.webelement.WebElement (session=\"15afc44b36306949393d12c285c7a259\", element=\"9dcb78ce-e610-42dd-9c73-da051e345145\")>,\n",
       " <selenium.webdriver.remote.webelement.WebElement (session=\"15afc44b36306949393d12c285c7a259\", element=\"1c2d2092-af3a-4ead-815a-ec11e737c2cd\")>,\n",
       " <selenium.webdriver.remote.webelement.WebElement (session=\"15afc44b36306949393d12c285c7a259\", element=\"c58441dd-bab7-4f6e-a53f-2038c34e8fec\")>,\n",
       " <selenium.webdriver.remote.webelement.WebElement (session=\"15afc44b36306949393d12c285c7a259\", element=\"2d277de5-962e-4bf5-8b93-523709ae3e2e\")>,\n",
       " <selenium.webdriver.remote.webelement.WebElement (session=\"15afc44b36306949393d12c285c7a259\", element=\"11afeae4-570f-4ac0-bdbd-a1fd230d8331\")>,\n",
       " <selenium.webdriver.remote.webelement.WebElement (session=\"15afc44b36306949393d12c285c7a259\", element=\"4297fc5c-8958-4ef1-82c7-36107c9ba91e\")>,\n",
       " <selenium.webdriver.remote.webelement.WebElement (session=\"15afc44b36306949393d12c285c7a259\", element=\"647f2791-f6d9-4bea-81cd-58476f6e1d3a\")>,\n",
       " <selenium.webdriver.remote.webelement.WebElement (session=\"15afc44b36306949393d12c285c7a259\", element=\"eed50f95-4730-4d1e-bb1d-3c19c4868288\")>,\n",
       " <selenium.webdriver.remote.webelement.WebElement (session=\"15afc44b36306949393d12c285c7a259\", element=\"4d2f20d4-a1ec-4167-9deb-6dd0ffeae418\")>,\n",
       " <selenium.webdriver.remote.webelement.WebElement (session=\"15afc44b36306949393d12c285c7a259\", element=\"af3afb5d-5f79-425a-b1e6-c3d34b1eb190\")>,\n",
       " <selenium.webdriver.remote.webelement.WebElement (session=\"15afc44b36306949393d12c285c7a259\", element=\"6f2e8f2f-5745-4e62-ac4b-3d2e10a7c40b\")>,\n",
       " <selenium.webdriver.remote.webelement.WebElement (session=\"15afc44b36306949393d12c285c7a259\", element=\"49b4ecc6-05b7-45a9-8445-89ef1028c816\")>,\n",
       " <selenium.webdriver.remote.webelement.WebElement (session=\"15afc44b36306949393d12c285c7a259\", element=\"4df7888d-0402-4ce9-94cf-0d40f29e5a0c\")>,\n",
       " <selenium.webdriver.remote.webelement.WebElement (session=\"15afc44b36306949393d12c285c7a259\", element=\"4a7d2f49-34ad-40d6-a747-807c2bf670db\")>,\n",
       " <selenium.webdriver.remote.webelement.WebElement (session=\"15afc44b36306949393d12c285c7a259\", element=\"1ca1ee78-f4f8-47ed-b137-03fdd213f6f0\")>,\n",
       " <selenium.webdriver.remote.webelement.WebElement (session=\"15afc44b36306949393d12c285c7a259\", element=\"4eaa51b5-ecac-4109-882f-59e732e8e421\")>,\n",
       " <selenium.webdriver.remote.webelement.WebElement (session=\"15afc44b36306949393d12c285c7a259\", element=\"2a7550e8-18e6-4844-bf8d-ca4228f7f303\")>,\n",
       " <selenium.webdriver.remote.webelement.WebElement (session=\"15afc44b36306949393d12c285c7a259\", element=\"57161264-00f4-48d4-894f-0001b7f2c70f\")>,\n",
       " <selenium.webdriver.remote.webelement.WebElement (session=\"15afc44b36306949393d12c285c7a259\", element=\"98e32f77-da38-40aa-8338-4120ec459bd4\")>,\n",
       " <selenium.webdriver.remote.webelement.WebElement (session=\"15afc44b36306949393d12c285c7a259\", element=\"8a282791-c2cb-4cc7-9327-a8d7192dd45a\")>,\n",
       " <selenium.webdriver.remote.webelement.WebElement (session=\"15afc44b36306949393d12c285c7a259\", element=\"81b03204-b8aa-4c14-bfe5-ad388137feb7\")>,\n",
       " <selenium.webdriver.remote.webelement.WebElement (session=\"15afc44b36306949393d12c285c7a259\", element=\"a1b6accf-1e82-4c39-a524-264a22af9e5f\")>]"
      ]
     },
     "execution_count": 251,
     "metadata": {},
     "output_type": "execute_result"
    }
   ],
   "source": [
    "cname_tags4=driver4.find_elements_by_xpath(\"//div[@class='d-flex justify-content-between align-items-start']\")\n",
    "cname_tags4"
   ]
  },
  {
   "cell_type": "code",
   "execution_count": 252,
   "metadata": {},
   "outputs": [
    {
     "data": {
      "text/plain": [
       "30"
      ]
     },
     "execution_count": 252,
     "metadata": {},
     "output_type": "execute_result"
    }
   ],
   "source": [
    "Company_Name4=[]\n",
    "\n",
    "for i in cname_tags4:\n",
    "    Company_Name4.append(i.text)\n",
    "    \n",
    "len(Company_Name4)"
   ]
  },
  {
   "cell_type": "code",
   "execution_count": 255,
   "metadata": {},
   "outputs": [],
   "source": [
    "job_post_tags4=driver4.find_elements_by_xpath(\"//div[@class='d-flex justify-content-between css-pa6dqi']\")"
   ]
  },
  {
   "cell_type": "code",
   "execution_count": 256,
   "metadata": {},
   "outputs": [
    {
     "data": {
      "text/plain": [
       "30"
      ]
     },
     "execution_count": 256,
     "metadata": {},
     "output_type": "execute_result"
    }
   ],
   "source": [
    "Days=[]\n",
    "\n",
    "for i in job_post_tags4:\n",
    "    \n",
    "    Days.append(i.text)\n",
    "    \n",
    "len(Days)"
   ]
  },
  {
   "cell_type": "code",
   "execution_count": 285,
   "metadata": {},
   "outputs": [],
   "source": [
    "url4=driver4.find_elements_by_xpath(\"//div[@class='d-flex justify-content-between align-items-start']//a\")\n"
   ]
  },
  {
   "cell_type": "code",
   "execution_count": 286,
   "metadata": {},
   "outputs": [
    {
     "data": {
      "text/plain": [
       "[<selenium.webdriver.remote.webelement.WebElement (session=\"15afc44b36306949393d12c285c7a259\", element=\"00747e87-06cd-433b-b759-9558d5e65fff\")>,\n",
       " <selenium.webdriver.remote.webelement.WebElement (session=\"15afc44b36306949393d12c285c7a259\", element=\"6a450035-ee01-4c28-af81-82e5ebc845a0\")>,\n",
       " <selenium.webdriver.remote.webelement.WebElement (session=\"15afc44b36306949393d12c285c7a259\", element=\"9a41b03b-dc4a-4047-a9f1-66bdcf6b3250\")>,\n",
       " <selenium.webdriver.remote.webelement.WebElement (session=\"15afc44b36306949393d12c285c7a259\", element=\"15d97a29-93e1-46ee-b41f-1734176b7acb\")>,\n",
       " <selenium.webdriver.remote.webelement.WebElement (session=\"15afc44b36306949393d12c285c7a259\", element=\"86d444f6-3683-489d-9150-0e19a84adbb1\")>,\n",
       " <selenium.webdriver.remote.webelement.WebElement (session=\"15afc44b36306949393d12c285c7a259\", element=\"1d955b38-0e8e-4941-b876-e97a2afc2172\")>,\n",
       " <selenium.webdriver.remote.webelement.WebElement (session=\"15afc44b36306949393d12c285c7a259\", element=\"c0b3f7b4-70d1-4ba9-8aed-5934e7b8b08a\")>,\n",
       " <selenium.webdriver.remote.webelement.WebElement (session=\"15afc44b36306949393d12c285c7a259\", element=\"9a99ecd1-82c1-437e-9de1-b30aaecc5a10\")>,\n",
       " <selenium.webdriver.remote.webelement.WebElement (session=\"15afc44b36306949393d12c285c7a259\", element=\"21e3489f-d2d2-4fb2-b0ab-c3c81536fb98\")>,\n",
       " <selenium.webdriver.remote.webelement.WebElement (session=\"15afc44b36306949393d12c285c7a259\", element=\"8e8d6d55-a017-40eb-97d9-b54e83142f85\")>,\n",
       " <selenium.webdriver.remote.webelement.WebElement (session=\"15afc44b36306949393d12c285c7a259\", element=\"a3908bc9-4ef1-4978-8fbf-dc870185b7b6\")>,\n",
       " <selenium.webdriver.remote.webelement.WebElement (session=\"15afc44b36306949393d12c285c7a259\", element=\"bbb29010-9e7c-4760-8ebe-63beee68e348\")>,\n",
       " <selenium.webdriver.remote.webelement.WebElement (session=\"15afc44b36306949393d12c285c7a259\", element=\"5899e90e-4425-414c-a773-96f896c48425\")>,\n",
       " <selenium.webdriver.remote.webelement.WebElement (session=\"15afc44b36306949393d12c285c7a259\", element=\"b664bf63-468f-4a42-bad2-7d9e76f6beca\")>,\n",
       " <selenium.webdriver.remote.webelement.WebElement (session=\"15afc44b36306949393d12c285c7a259\", element=\"7303c1fc-e2c6-4783-b953-d4cc9ab10cf8\")>,\n",
       " <selenium.webdriver.remote.webelement.WebElement (session=\"15afc44b36306949393d12c285c7a259\", element=\"940dfe95-7d62-464f-bff2-15e1fda957dd\")>,\n",
       " <selenium.webdriver.remote.webelement.WebElement (session=\"15afc44b36306949393d12c285c7a259\", element=\"5b6bd304-5c30-4754-8f2d-998a3e504eb7\")>,\n",
       " <selenium.webdriver.remote.webelement.WebElement (session=\"15afc44b36306949393d12c285c7a259\", element=\"6b0fa624-ed21-4e76-ade1-e1e85457da4f\")>,\n",
       " <selenium.webdriver.remote.webelement.WebElement (session=\"15afc44b36306949393d12c285c7a259\", element=\"8cdf691d-4daa-41d4-b536-c43ddeeb7b86\")>,\n",
       " <selenium.webdriver.remote.webelement.WebElement (session=\"15afc44b36306949393d12c285c7a259\", element=\"f13557ff-f39d-49ec-b3c3-0b64f5ff45bf\")>,\n",
       " <selenium.webdriver.remote.webelement.WebElement (session=\"15afc44b36306949393d12c285c7a259\", element=\"84d6e161-1b21-4b7e-bb7c-d1afbe7dc176\")>,\n",
       " <selenium.webdriver.remote.webelement.WebElement (session=\"15afc44b36306949393d12c285c7a259\", element=\"559b3a1c-7739-4ca4-a616-79257ff379ef\")>,\n",
       " <selenium.webdriver.remote.webelement.WebElement (session=\"15afc44b36306949393d12c285c7a259\", element=\"1297fcec-7b52-4d73-8a75-84e435095ff4\")>,\n",
       " <selenium.webdriver.remote.webelement.WebElement (session=\"15afc44b36306949393d12c285c7a259\", element=\"20828d6b-44e2-4d90-865e-615e33563265\")>,\n",
       " <selenium.webdriver.remote.webelement.WebElement (session=\"15afc44b36306949393d12c285c7a259\", element=\"ce9d0420-60d2-4ec4-a1c6-a7d503f24d16\")>,\n",
       " <selenium.webdriver.remote.webelement.WebElement (session=\"15afc44b36306949393d12c285c7a259\", element=\"6556133d-7657-432b-bee6-eb9f4f731659\")>,\n",
       " <selenium.webdriver.remote.webelement.WebElement (session=\"15afc44b36306949393d12c285c7a259\", element=\"f62af863-fb69-428d-88e6-8edccb8a5588\")>,\n",
       " <selenium.webdriver.remote.webelement.WebElement (session=\"15afc44b36306949393d12c285c7a259\", element=\"4e3977b3-f9c9-4ee3-8483-11ddd304a177\")>,\n",
       " <selenium.webdriver.remote.webelement.WebElement (session=\"15afc44b36306949393d12c285c7a259\", element=\"e6efe151-2c7f-4a22-9569-4b36040b204b\")>,\n",
       " <selenium.webdriver.remote.webelement.WebElement (session=\"15afc44b36306949393d12c285c7a259\", element=\"33ed46ae-2eb0-41e4-bab6-0e6639503a02\")>]"
      ]
     },
     "execution_count": 286,
     "metadata": {},
     "output_type": "execute_result"
    }
   ],
   "source": [
    "url4"
   ]
  },
  {
   "cell_type": "code",
   "execution_count": 287,
   "metadata": {},
   "outputs": [
    {
     "data": {
      "text/plain": [
       "[<selenium.webdriver.remote.webelement.WebElement (session=\"15afc44b36306949393d12c285c7a259\", element=\"00747e87-06cd-433b-b759-9558d5e65fff\")>,\n",
       " <selenium.webdriver.remote.webelement.WebElement (session=\"15afc44b36306949393d12c285c7a259\", element=\"6a450035-ee01-4c28-af81-82e5ebc845a0\")>,\n",
       " <selenium.webdriver.remote.webelement.WebElement (session=\"15afc44b36306949393d12c285c7a259\", element=\"9a41b03b-dc4a-4047-a9f1-66bdcf6b3250\")>,\n",
       " <selenium.webdriver.remote.webelement.WebElement (session=\"15afc44b36306949393d12c285c7a259\", element=\"15d97a29-93e1-46ee-b41f-1734176b7acb\")>,\n",
       " <selenium.webdriver.remote.webelement.WebElement (session=\"15afc44b36306949393d12c285c7a259\", element=\"86d444f6-3683-489d-9150-0e19a84adbb1\")>,\n",
       " <selenium.webdriver.remote.webelement.WebElement (session=\"15afc44b36306949393d12c285c7a259\", element=\"1d955b38-0e8e-4941-b876-e97a2afc2172\")>,\n",
       " <selenium.webdriver.remote.webelement.WebElement (session=\"15afc44b36306949393d12c285c7a259\", element=\"c0b3f7b4-70d1-4ba9-8aed-5934e7b8b08a\")>,\n",
       " <selenium.webdriver.remote.webelement.WebElement (session=\"15afc44b36306949393d12c285c7a259\", element=\"9a99ecd1-82c1-437e-9de1-b30aaecc5a10\")>,\n",
       " <selenium.webdriver.remote.webelement.WebElement (session=\"15afc44b36306949393d12c285c7a259\", element=\"21e3489f-d2d2-4fb2-b0ab-c3c81536fb98\")>,\n",
       " <selenium.webdriver.remote.webelement.WebElement (session=\"15afc44b36306949393d12c285c7a259\", element=\"8e8d6d55-a017-40eb-97d9-b54e83142f85\")>,\n",
       " <selenium.webdriver.remote.webelement.WebElement (session=\"15afc44b36306949393d12c285c7a259\", element=\"a3908bc9-4ef1-4978-8fbf-dc870185b7b6\")>,\n",
       " <selenium.webdriver.remote.webelement.WebElement (session=\"15afc44b36306949393d12c285c7a259\", element=\"bbb29010-9e7c-4760-8ebe-63beee68e348\")>,\n",
       " <selenium.webdriver.remote.webelement.WebElement (session=\"15afc44b36306949393d12c285c7a259\", element=\"5899e90e-4425-414c-a773-96f896c48425\")>,\n",
       " <selenium.webdriver.remote.webelement.WebElement (session=\"15afc44b36306949393d12c285c7a259\", element=\"b664bf63-468f-4a42-bad2-7d9e76f6beca\")>,\n",
       " <selenium.webdriver.remote.webelement.WebElement (session=\"15afc44b36306949393d12c285c7a259\", element=\"7303c1fc-e2c6-4783-b953-d4cc9ab10cf8\")>,\n",
       " <selenium.webdriver.remote.webelement.WebElement (session=\"15afc44b36306949393d12c285c7a259\", element=\"940dfe95-7d62-464f-bff2-15e1fda957dd\")>,\n",
       " <selenium.webdriver.remote.webelement.WebElement (session=\"15afc44b36306949393d12c285c7a259\", element=\"5b6bd304-5c30-4754-8f2d-998a3e504eb7\")>,\n",
       " <selenium.webdriver.remote.webelement.WebElement (session=\"15afc44b36306949393d12c285c7a259\", element=\"6b0fa624-ed21-4e76-ade1-e1e85457da4f\")>,\n",
       " <selenium.webdriver.remote.webelement.WebElement (session=\"15afc44b36306949393d12c285c7a259\", element=\"8cdf691d-4daa-41d4-b536-c43ddeeb7b86\")>,\n",
       " <selenium.webdriver.remote.webelement.WebElement (session=\"15afc44b36306949393d12c285c7a259\", element=\"f13557ff-f39d-49ec-b3c3-0b64f5ff45bf\")>,\n",
       " <selenium.webdriver.remote.webelement.WebElement (session=\"15afc44b36306949393d12c285c7a259\", element=\"84d6e161-1b21-4b7e-bb7c-d1afbe7dc176\")>,\n",
       " <selenium.webdriver.remote.webelement.WebElement (session=\"15afc44b36306949393d12c285c7a259\", element=\"559b3a1c-7739-4ca4-a616-79257ff379ef\")>,\n",
       " <selenium.webdriver.remote.webelement.WebElement (session=\"15afc44b36306949393d12c285c7a259\", element=\"1297fcec-7b52-4d73-8a75-84e435095ff4\")>,\n",
       " <selenium.webdriver.remote.webelement.WebElement (session=\"15afc44b36306949393d12c285c7a259\", element=\"20828d6b-44e2-4d90-865e-615e33563265\")>,\n",
       " <selenium.webdriver.remote.webelement.WebElement (session=\"15afc44b36306949393d12c285c7a259\", element=\"ce9d0420-60d2-4ec4-a1c6-a7d503f24d16\")>,\n",
       " <selenium.webdriver.remote.webelement.WebElement (session=\"15afc44b36306949393d12c285c7a259\", element=\"6556133d-7657-432b-bee6-eb9f4f731659\")>,\n",
       " <selenium.webdriver.remote.webelement.WebElement (session=\"15afc44b36306949393d12c285c7a259\", element=\"f62af863-fb69-428d-88e6-8edccb8a5588\")>,\n",
       " <selenium.webdriver.remote.webelement.WebElement (session=\"15afc44b36306949393d12c285c7a259\", element=\"4e3977b3-f9c9-4ee3-8483-11ddd304a177\")>,\n",
       " <selenium.webdriver.remote.webelement.WebElement (session=\"15afc44b36306949393d12c285c7a259\", element=\"e6efe151-2c7f-4a22-9569-4b36040b204b\")>,\n",
       " <selenium.webdriver.remote.webelement.WebElement (session=\"15afc44b36306949393d12c285c7a259\", element=\"33ed46ae-2eb0-41e4-bab6-0e6639503a02\")>]"
      ]
     },
     "execution_count": 287,
     "metadata": {},
     "output_type": "execute_result"
    }
   ],
   "source": [
    "Url4=[]\n",
    "\n",
    "for i in url4:\n",
    "    Url4.append(i.get_attribute('href'))\n",
    "    \n",
    "url4"
   ]
  },
  {
   "cell_type": "code",
   "execution_count": 272,
   "metadata": {},
   "outputs": [],
   "source": [
    "rating_tags=driver4.find_elements_by_xpath(\"//span[@class=' job-search-key-srfzj0 e1cjmv6j0']\")"
   ]
  },
  {
   "cell_type": "code",
   "execution_count": 273,
   "metadata": {
    "scrolled": true
   },
   "outputs": [
    {
     "data": {
      "text/plain": [
       "[<selenium.webdriver.remote.webelement.WebElement (session=\"15afc44b36306949393d12c285c7a259\", element=\"847a3fac-6d66-464c-8cbf-d80f600e75b2\")>,\n",
       " <selenium.webdriver.remote.webelement.WebElement (session=\"15afc44b36306949393d12c285c7a259\", element=\"698717a3-1955-4c3d-a0c0-d58178461d19\")>,\n",
       " <selenium.webdriver.remote.webelement.WebElement (session=\"15afc44b36306949393d12c285c7a259\", element=\"708da59f-95f0-48b0-88d2-39d10e7326da\")>,\n",
       " <selenium.webdriver.remote.webelement.WebElement (session=\"15afc44b36306949393d12c285c7a259\", element=\"55a6094b-280e-440a-bd7d-cc9c8e56cc33\")>,\n",
       " <selenium.webdriver.remote.webelement.WebElement (session=\"15afc44b36306949393d12c285c7a259\", element=\"f3fd3cba-d4bd-4af3-b145-3692b309b66a\")>,\n",
       " <selenium.webdriver.remote.webelement.WebElement (session=\"15afc44b36306949393d12c285c7a259\", element=\"74fcb59b-b347-44ee-9980-513905699200\")>,\n",
       " <selenium.webdriver.remote.webelement.WebElement (session=\"15afc44b36306949393d12c285c7a259\", element=\"20dfef25-698f-4fd3-92c3-b9723a841515\")>,\n",
       " <selenium.webdriver.remote.webelement.WebElement (session=\"15afc44b36306949393d12c285c7a259\", element=\"d94e7133-6043-4694-9262-a00e411a4804\")>,\n",
       " <selenium.webdriver.remote.webelement.WebElement (session=\"15afc44b36306949393d12c285c7a259\", element=\"4ebafa2f-0515-4e95-b403-88ef86e1dfdf\")>,\n",
       " <selenium.webdriver.remote.webelement.WebElement (session=\"15afc44b36306949393d12c285c7a259\", element=\"918366fb-f11f-4d54-aa55-cc3686293ec2\")>,\n",
       " <selenium.webdriver.remote.webelement.WebElement (session=\"15afc44b36306949393d12c285c7a259\", element=\"fcccbf9a-2ef5-4052-8885-74ff3b2e886c\")>,\n",
       " <selenium.webdriver.remote.webelement.WebElement (session=\"15afc44b36306949393d12c285c7a259\", element=\"29ffb79a-9af9-4199-b8ad-e01d988af28c\")>,\n",
       " <selenium.webdriver.remote.webelement.WebElement (session=\"15afc44b36306949393d12c285c7a259\", element=\"34685811-ff20-4cac-b480-7d6bcd62dd08\")>,\n",
       " <selenium.webdriver.remote.webelement.WebElement (session=\"15afc44b36306949393d12c285c7a259\", element=\"77dc7b59-46d3-4be0-8fa5-76c380d33536\")>,\n",
       " <selenium.webdriver.remote.webelement.WebElement (session=\"15afc44b36306949393d12c285c7a259\", element=\"552f4428-a196-40f5-a16c-64b2492af541\")>,\n",
       " <selenium.webdriver.remote.webelement.WebElement (session=\"15afc44b36306949393d12c285c7a259\", element=\"342a6556-a992-45df-a412-3e7915b1ab08\")>,\n",
       " <selenium.webdriver.remote.webelement.WebElement (session=\"15afc44b36306949393d12c285c7a259\", element=\"03759f3e-18e5-4832-a00e-237653f827f6\")>,\n",
       " <selenium.webdriver.remote.webelement.WebElement (session=\"15afc44b36306949393d12c285c7a259\", element=\"b1ae413e-d965-4d5b-9520-d0e4a563816b\")>,\n",
       " <selenium.webdriver.remote.webelement.WebElement (session=\"15afc44b36306949393d12c285c7a259\", element=\"82faf150-0769-41e8-80d2-6034ed8befdf\")>,\n",
       " <selenium.webdriver.remote.webelement.WebElement (session=\"15afc44b36306949393d12c285c7a259\", element=\"99b2e6ec-2cd2-4f31-b983-5f66ecf38f86\")>,\n",
       " <selenium.webdriver.remote.webelement.WebElement (session=\"15afc44b36306949393d12c285c7a259\", element=\"b548f848-cd3c-48e7-9d5b-d5226afc833f\")>]"
      ]
     },
     "execution_count": 273,
     "metadata": {},
     "output_type": "execute_result"
    }
   ],
   "source": [
    "rating_tags"
   ]
  },
  {
   "cell_type": "code",
   "execution_count": 271,
   "metadata": {},
   "outputs": [],
   "source": [
    "from selenium.common.exceptions import NoSuchElementException"
   ]
  },
  {
   "cell_type": "code",
   "execution_count": 282,
   "metadata": {},
   "outputs": [],
   "source": [
    "Rating=[]\n",
    "try:\n",
    "    rating_tags=driver4.find_elements_by_xpath(\"//span[@class=' job-search-key-srfzj0 e1cjmv6j0']\")\n",
    "    for i in rating_tags:\n",
    "        Rating.append(i.text)\n",
    "except:\n",
    "    Rating.append('-')\n",
    "    "
   ]
  },
  {
   "cell_type": "code",
   "execution_count": 283,
   "metadata": {},
   "outputs": [
    {
     "data": {
      "text/plain": [
       "['3.8',\n",
       " '3.5',\n",
       " '3.9',\n",
       " '3.5',\n",
       " '3.8',\n",
       " '3.8',\n",
       " '3.9',\n",
       " '4.1',\n",
       " '3.3',\n",
       " '3.6',\n",
       " '3.6',\n",
       " '3.8',\n",
       " '3.8',\n",
       " '4.2',\n",
       " '4.5',\n",
       " '4.0',\n",
       " '3.2',\n",
       " '3.8',\n",
       " '4.4',\n",
       " '2.4',\n",
       " '4.4']"
      ]
     },
     "execution_count": 283,
     "metadata": {},
     "output_type": "execute_result"
    }
   ],
   "source": [
    "Rating"
   ]
  },
  {
   "cell_type": "code",
   "execution_count": 296,
   "metadata": {},
   "outputs": [
    {
     "data": {
      "text/html": [
       "<div>\n",
       "<style scoped>\n",
       "    .dataframe tbody tr th:only-of-type {\n",
       "        vertical-align: middle;\n",
       "    }\n",
       "\n",
       "    .dataframe tbody tr th {\n",
       "        vertical-align: top;\n",
       "    }\n",
       "\n",
       "    .dataframe thead th {\n",
       "        text-align: right;\n",
       "    }\n",
       "</style>\n",
       "<table border=\"1\" class=\"dataframe\">\n",
       "  <thead>\n",
       "    <tr style=\"text-align: right;\">\n",
       "      <th></th>\n",
       "      <th>Company_Name</th>\n",
       "      <th>No Of Days Ago Job Posted</th>\n",
       "      <th>Rating Of Company</th>\n",
       "    </tr>\n",
       "  </thead>\n",
       "  <tbody>\n",
       "    <tr>\n",
       "      <th>0</th>\n",
       "      <td>2COMS Consulting Private Limited</td>\n",
       "      <td>6d</td>\n",
       "      <td>3.8</td>\n",
       "    </tr>\n",
       "    <tr>\n",
       "      <th>1</th>\n",
       "      <td>Grail Insights</td>\n",
       "      <td>New\\n24h</td>\n",
       "      <td>3.5</td>\n",
       "    </tr>\n",
       "    <tr>\n",
       "      <th>2</th>\n",
       "      <td>Noisy Lion</td>\n",
       "      <td>New\\n24h</td>\n",
       "      <td>3.9</td>\n",
       "    </tr>\n",
       "    <tr>\n",
       "      <th>3</th>\n",
       "      <td>Liberin Technologies Private Limited</td>\n",
       "      <td>Easy Apply\\n30d+</td>\n",
       "      <td>3.5</td>\n",
       "    </tr>\n",
       "    <tr>\n",
       "      <th>4</th>\n",
       "      <td>Grail Insights</td>\n",
       "      <td>New\\n24h</td>\n",
       "      <td>3.8</td>\n",
       "    </tr>\n",
       "    <tr>\n",
       "      <th>5</th>\n",
       "      <td>AlgoScale Technologies Private Limited</td>\n",
       "      <td>Easy Apply\\n14d</td>\n",
       "      <td>3.8</td>\n",
       "    </tr>\n",
       "    <tr>\n",
       "      <th>6</th>\n",
       "      <td>Innovacer</td>\n",
       "      <td>30d+</td>\n",
       "      <td>3.9</td>\n",
       "    </tr>\n",
       "    <tr>\n",
       "      <th>7</th>\n",
       "      <td>Salasar New Age Technologies</td>\n",
       "      <td>30d+</td>\n",
       "      <td>4.1</td>\n",
       "    </tr>\n",
       "    <tr>\n",
       "      <th>8</th>\n",
       "      <td>Techlive</td>\n",
       "      <td>30d+</td>\n",
       "      <td>3.3</td>\n",
       "    </tr>\n",
       "    <tr>\n",
       "      <th>9</th>\n",
       "      <td>Genpact</td>\n",
       "      <td>New\\n2d</td>\n",
       "      <td>3.6</td>\n",
       "    </tr>\n",
       "  </tbody>\n",
       "</table>\n",
       "</div>"
      ],
      "text/plain": [
       "                             Company_Name No Of Days Ago Job Posted  \\\n",
       "0        2COMS Consulting Private Limited                        6d   \n",
       "1                          Grail Insights                  New\\n24h   \n",
       "2                              Noisy Lion                  New\\n24h   \n",
       "3    Liberin Technologies Private Limited          Easy Apply\\n30d+   \n",
       "4                          Grail Insights                  New\\n24h   \n",
       "5  AlgoScale Technologies Private Limited           Easy Apply\\n14d   \n",
       "6                               Innovacer                      30d+   \n",
       "7            Salasar New Age Technologies                      30d+   \n",
       "8                                Techlive                      30d+   \n",
       "9                                 Genpact                   New\\n2d   \n",
       "\n",
       "  Rating Of Company  \n",
       "0               3.8  \n",
       "1               3.5  \n",
       "2               3.9  \n",
       "3               3.5  \n",
       "4               3.8  \n",
       "5               3.8  \n",
       "6               3.9  \n",
       "7               4.1  \n",
       "8               3.3  \n",
       "9               3.6  "
      ]
     },
     "execution_count": 296,
     "metadata": {},
     "output_type": "execute_result"
    }
   ],
   "source": [
    "df4=pd.DataFrame()\n",
    "\n",
    "df4['Company_Name']=Company_Name4[0:10]\n",
    "df4['No Of Days Ago Job Posted']=Days[0:10]\n",
    "df4['Rating Of Company']=Rating[0:10]\n",
    "\n",
    "df4"
   ]
  },
  {
   "cell_type": "markdown",
   "metadata": {},
   "source": [
    "# Q5  Write a python program to scrape the salary data for Data Scientist designation"
   ]
  },
  {
   "cell_type": "markdown",
   "metadata": {},
   "source": [
    "in Noida location. You have to scrape Company name, Number of salaries, Average salary, Min salary, Max Salary. The above task will be, done as shown in the below steps"
   ]
  },
  {
   "cell_type": "markdown",
   "metadata": {},
   "source": [
    "1.first get the webpage https://www.glassdoor.co.in/Salaries/index.htm"
   ]
  },
  {
   "cell_type": "markdown",
   "metadata": {},
   "source": [
    "2.Enter “Data Scientist” in Job title field and “Noida” in location field."
   ]
  },
  {
   "cell_type": "markdown",
   "metadata": {},
   "source": [
    "3.Click the search button."
   ]
  },
  {
   "cell_type": "markdown",
   "metadata": {},
   "source": [
    "4.After that you will land on the below page. You have to scrape whole data from this webpage"
   ]
  },
  {
   "cell_type": "markdown",
   "metadata": {},
   "source": [
    "5.Scrape data for first 10 companies. Scrape the min salary, max salary, company name, Average salary and rating of the company. 6.Store the data in a dataframe. Note that all of the above steps have to be done by coding only and not manually."
   ]
  },
  {
   "cell_type": "code",
   "execution_count": 2,
   "metadata": {},
   "outputs": [],
   "source": [
    "driver5=webdriver.Chrome('chromedriver.exe')"
   ]
  },
  {
   "cell_type": "code",
   "execution_count": 3,
   "metadata": {},
   "outputs": [],
   "source": [
    "url5='https://www.glassdoor.co.in/Salaries/index.htm'"
   ]
  },
  {
   "cell_type": "code",
   "execution_count": 4,
   "metadata": {},
   "outputs": [],
   "source": [
    "driver5.get(url5)"
   ]
  },
  {
   "cell_type": "code",
   "execution_count": 5,
   "metadata": {},
   "outputs": [],
   "source": [
    "search_job_tag=driver5.find_element_by_xpath(\"//input[@id='KeywordSearch']\")"
   ]
  },
  {
   "cell_type": "code",
   "execution_count": 6,
   "metadata": {},
   "outputs": [],
   "source": [
    "search_job_tag.send_keys(\"Data Scientist\")"
   ]
  },
  {
   "cell_type": "code",
   "execution_count": 7,
   "metadata": {},
   "outputs": [],
   "source": [
    "loc_tag=driver5.find_element_by_xpath(\"//input[@id='LocationSearch']\")"
   ]
  },
  {
   "cell_type": "code",
   "execution_count": 8,
   "metadata": {},
   "outputs": [],
   "source": [
    "loc_tag.send_keys('Noida')"
   ]
  },
  {
   "cell_type": "code",
   "execution_count": 9,
   "metadata": {},
   "outputs": [],
   "source": [
    "search_btn_tag=driver5.find_element_by_xpath(\"//button[@class='gd-btn-mkt']\").click()"
   ]
  },
  {
   "cell_type": "code",
   "execution_count": 10,
   "metadata": {},
   "outputs": [],
   "source": [
    "cname_tags5=driver5.find_elements_by_xpath(\"//a[@class='css-f3vw95 e1aj7ssy3']\")"
   ]
  },
  {
   "cell_type": "code",
   "execution_count": 11,
   "metadata": {},
   "outputs": [
    {
     "data": {
      "text/plain": [
       "['Tata Consultancy Services',\n",
       " 'IBM',\n",
       " 'Accenture',\n",
       " 'Delhivery',\n",
       " 'Ericsson-Worldwide',\n",
       " 'UnitedHealth Group',\n",
       " 'Optum',\n",
       " 'Optum Global Solutions',\n",
       " 'Valiance Solutions',\n",
       " 'EXL Service',\n",
       " 'Cognizant Technology Solutions',\n",
       " 'ZS Associates',\n",
       " 'Nagarro',\n",
       " 'Innovaccer',\n",
       " 'OYO',\n",
       " 'dunnhumby',\n",
       " 'Amazon',\n",
       " 'CARS24.com',\n",
       " 'Vidooly Media Tech',\n",
       " 'ParallelDots']"
      ]
     },
     "execution_count": 11,
     "metadata": {},
     "output_type": "execute_result"
    }
   ],
   "source": [
    "Company_Name5=[]\n",
    "\n",
    "for i in cname_tags5:\n",
    "    Company_Name5.append(i.text)\n",
    "    \n",
    "Company_Name5"
   ]
  },
  {
   "cell_type": "code",
   "execution_count": 28,
   "metadata": {},
   "outputs": [],
   "source": [
    "salary_tags=driver5.find_elements_by_xpath(\"//div[@class='d-flex mt-xxsm css-79elbk epuxyqn0']//p\")"
   ]
  },
  {
   "cell_type": "code",
   "execution_count": 29,
   "metadata": {},
   "outputs": [],
   "source": [
    "Salary=[]\n",
    "\n",
    "for i in salary_tags:\n",
    "    Salary.append(i.text)"
   ]
  },
  {
   "cell_type": "code",
   "execution_count": 30,
   "metadata": {},
   "outputs": [
    {
     "data": {
      "text/plain": [
       "['₹4L',\n",
       " '₹13L',\n",
       " '₹1L',\n",
       " '₹28L',\n",
       " '₹6L',\n",
       " '₹22L',\n",
       " '₹5L',\n",
       " '₹1Cr',\n",
       " '₹4L',\n",
       " '₹16L',\n",
       " '₹8L',\n",
       " '₹15L',\n",
       " '₹8L',\n",
       " '₹20L',\n",
       " '₹10L',\n",
       " '₹17L',\n",
       " '₹5L',\n",
       " '₹15L',\n",
       " '₹6L',\n",
       " '₹15L',\n",
       " '₹4L',\n",
       " '₹13L',\n",
       " '₹2L',\n",
       " '₹18L',\n",
       " '₹4L',\n",
       " '₹21L',\n",
       " '₹6L',\n",
       " '₹17L',\n",
       " '₹10L',\n",
       " '₹21L',\n",
       " '₹8L',\n",
       " '₹20L',\n",
       " '₹10L',\n",
       " '₹30L',\n",
       " '₹9L',\n",
       " '₹15L',\n",
       " '₹12T',\n",
       " '₹63T',\n",
       " '₹5L',\n",
       " '₹72L']"
      ]
     },
     "execution_count": 30,
     "metadata": {},
     "output_type": "execute_result"
    }
   ],
   "source": [
    "Salary"
   ]
  },
  {
   "cell_type": "code",
   "execution_count": 31,
   "metadata": {},
   "outputs": [],
   "source": [
    "Min_Salary=Salary[::2]"
   ]
  },
  {
   "cell_type": "code",
   "execution_count": 32,
   "metadata": {},
   "outputs": [
    {
     "data": {
      "text/plain": [
       "['₹4L',\n",
       " '₹1L',\n",
       " '₹6L',\n",
       " '₹5L',\n",
       " '₹4L',\n",
       " '₹8L',\n",
       " '₹8L',\n",
       " '₹10L',\n",
       " '₹5L',\n",
       " '₹6L',\n",
       " '₹4L',\n",
       " '₹2L',\n",
       " '₹4L',\n",
       " '₹6L',\n",
       " '₹10L',\n",
       " '₹8L',\n",
       " '₹10L',\n",
       " '₹9L',\n",
       " '₹12T',\n",
       " '₹5L']"
      ]
     },
     "execution_count": 32,
     "metadata": {},
     "output_type": "execute_result"
    }
   ],
   "source": [
    "Min_Salary"
   ]
  },
  {
   "cell_type": "code",
   "execution_count": 33,
   "metadata": {},
   "outputs": [
    {
     "data": {
      "text/plain": [
       "['₹13L',\n",
       " '₹28L',\n",
       " '₹22L',\n",
       " '₹1Cr',\n",
       " '₹16L',\n",
       " '₹15L',\n",
       " '₹20L',\n",
       " '₹17L',\n",
       " '₹15L',\n",
       " '₹15L',\n",
       " '₹13L',\n",
       " '₹18L',\n",
       " '₹21L',\n",
       " '₹17L',\n",
       " '₹21L',\n",
       " '₹20L',\n",
       " '₹30L',\n",
       " '₹15L',\n",
       " '₹63T',\n",
       " '₹72L']"
      ]
     },
     "execution_count": 33,
     "metadata": {},
     "output_type": "execute_result"
    }
   ],
   "source": [
    "Max_Salary=Salary[1::2]\n",
    "Max_Salary"
   ]
  },
  {
   "cell_type": "code",
   "execution_count": 34,
   "metadata": {},
   "outputs": [
    {
     "data": {
      "text/plain": [
       "20"
      ]
     },
     "execution_count": 34,
     "metadata": {},
     "output_type": "execute_result"
    }
   ],
   "source": [
    "len(Max_Salary)"
   ]
  },
  {
   "cell_type": "code",
   "execution_count": 35,
   "metadata": {},
   "outputs": [],
   "source": [
    "Avg_tags5=driver5.find_elements_by_xpath(\"//div[@class='col-12 col-lg-4 px-lg-0 d-flex align-items-baseline']\")"
   ]
  },
  {
   "cell_type": "code",
   "execution_count": 36,
   "metadata": {},
   "outputs": [
    {
     "data": {
      "text/plain": [
       "['₹6,19,349 /yr',\n",
       " '₹9,00,000 /yr',\n",
       " '₹11,71,012 /yr',\n",
       " '₹12,26,283 /yr',\n",
       " '₹7,44,116 /yr',\n",
       " '₹12,80,000 /yr',\n",
       " '₹13,29,677 /yr',\n",
       " '₹14,28,139 /yr',\n",
       " '₹8,69,449 /yr',\n",
       " '₹11,10,000 /yr',\n",
       " '₹9,53,560 /yr',\n",
       " '₹11,49,894 /yr',\n",
       " '₹10,81,155 /yr',\n",
       " '₹12,17,018 /yr',\n",
       " '₹14,24,677 /yr',\n",
       " '₹11,09,179 /yr',\n",
       " '₹20,25,084 /yr',\n",
       " '₹10,60,462 /yr',\n",
       " '₹34,383 /mo',\n",
       " '₹8,32,315 /yr']"
      ]
     },
     "execution_count": 36,
     "metadata": {},
     "output_type": "execute_result"
    }
   ],
   "source": [
    "Avg_Salary=[]\n",
    "\n",
    "for i in Avg_tags5:\n",
    "    Avg_Salary.append(i.text.replace('\\n',''))\n",
    "    \n",
    "Avg_Salary"
   ]
  },
  {
   "cell_type": "code",
   "execution_count": 37,
   "metadata": {},
   "outputs": [],
   "source": [
    "rating_tags5=driver5.find_elements_by_xpath(\"//span[@class='m-0 css-kyx745']\")"
   ]
  },
  {
   "cell_type": "code",
   "execution_count": 38,
   "metadata": {},
   "outputs": [
    {
     "data": {
      "text/plain": [
       "['3.9',\n",
       " '3.9',\n",
       " '4.1',\n",
       " '3.8',\n",
       " '4',\n",
       " '3.7',\n",
       " '3.7',\n",
       " '3.9',\n",
       " '4.2',\n",
       " '3.6',\n",
       " '3.8',\n",
       " '4',\n",
       " '4',\n",
       " '3.8',\n",
       " '3.3',\n",
       " '4.1',\n",
       " '3.8',\n",
       " '4.1',\n",
       " '3.8',\n",
       " '3.8']"
      ]
     },
     "execution_count": 38,
     "metadata": {},
     "output_type": "execute_result"
    }
   ],
   "source": [
    "Rating=[]\n",
    "\n",
    "for i in rating_tags5:\n",
    "    Rating.append(i.text)\n",
    "    \n",
    "Rating"
   ]
  },
  {
   "cell_type": "code",
   "execution_count": 39,
   "metadata": {},
   "outputs": [],
   "source": [
    "no_of_salary_tags=driver5.find_elements_by_xpath(\"//div[@class='col-12 col-lg-auto']\")"
   ]
  },
  {
   "cell_type": "code",
   "execution_count": 40,
   "metadata": {},
   "outputs": [
    {
     "data": {
      "text/plain": [
       "['21 salaries',\n",
       " '20 salaries',\n",
       " '15 salaries',\n",
       " '15 salaries',\n",
       " '14 salaries',\n",
       " '14 salaries',\n",
       " '10 salaries',\n",
       " '10 salaries',\n",
       " '10 salaries',\n",
       " '9 salaries',\n",
       " '8 salaries',\n",
       " '8 salaries',\n",
       " '8 salaries',\n",
       " '8 salaries',\n",
       " '7 salaries',\n",
       " '7 salaries',\n",
       " '6 salaries',\n",
       " '6 salaries',\n",
       " '6 salaries',\n",
       " '6 salaries']"
      ]
     },
     "execution_count": 40,
     "metadata": {},
     "output_type": "execute_result"
    }
   ],
   "source": [
    "No_of_salary=[]\n",
    "\n",
    "for i in no_of_salary_tags:\n",
    "    No_of_salary.append(i.text)\n",
    "    \n",
    "No_of_salary"
   ]
  },
  {
   "cell_type": "code",
   "execution_count": 41,
   "metadata": {},
   "outputs": [
    {
     "data": {
      "text/plain": [
       "20"
      ]
     },
     "execution_count": 41,
     "metadata": {},
     "output_type": "execute_result"
    }
   ],
   "source": [
    "len(No_of_salary)"
   ]
  },
  {
   "cell_type": "code",
   "execution_count": 42,
   "metadata": {},
   "outputs": [],
   "source": [
    "import pandas as pd"
   ]
  },
  {
   "cell_type": "code",
   "execution_count": 43,
   "metadata": {},
   "outputs": [
    {
     "data": {
      "text/html": [
       "<div>\n",
       "<style scoped>\n",
       "    .dataframe tbody tr th:only-of-type {\n",
       "        vertical-align: middle;\n",
       "    }\n",
       "\n",
       "    .dataframe tbody tr th {\n",
       "        vertical-align: top;\n",
       "    }\n",
       "\n",
       "    .dataframe thead th {\n",
       "        text-align: right;\n",
       "    }\n",
       "</style>\n",
       "<table border=\"1\" class=\"dataframe\">\n",
       "  <thead>\n",
       "    <tr style=\"text-align: right;\">\n",
       "      <th></th>\n",
       "      <th>Company Name</th>\n",
       "      <th>Min Salary</th>\n",
       "      <th>Max Salary</th>\n",
       "      <th>Average Salary</th>\n",
       "      <th>No Of Salary</th>\n",
       "      <th>Rating</th>\n",
       "    </tr>\n",
       "  </thead>\n",
       "  <tbody>\n",
       "    <tr>\n",
       "      <th>0</th>\n",
       "      <td>Tata Consultancy Services</td>\n",
       "      <td>₹4L</td>\n",
       "      <td>₹13L</td>\n",
       "      <td>₹6,19,349 /yr</td>\n",
       "      <td>21 salaries</td>\n",
       "      <td>3.9</td>\n",
       "    </tr>\n",
       "    <tr>\n",
       "      <th>1</th>\n",
       "      <td>IBM</td>\n",
       "      <td>₹1L</td>\n",
       "      <td>₹28L</td>\n",
       "      <td>₹9,00,000 /yr</td>\n",
       "      <td>20 salaries</td>\n",
       "      <td>3.9</td>\n",
       "    </tr>\n",
       "    <tr>\n",
       "      <th>2</th>\n",
       "      <td>Accenture</td>\n",
       "      <td>₹6L</td>\n",
       "      <td>₹22L</td>\n",
       "      <td>₹11,71,012 /yr</td>\n",
       "      <td>15 salaries</td>\n",
       "      <td>4.1</td>\n",
       "    </tr>\n",
       "    <tr>\n",
       "      <th>3</th>\n",
       "      <td>Delhivery</td>\n",
       "      <td>₹5L</td>\n",
       "      <td>₹1Cr</td>\n",
       "      <td>₹12,26,283 /yr</td>\n",
       "      <td>15 salaries</td>\n",
       "      <td>3.8</td>\n",
       "    </tr>\n",
       "    <tr>\n",
       "      <th>4</th>\n",
       "      <td>Ericsson-Worldwide</td>\n",
       "      <td>₹4L</td>\n",
       "      <td>₹16L</td>\n",
       "      <td>₹7,44,116 /yr</td>\n",
       "      <td>14 salaries</td>\n",
       "      <td>4</td>\n",
       "    </tr>\n",
       "    <tr>\n",
       "      <th>5</th>\n",
       "      <td>UnitedHealth Group</td>\n",
       "      <td>₹8L</td>\n",
       "      <td>₹15L</td>\n",
       "      <td>₹12,80,000 /yr</td>\n",
       "      <td>14 salaries</td>\n",
       "      <td>3.7</td>\n",
       "    </tr>\n",
       "    <tr>\n",
       "      <th>6</th>\n",
       "      <td>Optum</td>\n",
       "      <td>₹8L</td>\n",
       "      <td>₹20L</td>\n",
       "      <td>₹13,29,677 /yr</td>\n",
       "      <td>10 salaries</td>\n",
       "      <td>3.7</td>\n",
       "    </tr>\n",
       "    <tr>\n",
       "      <th>7</th>\n",
       "      <td>Optum Global Solutions</td>\n",
       "      <td>₹10L</td>\n",
       "      <td>₹17L</td>\n",
       "      <td>₹14,28,139 /yr</td>\n",
       "      <td>10 salaries</td>\n",
       "      <td>3.9</td>\n",
       "    </tr>\n",
       "    <tr>\n",
       "      <th>8</th>\n",
       "      <td>Valiance Solutions</td>\n",
       "      <td>₹5L</td>\n",
       "      <td>₹15L</td>\n",
       "      <td>₹8,69,449 /yr</td>\n",
       "      <td>10 salaries</td>\n",
       "      <td>4.2</td>\n",
       "    </tr>\n",
       "    <tr>\n",
       "      <th>9</th>\n",
       "      <td>EXL Service</td>\n",
       "      <td>₹6L</td>\n",
       "      <td>₹15L</td>\n",
       "      <td>₹11,10,000 /yr</td>\n",
       "      <td>9 salaries</td>\n",
       "      <td>3.6</td>\n",
       "    </tr>\n",
       "  </tbody>\n",
       "</table>\n",
       "</div>"
      ],
      "text/plain": [
       "                Company Name Min Salary Max Salary  Average Salary  \\\n",
       "0  Tata Consultancy Services        ₹4L       ₹13L   ₹6,19,349 /yr   \n",
       "1                        IBM        ₹1L       ₹28L   ₹9,00,000 /yr   \n",
       "2                  Accenture        ₹6L       ₹22L  ₹11,71,012 /yr   \n",
       "3                  Delhivery        ₹5L       ₹1Cr  ₹12,26,283 /yr   \n",
       "4         Ericsson-Worldwide        ₹4L       ₹16L   ₹7,44,116 /yr   \n",
       "5         UnitedHealth Group        ₹8L       ₹15L  ₹12,80,000 /yr   \n",
       "6                      Optum        ₹8L       ₹20L  ₹13,29,677 /yr   \n",
       "7     Optum Global Solutions       ₹10L       ₹17L  ₹14,28,139 /yr   \n",
       "8         Valiance Solutions        ₹5L       ₹15L   ₹8,69,449 /yr   \n",
       "9                EXL Service        ₹6L       ₹15L  ₹11,10,000 /yr   \n",
       "\n",
       "  No Of Salary Rating  \n",
       "0  21 salaries    3.9  \n",
       "1  20 salaries    3.9  \n",
       "2  15 salaries    4.1  \n",
       "3  15 salaries    3.8  \n",
       "4  14 salaries      4  \n",
       "5  14 salaries    3.7  \n",
       "6  10 salaries    3.7  \n",
       "7  10 salaries    3.9  \n",
       "8  10 salaries    4.2  \n",
       "9   9 salaries    3.6  "
      ]
     },
     "execution_count": 43,
     "metadata": {},
     "output_type": "execute_result"
    }
   ],
   "source": [
    "df5=pd.DataFrame()\n",
    "\n",
    "df5['Company Name']=Company_Name5\n",
    "df5['Min Salary']=Min_Salary\n",
    "df5['Max Salary']=Max_Salary\n",
    "df5['Average Salary']=Avg_Salary\n",
    "df5['No Of Salary']=No_of_salary\n",
    "df5['Rating']=Rating\n",
    "\n",
    "df5[0:10]"
   ]
  },
  {
   "cell_type": "markdown",
   "metadata": {},
   "source": [
    "# Q6 Scrape data of first 100 sunglasses listings on flipkart.com. You have to\n",
    "scrape four attributes:"
   ]
  },
  {
   "cell_type": "markdown",
   "metadata": {},
   "source": [
    "1.Go to flipkart webpage by url https://www.flipkart.com/"
   ]
  },
  {
   "cell_type": "markdown",
   "metadata": {},
   "source": [
    "2.Enter “sunglasses” in the search field where “search for products, brands and more” is written and click the search icon"
   ]
  },
  {
   "cell_type": "markdown",
   "metadata": {},
   "source": [
    "3.after that you will reach to a webpage having a lot of sunglasses. From this page you can scrap the required data as usual."
   ]
  },
  {
   "cell_type": "markdown",
   "metadata": {},
   "source": [
    "4.after scraping data from the first page, go to the “Next” Button at the bottom of the page , then click on i"
   ]
  },
  {
   "cell_type": "markdown",
   "metadata": {},
   "source": [
    "5.Now scrape data from this page as usual"
   ]
  },
  {
   "cell_type": "markdown",
   "metadata": {},
   "source": [
    "6.repeat this until you get data for 100 sunglasses. Note that all of the above steps have to be done by coding only and not manually."
   ]
  },
  {
   "cell_type": "code",
   "execution_count": 297,
   "metadata": {},
   "outputs": [],
   "source": [
    "Brand_Name=[]\n",
    "Price=[]\n",
    "Discount=[]\n",
    "Product_Description=[]"
   ]
  },
  {
   "cell_type": "code",
   "execution_count": 298,
   "metadata": {},
   "outputs": [],
   "source": [
    "driver6=webdriver.Chrome('chromedriver.exe')"
   ]
  },
  {
   "cell_type": "code",
   "execution_count": 299,
   "metadata": {},
   "outputs": [],
   "source": [
    "url6='https://www.flipkart.com/'\n",
    "driver6.get(url6)"
   ]
  },
  {
   "cell_type": "code",
   "execution_count": 300,
   "metadata": {},
   "outputs": [],
   "source": [
    "search_product=driver6.find_element_by_xpath(\"//input[@title='Search for products, brands and more']\")"
   ]
  },
  {
   "cell_type": "code",
   "execution_count": 301,
   "metadata": {},
   "outputs": [],
   "source": [
    "search_product.send_keys('sunglasses')"
   ]
  },
  {
   "cell_type": "code",
   "execution_count": 302,
   "metadata": {},
   "outputs": [],
   "source": [
    "btn=driver6.find_element_by_class_name('L0Z3Pu').click()"
   ]
  },
  {
   "cell_type": "code",
   "execution_count": 303,
   "metadata": {},
   "outputs": [
    {
     "data": {
      "text/plain": [
       "<selenium.webdriver.remote.webelement.WebElement (session=\"3a3786ce1c5e0c34a82fe7b406995fb5\", element=\"8dc1a546-90cc-4ef7-bb2b-65a06a962673\")>"
      ]
     },
     "execution_count": 303,
     "metadata": {},
     "output_type": "execute_result"
    }
   ],
   "source": [
    "for i in range(1,4):\n",
    "    brand_name_tags=driver6.find_elements_by_xpath(\"//div[@class='_2WkVRV']\")\n",
    "    for i in brand_name_tags:\n",
    "        Brand_Name.append(i.text)\n",
    "Brand_Name\n",
    "next_btn=driver6.find_element_by_xpath(\"//a[@class='_1LKTO3']//span\")\n",
    "next_btn"
   ]
  },
  {
   "cell_type": "code",
   "execution_count": 304,
   "metadata": {},
   "outputs": [
    {
     "data": {
      "text/plain": [
       "['Silver Kartz',\n",
       " 'ROYAL SON',\n",
       " 'SHAAH COLLECTIONS',\n",
       " 'Elligator',\n",
       " 'PIRASO',\n",
       " 'kingsunglasses',\n",
       " 'ROYAL SON',\n",
       " 'Silver Kartz',\n",
       " 'PIRASO',\n",
       " 'Fastrack',\n",
       " 'kingsunglasses',\n",
       " 'ROYAL SON',\n",
       " 'Fastrack',\n",
       " 'ROZZETTA CRAFT',\n",
       " 'SHAAH COLLECTIONS',\n",
       " 'ROYAL SON',\n",
       " 'SHAAH COLLECTIONS',\n",
       " 'PHENOMENAL',\n",
       " 'ROZZETTA CRAFT',\n",
       " 'Silver Kartz',\n",
       " 'NuVew',\n",
       " 'SUNBEE',\n",
       " 'PIRASO',\n",
       " 'Silver Kartz',\n",
       " 'Fastrack',\n",
       " 'PIRASO',\n",
       " 'DEIXELS',\n",
       " 'elegante',\n",
       " 'OCCARIO',\n",
       " 'ROYAL SON',\n",
       " 'kingsunglasses',\n",
       " 'ROYAL SON',\n",
       " 'Silver Kartz',\n",
       " 'SUNBEE',\n",
       " 'hipe',\n",
       " 'ROYAL SON',\n",
       " 'ROZZETTA CRAFT',\n",
       " 'ROZZETTA CRAFT',\n",
       " 'Fastrack',\n",
       " 'ROYAL SON',\n",
       " 'Silver Kartz',\n",
       " 'ROYAL SON',\n",
       " 'SHAAH COLLECTIONS',\n",
       " 'Elligator',\n",
       " 'PIRASO',\n",
       " 'kingsunglasses',\n",
       " 'ROYAL SON',\n",
       " 'Silver Kartz',\n",
       " 'PIRASO',\n",
       " 'Fastrack',\n",
       " 'kingsunglasses',\n",
       " 'ROYAL SON',\n",
       " 'Fastrack',\n",
       " 'ROZZETTA CRAFT',\n",
       " 'SHAAH COLLECTIONS',\n",
       " 'ROYAL SON',\n",
       " 'SHAAH COLLECTIONS',\n",
       " 'PHENOMENAL',\n",
       " 'ROZZETTA CRAFT',\n",
       " 'Silver Kartz',\n",
       " 'NuVew',\n",
       " 'SUNBEE',\n",
       " 'PIRASO',\n",
       " 'Silver Kartz',\n",
       " 'Fastrack',\n",
       " 'PIRASO',\n",
       " 'DEIXELS',\n",
       " 'elegante',\n",
       " 'OCCARIO',\n",
       " 'ROYAL SON',\n",
       " 'kingsunglasses',\n",
       " 'ROYAL SON',\n",
       " 'Silver Kartz',\n",
       " 'SUNBEE',\n",
       " 'hipe',\n",
       " 'ROYAL SON',\n",
       " 'ROZZETTA CRAFT',\n",
       " 'ROZZETTA CRAFT',\n",
       " 'Fastrack',\n",
       " 'ROYAL SON',\n",
       " 'Silver Kartz',\n",
       " 'ROYAL SON',\n",
       " 'SHAAH COLLECTIONS',\n",
       " 'Elligator',\n",
       " 'PIRASO',\n",
       " 'kingsunglasses',\n",
       " 'ROYAL SON',\n",
       " 'Silver Kartz',\n",
       " 'PIRASO',\n",
       " 'Fastrack',\n",
       " 'kingsunglasses',\n",
       " 'ROYAL SON',\n",
       " 'Fastrack',\n",
       " 'ROZZETTA CRAFT',\n",
       " 'SHAAH COLLECTIONS',\n",
       " 'ROYAL SON',\n",
       " 'SHAAH COLLECTIONS',\n",
       " 'PHENOMENAL',\n",
       " 'ROZZETTA CRAFT',\n",
       " 'Silver Kartz',\n",
       " 'NuVew',\n",
       " 'SUNBEE',\n",
       " 'PIRASO',\n",
       " 'Silver Kartz',\n",
       " 'Fastrack',\n",
       " 'PIRASO',\n",
       " 'DEIXELS',\n",
       " 'elegante',\n",
       " 'OCCARIO',\n",
       " 'ROYAL SON',\n",
       " 'kingsunglasses',\n",
       " 'ROYAL SON',\n",
       " 'Silver Kartz',\n",
       " 'SUNBEE',\n",
       " 'hipe',\n",
       " 'ROYAL SON',\n",
       " 'ROZZETTA CRAFT',\n",
       " 'ROZZETTA CRAFT',\n",
       " 'Fastrack',\n",
       " 'ROYAL SON']"
      ]
     },
     "execution_count": 304,
     "metadata": {},
     "output_type": "execute_result"
    }
   ],
   "source": [
    "Brand_Name"
   ]
  },
  {
   "cell_type": "code",
   "execution_count": 305,
   "metadata": {},
   "outputs": [
    {
     "data": {
      "text/plain": [
       "120"
      ]
     },
     "execution_count": 305,
     "metadata": {},
     "output_type": "execute_result"
    }
   ],
   "source": [
    "len(Brand_Name)"
   ]
  },
  {
   "cell_type": "code",
   "execution_count": 306,
   "metadata": {},
   "outputs": [
    {
     "data": {
      "text/plain": [
       "<selenium.webdriver.remote.webelement.WebElement (session=\"3a3786ce1c5e0c34a82fe7b406995fb5\", element=\"8dc1a546-90cc-4ef7-bb2b-65a06a962673\")>"
      ]
     },
     "execution_count": 306,
     "metadata": {},
     "output_type": "execute_result"
    }
   ],
   "source": [
    "for i in range(1,4):\n",
    "    price_tags=driver6.find_elements_by_xpath(\"//div[@class='_30jeq3']\")\n",
    "    for i in price_tags:\n",
    "        Price.append(i.text)\n",
    "        Price\n",
    "next_btn=driver6.find_element_by_xpath(\"//a[@class='_1LKTO3']//span\")\n",
    "next_btn\n",
    "\n"
   ]
  },
  {
   "cell_type": "code",
   "execution_count": 307,
   "metadata": {},
   "outputs": [
    {
     "data": {
      "text/plain": [
       "['₹367',\n",
       " '₹664',\n",
       " '₹198',\n",
       " '₹329',\n",
       " '₹237',\n",
       " '₹299',\n",
       " '₹474',\n",
       " '₹255',\n",
       " '₹237',\n",
       " '₹509',\n",
       " '₹225',\n",
       " '₹474',\n",
       " '₹758',\n",
       " '₹404',\n",
       " '₹215',\n",
       " '₹664',\n",
       " '₹331',\n",
       " '₹399',\n",
       " '₹499',\n",
       " '₹265',\n",
       " '₹186',\n",
       " '₹265',\n",
       " '₹237',\n",
       " '₹284',\n",
       " '₹546',\n",
       " '₹449',\n",
       " '₹229',\n",
       " '₹449',\n",
       " '₹179',\n",
       " '₹379',\n",
       " '₹299',\n",
       " '₹569',\n",
       " '₹246',\n",
       " '₹284',\n",
       " '₹209',\n",
       " '₹664',\n",
       " '₹449',\n",
       " '₹449',\n",
       " '₹689',\n",
       " '₹248',\n",
       " '₹367',\n",
       " '₹664',\n",
       " '₹198',\n",
       " '₹329',\n",
       " '₹237',\n",
       " '₹299',\n",
       " '₹474',\n",
       " '₹255',\n",
       " '₹237',\n",
       " '₹509',\n",
       " '₹225',\n",
       " '₹474',\n",
       " '₹758',\n",
       " '₹404',\n",
       " '₹215',\n",
       " '₹664',\n",
       " '₹331',\n",
       " '₹399',\n",
       " '₹499',\n",
       " '₹265',\n",
       " '₹186',\n",
       " '₹265',\n",
       " '₹237',\n",
       " '₹284',\n",
       " '₹546',\n",
       " '₹449',\n",
       " '₹229',\n",
       " '₹449',\n",
       " '₹179',\n",
       " '₹379',\n",
       " '₹299',\n",
       " '₹569',\n",
       " '₹246',\n",
       " '₹284',\n",
       " '₹209',\n",
       " '₹664',\n",
       " '₹449',\n",
       " '₹449',\n",
       " '₹689',\n",
       " '₹248',\n",
       " '₹367',\n",
       " '₹664',\n",
       " '₹198',\n",
       " '₹329',\n",
       " '₹237',\n",
       " '₹299',\n",
       " '₹474',\n",
       " '₹255',\n",
       " '₹237',\n",
       " '₹509',\n",
       " '₹225',\n",
       " '₹474',\n",
       " '₹758',\n",
       " '₹404',\n",
       " '₹215',\n",
       " '₹664',\n",
       " '₹331',\n",
       " '₹399',\n",
       " '₹499',\n",
       " '₹265',\n",
       " '₹186',\n",
       " '₹265',\n",
       " '₹237',\n",
       " '₹284',\n",
       " '₹546',\n",
       " '₹449',\n",
       " '₹229',\n",
       " '₹449',\n",
       " '₹179',\n",
       " '₹379',\n",
       " '₹299',\n",
       " '₹569',\n",
       " '₹246',\n",
       " '₹284',\n",
       " '₹209',\n",
       " '₹664',\n",
       " '₹449',\n",
       " '₹449',\n",
       " '₹689',\n",
       " '₹248']"
      ]
     },
     "execution_count": 307,
     "metadata": {},
     "output_type": "execute_result"
    }
   ],
   "source": [
    "Price"
   ]
  },
  {
   "cell_type": "code",
   "execution_count": 308,
   "metadata": {},
   "outputs": [
    {
     "data": {
      "text/plain": [
       "120"
      ]
     },
     "execution_count": 308,
     "metadata": {},
     "output_type": "execute_result"
    }
   ],
   "source": [
    "len(Price)"
   ]
  },
  {
   "cell_type": "code",
   "execution_count": 309,
   "metadata": {},
   "outputs": [
    {
     "data": {
      "text/plain": [
       "['75% off',\n",
       " '66% off',\n",
       " '88% off',\n",
       " '86% off',\n",
       " '85% off',\n",
       " '88% off',\n",
       " '68% off',\n",
       " '78% off',\n",
       " '85% off',\n",
       " '36% off',\n",
       " '79% off',\n",
       " '68% off',\n",
       " '15% off',\n",
       " '79% off',\n",
       " '78% off',\n",
       " '66% off',\n",
       " '80% off',\n",
       " '80% off',\n",
       " '77% off',\n",
       " '77% off',\n",
       " '78% off',\n",
       " '73% off',\n",
       " '85% off',\n",
       " '76% off',\n",
       " '31% off',\n",
       " '82% off',\n",
       " '80% off',\n",
       " '70% off',\n",
       " '69% off',\n",
       " '74% off',\n",
       " '88% off',\n",
       " '71% off',\n",
       " '83% off',\n",
       " '71% off',\n",
       " '79% off',\n",
       " '66% off',\n",
       " '77% off',\n",
       " '79% off',\n",
       " '23% off',\n",
       " '80% off',\n",
       " '75% off',\n",
       " '66% off',\n",
       " '88% off',\n",
       " '86% off',\n",
       " '85% off',\n",
       " '88% off',\n",
       " '68% off',\n",
       " '78% off',\n",
       " '85% off',\n",
       " '36% off',\n",
       " '79% off',\n",
       " '68% off',\n",
       " '15% off',\n",
       " '79% off',\n",
       " '78% off',\n",
       " '66% off',\n",
       " '80% off',\n",
       " '80% off',\n",
       " '77% off',\n",
       " '77% off',\n",
       " '78% off',\n",
       " '73% off',\n",
       " '85% off',\n",
       " '76% off',\n",
       " '31% off',\n",
       " '82% off',\n",
       " '80% off',\n",
       " '70% off',\n",
       " '69% off',\n",
       " '74% off',\n",
       " '88% off',\n",
       " '71% off',\n",
       " '83% off',\n",
       " '71% off',\n",
       " '79% off',\n",
       " '66% off',\n",
       " '77% off',\n",
       " '79% off',\n",
       " '23% off',\n",
       " '80% off',\n",
       " '75% off',\n",
       " '66% off',\n",
       " '88% off',\n",
       " '86% off',\n",
       " '85% off',\n",
       " '88% off',\n",
       " '68% off',\n",
       " '78% off',\n",
       " '85% off',\n",
       " '36% off',\n",
       " '79% off',\n",
       " '68% off',\n",
       " '15% off',\n",
       " '79% off',\n",
       " '78% off',\n",
       " '66% off',\n",
       " '80% off',\n",
       " '80% off',\n",
       " '77% off',\n",
       " '77% off',\n",
       " '78% off',\n",
       " '73% off',\n",
       " '85% off',\n",
       " '76% off',\n",
       " '31% off',\n",
       " '82% off',\n",
       " '80% off',\n",
       " '70% off',\n",
       " '69% off',\n",
       " '74% off',\n",
       " '88% off',\n",
       " '71% off',\n",
       " '83% off',\n",
       " '71% off',\n",
       " '79% off',\n",
       " '66% off',\n",
       " '77% off',\n",
       " '79% off',\n",
       " '23% off',\n",
       " '80% off']"
      ]
     },
     "execution_count": 309,
     "metadata": {},
     "output_type": "execute_result"
    }
   ],
   "source": [
    "for i in range(1,4):\n",
    "    discount_tags=driver6.find_elements_by_xpath(\"//div[@class='_3Ay6Sb']\")\n",
    "    for i in discount_tags:\n",
    "        Discount.append(i.text)\n",
    "next_btn=driver6.find_element_by_xpath(\"//a[@class='_1LKTO3']//span\")\n",
    "next_btn\n",
    "    \n",
    "Discount"
   ]
  },
  {
   "cell_type": "code",
   "execution_count": 314,
   "metadata": {},
   "outputs": [
    {
     "data": {
      "text/plain": [
       "<selenium.webdriver.remote.webelement.WebElement (session=\"3a3786ce1c5e0c34a82fe7b406995fb5\", element=\"8dc1a546-90cc-4ef7-bb2b-65a06a962673\")>"
      ]
     },
     "execution_count": 314,
     "metadata": {},
     "output_type": "execute_result"
    }
   ],
   "source": [
    "for i in range(1,4):\n",
    "    try:\n",
    "        pro_des_tags=driver6.find_elements_by_xpath(\"//a[@class='IRpwTa']\")\n",
    "        for i in pro_des_tags:\n",
    "            Product_Description.append(i.text)\n",
    "    except:\n",
    "        Product_Description.append(\"-\")\n",
    "\n",
    "\n",
    "next_btn=driver6.find_element_by_xpath(\"//a[@class='_1LKTO3']//span\")\n",
    "next_btn\n",
    "\n"
   ]
  },
  {
   "cell_type": "code",
   "execution_count": 315,
   "metadata": {},
   "outputs": [
    {
     "data": {
      "text/plain": [
       "['UV Protection Clubmaster Sunglasses (53)',\n",
       " 'UV Protection, Gradient Butterfly Sunglasses (57)',\n",
       " 'UV Protection, Polarized, Mirrored Rectangular Sunglass...',\n",
       " 'UV Protection Round Sunglasses (54)',\n",
       " 'UV Protection Aviator Sunglasses (54)',\n",
       " 'Mirrored, UV Protection Wayfarer Sunglasses (Free Size)',\n",
       " 'UV Protection Rectangular Sunglasses (58)',\n",
       " 'UV Protection Aviator Sunglasses (62)',\n",
       " 'UV Protection Aviator Sunglasses (54)',\n",
       " 'Gradient, UV Protection Wayfarer Sunglasses (Free Size)',\n",
       " 'UV Protection Round Sunglasses (54)',\n",
       " 'UV Protection Retro Square Sunglasses (58)',\n",
       " 'UV Protection Wayfarer Sunglasses (Free Size)',\n",
       " 'UV Protection, Gradient Rectangular Sunglasses (Free Si...',\n",
       " 'UV Protection, Polarized, Mirrored Rectangular Sunglass...',\n",
       " 'Polarized, UV Protection Round Sunglasses (49)',\n",
       " 'UV Protection Round Sunglasses (Free Size)',\n",
       " 'UV Protection Retro Square Sunglasses (Free Size)',\n",
       " 'UV Protection Retro Square Sunglasses (Free Size)',\n",
       " 'UV Protection Wayfarer, Aviator Sunglasses (88)',\n",
       " 'UV Protection, Mirrored Aviator Sunglasses (58)',\n",
       " 'UV Protection, Polarized, Mirrored Wayfarer Sunglasses ...',\n",
       " 'UV Protection Aviator Sunglasses (54)',\n",
       " 'UV Protection Oval Sunglasses (56)',\n",
       " 'UV Protection Aviator Sunglasses (Free Size)',\n",
       " 'UV Protection Butterfly Sunglasses (65)',\n",
       " 'UV Protection Aviator, Wayfarer Sunglasses (Free Size)',\n",
       " 'UV Protection Oval Sunglasses (Free Size)',\n",
       " 'Others Round Sunglasses (52)',\n",
       " 'Mirrored Aviator Sunglasses (55)',\n",
       " 'Mirrored, UV Protection Wayfarer Sunglasses (Free Size)',\n",
       " 'UV Protection Retro Square Sunglasses (88)',\n",
       " 'UV Protection Wayfarer Sunglasses (Free Size)',\n",
       " 'UV Protection, Polarized, Mirrored Wayfarer Sunglasses ...',\n",
       " 'UV Protection, Gradient, Mirrored, Riding Glasses Aviat...',\n",
       " 'UV Protection, Gradient Over-sized Sunglasses (59)',\n",
       " 'UV Protection, Gradient Round Sunglasses (Free Size)',\n",
       " 'UV Protection, Riding Glasses Rectangular Sunglasses (F...',\n",
       " 'UV Protection Wayfarer Sunglasses (Free Size)',\n",
       " 'UV Protection Wayfarer Sunglasses (55)',\n",
       " 'UV Protection Clubmaster Sunglasses (53)',\n",
       " 'UV Protection, Gradient Butterfly Sunglasses (57)',\n",
       " 'UV Protection, Polarized, Mirrored Rectangular Sunglass...',\n",
       " 'UV Protection Round Sunglasses (54)',\n",
       " 'UV Protection Aviator Sunglasses (54)',\n",
       " 'Mirrored, UV Protection Wayfarer Sunglasses (Free Size)',\n",
       " 'UV Protection Rectangular Sunglasses (58)',\n",
       " 'UV Protection Aviator Sunglasses (62)',\n",
       " 'UV Protection Aviator Sunglasses (54)',\n",
       " 'Gradient, UV Protection Wayfarer Sunglasses (Free Size)',\n",
       " 'UV Protection Round Sunglasses (54)',\n",
       " 'UV Protection Retro Square Sunglasses (58)',\n",
       " 'UV Protection Wayfarer Sunglasses (Free Size)',\n",
       " 'UV Protection, Gradient Rectangular Sunglasses (Free Si...',\n",
       " 'UV Protection, Polarized, Mirrored Rectangular Sunglass...',\n",
       " 'Polarized, UV Protection Round Sunglasses (49)',\n",
       " 'UV Protection Round Sunglasses (Free Size)',\n",
       " 'UV Protection Retro Square Sunglasses (Free Size)',\n",
       " 'UV Protection Retro Square Sunglasses (Free Size)',\n",
       " 'UV Protection Wayfarer, Aviator Sunglasses (88)',\n",
       " 'UV Protection, Mirrored Aviator Sunglasses (58)',\n",
       " 'UV Protection, Polarized, Mirrored Wayfarer Sunglasses ...',\n",
       " 'UV Protection Aviator Sunglasses (54)',\n",
       " 'UV Protection Oval Sunglasses (56)',\n",
       " 'UV Protection Aviator Sunglasses (Free Size)',\n",
       " 'UV Protection Butterfly Sunglasses (65)',\n",
       " 'UV Protection Aviator, Wayfarer Sunglasses (Free Size)',\n",
       " 'UV Protection Oval Sunglasses (Free Size)',\n",
       " 'Others Round Sunglasses (52)',\n",
       " 'Mirrored Aviator Sunglasses (55)',\n",
       " 'Mirrored, UV Protection Wayfarer Sunglasses (Free Size)',\n",
       " 'UV Protection Retro Square Sunglasses (88)',\n",
       " 'UV Protection Wayfarer Sunglasses (Free Size)',\n",
       " 'UV Protection, Polarized, Mirrored Wayfarer Sunglasses ...',\n",
       " 'UV Protection, Gradient, Mirrored, Riding Glasses Aviat...',\n",
       " 'UV Protection, Gradient Over-sized Sunglasses (59)',\n",
       " 'UV Protection, Gradient Round Sunglasses (Free Size)',\n",
       " 'UV Protection, Riding Glasses Rectangular Sunglasses (F...',\n",
       " 'UV Protection Wayfarer Sunglasses (Free Size)',\n",
       " 'UV Protection Wayfarer Sunglasses (55)',\n",
       " 'UV Protection Clubmaster Sunglasses (53)',\n",
       " 'UV Protection, Gradient Butterfly Sunglasses (57)',\n",
       " 'UV Protection, Polarized, Mirrored Rectangular Sunglass...',\n",
       " 'UV Protection Round Sunglasses (54)',\n",
       " 'UV Protection Aviator Sunglasses (54)',\n",
       " 'Mirrored, UV Protection Wayfarer Sunglasses (Free Size)',\n",
       " 'UV Protection Rectangular Sunglasses (58)',\n",
       " 'UV Protection Aviator Sunglasses (62)',\n",
       " 'UV Protection Aviator Sunglasses (54)',\n",
       " 'Gradient, UV Protection Wayfarer Sunglasses (Free Size)',\n",
       " 'UV Protection Round Sunglasses (54)',\n",
       " 'UV Protection Retro Square Sunglasses (58)',\n",
       " 'UV Protection Wayfarer Sunglasses (Free Size)',\n",
       " 'UV Protection, Gradient Rectangular Sunglasses (Free Si...',\n",
       " 'UV Protection, Polarized, Mirrored Rectangular Sunglass...',\n",
       " 'Polarized, UV Protection Round Sunglasses (49)',\n",
       " 'UV Protection Round Sunglasses (Free Size)',\n",
       " 'UV Protection Retro Square Sunglasses (Free Size)',\n",
       " 'UV Protection Retro Square Sunglasses (Free Size)',\n",
       " 'UV Protection Wayfarer, Aviator Sunglasses (88)',\n",
       " 'UV Protection, Mirrored Aviator Sunglasses (58)',\n",
       " 'UV Protection, Polarized, Mirrored Wayfarer Sunglasses ...',\n",
       " 'UV Protection Aviator Sunglasses (54)',\n",
       " 'UV Protection Oval Sunglasses (56)',\n",
       " 'UV Protection Aviator Sunglasses (Free Size)',\n",
       " 'UV Protection Butterfly Sunglasses (65)',\n",
       " 'UV Protection Aviator, Wayfarer Sunglasses (Free Size)',\n",
       " 'UV Protection Oval Sunglasses (Free Size)',\n",
       " 'Others Round Sunglasses (52)',\n",
       " 'Mirrored Aviator Sunglasses (55)',\n",
       " 'Mirrored, UV Protection Wayfarer Sunglasses (Free Size)',\n",
       " 'UV Protection Retro Square Sunglasses (88)',\n",
       " 'UV Protection Wayfarer Sunglasses (Free Size)',\n",
       " 'UV Protection, Polarized, Mirrored Wayfarer Sunglasses ...',\n",
       " 'UV Protection, Gradient, Mirrored, Riding Glasses Aviat...',\n",
       " 'UV Protection, Gradient Over-sized Sunglasses (59)',\n",
       " 'UV Protection, Gradient Round Sunglasses (Free Size)',\n",
       " 'UV Protection, Riding Glasses Rectangular Sunglasses (F...',\n",
       " 'UV Protection Wayfarer Sunglasses (Free Size)',\n",
       " 'UV Protection Wayfarer Sunglasses (55)']"
      ]
     },
     "execution_count": 315,
     "metadata": {},
     "output_type": "execute_result"
    }
   ],
   "source": [
    "Product_Description"
   ]
  },
  {
   "cell_type": "code",
   "execution_count": 316,
   "metadata": {},
   "outputs": [
    {
     "data": {
      "text/plain": [
       "120"
      ]
     },
     "execution_count": 316,
     "metadata": {},
     "output_type": "execute_result"
    }
   ],
   "source": [
    "len(Product_Description)"
   ]
  },
  {
   "cell_type": "code",
   "execution_count": 317,
   "metadata": {},
   "outputs": [],
   "source": [
    "import pandas as pd"
   ]
  },
  {
   "cell_type": "code",
   "execution_count": 318,
   "metadata": {},
   "outputs": [],
   "source": [
    "df6=pd.DataFrame()"
   ]
  },
  {
   "cell_type": "code",
   "execution_count": 319,
   "metadata": {},
   "outputs": [
    {
     "data": {
      "text/html": [
       "<div>\n",
       "<style scoped>\n",
       "    .dataframe tbody tr th:only-of-type {\n",
       "        vertical-align: middle;\n",
       "    }\n",
       "\n",
       "    .dataframe tbody tr th {\n",
       "        vertical-align: top;\n",
       "    }\n",
       "\n",
       "    .dataframe thead th {\n",
       "        text-align: right;\n",
       "    }\n",
       "</style>\n",
       "<table border=\"1\" class=\"dataframe\">\n",
       "  <thead>\n",
       "    <tr style=\"text-align: right;\">\n",
       "      <th></th>\n",
       "      <th>Brand Name</th>\n",
       "      <th>Description</th>\n",
       "      <th>Price After Discount</th>\n",
       "      <th>Discount</th>\n",
       "    </tr>\n",
       "  </thead>\n",
       "  <tbody>\n",
       "    <tr>\n",
       "      <th>0</th>\n",
       "      <td>Silver Kartz</td>\n",
       "      <td>UV Protection Clubmaster Sunglasses (53)</td>\n",
       "      <td>₹367</td>\n",
       "      <td>75% off</td>\n",
       "    </tr>\n",
       "    <tr>\n",
       "      <th>1</th>\n",
       "      <td>ROYAL SON</td>\n",
       "      <td>UV Protection, Gradient Butterfly Sunglasses (57)</td>\n",
       "      <td>₹664</td>\n",
       "      <td>66% off</td>\n",
       "    </tr>\n",
       "    <tr>\n",
       "      <th>2</th>\n",
       "      <td>SHAAH COLLECTIONS</td>\n",
       "      <td>UV Protection, Polarized, Mirrored Rectangular...</td>\n",
       "      <td>₹198</td>\n",
       "      <td>88% off</td>\n",
       "    </tr>\n",
       "    <tr>\n",
       "      <th>3</th>\n",
       "      <td>Elligator</td>\n",
       "      <td>UV Protection Round Sunglasses (54)</td>\n",
       "      <td>₹329</td>\n",
       "      <td>86% off</td>\n",
       "    </tr>\n",
       "    <tr>\n",
       "      <th>4</th>\n",
       "      <td>PIRASO</td>\n",
       "      <td>UV Protection Aviator Sunglasses (54)</td>\n",
       "      <td>₹237</td>\n",
       "      <td>85% off</td>\n",
       "    </tr>\n",
       "    <tr>\n",
       "      <th>...</th>\n",
       "      <td>...</td>\n",
       "      <td>...</td>\n",
       "      <td>...</td>\n",
       "      <td>...</td>\n",
       "    </tr>\n",
       "    <tr>\n",
       "      <th>95</th>\n",
       "      <td>ROYAL SON</td>\n",
       "      <td>Polarized, UV Protection Round Sunglasses (49)</td>\n",
       "      <td>₹664</td>\n",
       "      <td>66% off</td>\n",
       "    </tr>\n",
       "    <tr>\n",
       "      <th>96</th>\n",
       "      <td>SHAAH COLLECTIONS</td>\n",
       "      <td>UV Protection Round Sunglasses (Free Size)</td>\n",
       "      <td>₹331</td>\n",
       "      <td>80% off</td>\n",
       "    </tr>\n",
       "    <tr>\n",
       "      <th>97</th>\n",
       "      <td>PHENOMENAL</td>\n",
       "      <td>UV Protection Retro Square Sunglasses (Free Size)</td>\n",
       "      <td>₹399</td>\n",
       "      <td>80% off</td>\n",
       "    </tr>\n",
       "    <tr>\n",
       "      <th>98</th>\n",
       "      <td>ROZZETTA CRAFT</td>\n",
       "      <td>UV Protection Retro Square Sunglasses (Free Size)</td>\n",
       "      <td>₹499</td>\n",
       "      <td>77% off</td>\n",
       "    </tr>\n",
       "    <tr>\n",
       "      <th>99</th>\n",
       "      <td>Silver Kartz</td>\n",
       "      <td>UV Protection Wayfarer, Aviator Sunglasses (88)</td>\n",
       "      <td>₹265</td>\n",
       "      <td>77% off</td>\n",
       "    </tr>\n",
       "  </tbody>\n",
       "</table>\n",
       "<p>100 rows × 4 columns</p>\n",
       "</div>"
      ],
      "text/plain": [
       "           Brand Name                                        Description  \\\n",
       "0        Silver Kartz           UV Protection Clubmaster Sunglasses (53)   \n",
       "1           ROYAL SON  UV Protection, Gradient Butterfly Sunglasses (57)   \n",
       "2   SHAAH COLLECTIONS  UV Protection, Polarized, Mirrored Rectangular...   \n",
       "3           Elligator                UV Protection Round Sunglasses (54)   \n",
       "4              PIRASO              UV Protection Aviator Sunglasses (54)   \n",
       "..                ...                                                ...   \n",
       "95          ROYAL SON     Polarized, UV Protection Round Sunglasses (49)   \n",
       "96  SHAAH COLLECTIONS         UV Protection Round Sunglasses (Free Size)   \n",
       "97         PHENOMENAL  UV Protection Retro Square Sunglasses (Free Size)   \n",
       "98     ROZZETTA CRAFT  UV Protection Retro Square Sunglasses (Free Size)   \n",
       "99       Silver Kartz    UV Protection Wayfarer, Aviator Sunglasses (88)   \n",
       "\n",
       "   Price After Discount Discount  \n",
       "0                  ₹367  75% off  \n",
       "1                  ₹664  66% off  \n",
       "2                  ₹198  88% off  \n",
       "3                  ₹329  86% off  \n",
       "4                  ₹237  85% off  \n",
       "..                  ...      ...  \n",
       "95                 ₹664  66% off  \n",
       "96                 ₹331  80% off  \n",
       "97                 ₹399  80% off  \n",
       "98                 ₹499  77% off  \n",
       "99                 ₹265  77% off  \n",
       "\n",
       "[100 rows x 4 columns]"
      ]
     },
     "execution_count": 319,
     "metadata": {},
     "output_type": "execute_result"
    }
   ],
   "source": [
    "df6['Brand Name']=Brand_Name\n",
    "df6['Description']=Product_Description\n",
    "df6['Price After Discount']=Price\n",
    "df6['Discount']=Discount\n",
    "\n",
    "df6[0:100]"
   ]
  },
  {
   "cell_type": "markdown",
   "metadata": {},
   "source": [
    "# Q7 Scrape 100 reviews data from flipkart.com for iphone11 phone. You have to"
   ]
  },
  {
   "cell_type": "markdown",
   "metadata": {},
   "source": [
    "go the link: https://www.flipkart.com/apple-iphone-11-black-64-gb-includesearpods-poweradapter/p/itm0f37c2240b217?pid=MOBFKCTSVZAXUHGR&lid=LSTMOBFKC TSVZAXUHGREPBFGI&marketplace. When you will open the above link you will reach to the below shown webpage. As shown in the above page you have to scrape the tick marked attributes. These are"
   ]
  },
  {
   "cell_type": "markdown",
   "metadata": {},
   "source": [
    "1.Rating"
   ]
  },
  {
   "cell_type": "markdown",
   "metadata": {},
   "source": [
    "2.Review_summary"
   ]
  },
  {
   "cell_type": "markdown",
   "metadata": {},
   "source": [
    "3.Full review You have to scrape this data for first 100 reviews."
   ]
  },
  {
   "cell_type": "code",
   "execution_count": 140,
   "metadata": {},
   "outputs": [],
   "source": [
    "driver7=webdriver.Chrome('chromedriver.exe')"
   ]
  },
  {
   "cell_type": "code",
   "execution_count": 141,
   "metadata": {},
   "outputs": [],
   "source": [
    "url7='https://www.flipkart.com/apple-iphone-11-black-64-gb-includes-earpods-power-adapter/p/itm0f37c2240b217?pid=MOBFKCTSVZAXUHGR&lid=LSTMOBFKCTSVZAXUHGREPBFGI&marketplace'"
   ]
  },
  {
   "cell_type": "code",
   "execution_count": 142,
   "metadata": {},
   "outputs": [],
   "source": [
    "driver7.get(url7)"
   ]
  },
  {
   "cell_type": "code",
   "execution_count": 143,
   "metadata": {},
   "outputs": [],
   "source": [
    "all_reivew=driver7.find_element_by_xpath(\"//div[@class='_3UAT2v _16PBlm']\").click()"
   ]
  },
  {
   "cell_type": "code",
   "execution_count": 144,
   "metadata": {},
   "outputs": [],
   "source": [
    "url7=[]"
   ]
  },
  {
   "cell_type": "code",
   "execution_count": 145,
   "metadata": {},
   "outputs": [
    {
     "data": {
      "text/plain": [
       "[<selenium.webdriver.remote.webelement.WebElement (session=\"b99f01b83093429a21c760d2bac81ba9\", element=\"3ac869d2-c645-4e67-98c7-b33695f97a85\")>,\n",
       " <selenium.webdriver.remote.webelement.WebElement (session=\"b99f01b83093429a21c760d2bac81ba9\", element=\"437df826-ab18-4ffd-b355-14574c016202\")>,\n",
       " <selenium.webdriver.remote.webelement.WebElement (session=\"b99f01b83093429a21c760d2bac81ba9\", element=\"f0d71e68-027b-407e-a132-f8b6f9ca769c\")>,\n",
       " <selenium.webdriver.remote.webelement.WebElement (session=\"b99f01b83093429a21c760d2bac81ba9\", element=\"a32601a5-f9c6-4a93-9a66-4a447e079dc9\")>,\n",
       " <selenium.webdriver.remote.webelement.WebElement (session=\"b99f01b83093429a21c760d2bac81ba9\", element=\"a62dd8f3-eb47-49f3-96e9-59bc22b22655\")>,\n",
       " <selenium.webdriver.remote.webelement.WebElement (session=\"b99f01b83093429a21c760d2bac81ba9\", element=\"924b3edb-ca23-4b1e-b3ab-6ede6c4c06c8\")>,\n",
       " <selenium.webdriver.remote.webelement.WebElement (session=\"b99f01b83093429a21c760d2bac81ba9\", element=\"2a82495d-9ccc-42e7-84cf-589366e0d9a0\")>,\n",
       " <selenium.webdriver.remote.webelement.WebElement (session=\"b99f01b83093429a21c760d2bac81ba9\", element=\"46246f62-9d7c-4faa-9a9b-9d2dc05acbc0\")>,\n",
       " <selenium.webdriver.remote.webelement.WebElement (session=\"b99f01b83093429a21c760d2bac81ba9\", element=\"cc38751f-b0c1-42e5-90b2-f54df6e7ae27\")>,\n",
       " <selenium.webdriver.remote.webelement.WebElement (session=\"b99f01b83093429a21c760d2bac81ba9\", element=\"d0ed46d6-696b-4033-b36a-f1c482d2075e\")>,\n",
       " <selenium.webdriver.remote.webelement.WebElement (session=\"b99f01b83093429a21c760d2bac81ba9\", element=\"82d4c333-295f-42a6-81b2-55c561b17c06\")>]"
      ]
     },
     "execution_count": 145,
     "metadata": {},
     "output_type": "execute_result"
    }
   ],
   "source": [
    "url=driver7.find_elements_by_xpath(\"//nav[@class='yFHi8N']//a\")\n",
    "url"
   ]
  },
  {
   "cell_type": "code",
   "execution_count": 146,
   "metadata": {},
   "outputs": [],
   "source": [
    "for i in url:\n",
    "    url7.append(i.get_attribute('href'))"
   ]
  },
  {
   "cell_type": "code",
   "execution_count": 147,
   "metadata": {},
   "outputs": [
    {
     "data": {
      "text/plain": [
       "['https://www.flipkart.com/apple-iphone-11-black-64-gb-includes-earpods-power-adapter/product-reviews/itm0f37c2240b217?pid=MOBFKCTSVZAXUHGR&lid=LSTMOBFKCTSVZAXUHGREPBFGI&marketplace=FLIPKART&page=1',\n",
       " 'https://www.flipkart.com/apple-iphone-11-black-64-gb-includes-earpods-power-adapter/product-reviews/itm0f37c2240b217?pid=MOBFKCTSVZAXUHGR&lid=LSTMOBFKCTSVZAXUHGREPBFGI&marketplace=FLIPKART&page=2',\n",
       " 'https://www.flipkart.com/apple-iphone-11-black-64-gb-includes-earpods-power-adapter/product-reviews/itm0f37c2240b217?pid=MOBFKCTSVZAXUHGR&lid=LSTMOBFKCTSVZAXUHGREPBFGI&marketplace=FLIPKART&page=3',\n",
       " 'https://www.flipkart.com/apple-iphone-11-black-64-gb-includes-earpods-power-adapter/product-reviews/itm0f37c2240b217?pid=MOBFKCTSVZAXUHGR&lid=LSTMOBFKCTSVZAXUHGREPBFGI&marketplace=FLIPKART&page=4',\n",
       " 'https://www.flipkart.com/apple-iphone-11-black-64-gb-includes-earpods-power-adapter/product-reviews/itm0f37c2240b217?pid=MOBFKCTSVZAXUHGR&lid=LSTMOBFKCTSVZAXUHGREPBFGI&marketplace=FLIPKART&page=5',\n",
       " 'https://www.flipkart.com/apple-iphone-11-black-64-gb-includes-earpods-power-adapter/product-reviews/itm0f37c2240b217?pid=MOBFKCTSVZAXUHGR&lid=LSTMOBFKCTSVZAXUHGREPBFGI&marketplace=FLIPKART&page=6',\n",
       " 'https://www.flipkart.com/apple-iphone-11-black-64-gb-includes-earpods-power-adapter/product-reviews/itm0f37c2240b217?pid=MOBFKCTSVZAXUHGR&lid=LSTMOBFKCTSVZAXUHGREPBFGI&marketplace=FLIPKART&page=7',\n",
       " 'https://www.flipkart.com/apple-iphone-11-black-64-gb-includes-earpods-power-adapter/product-reviews/itm0f37c2240b217?pid=MOBFKCTSVZAXUHGR&lid=LSTMOBFKCTSVZAXUHGREPBFGI&marketplace=FLIPKART&page=8',\n",
       " 'https://www.flipkart.com/apple-iphone-11-black-64-gb-includes-earpods-power-adapter/product-reviews/itm0f37c2240b217?pid=MOBFKCTSVZAXUHGR&lid=LSTMOBFKCTSVZAXUHGREPBFGI&marketplace=FLIPKART&page=9',\n",
       " 'https://www.flipkart.com/apple-iphone-11-black-64-gb-includes-earpods-power-adapter/product-reviews/itm0f37c2240b217?pid=MOBFKCTSVZAXUHGR&lid=LSTMOBFKCTSVZAXUHGREPBFGI&marketplace=FLIPKART&page=10',\n",
       " 'https://www.flipkart.com/apple-iphone-11-black-64-gb-includes-earpods-power-adapter/product-reviews/itm0f37c2240b217?pid=MOBFKCTSVZAXUHGR&lid=LSTMOBFKCTSVZAXUHGREPBFGI&marketplace=FLIPKART&page=2']"
      ]
     },
     "execution_count": 147,
     "metadata": {},
     "output_type": "execute_result"
    }
   ],
   "source": [
    "url7"
   ]
  },
  {
   "cell_type": "code",
   "execution_count": 148,
   "metadata": {},
   "outputs": [],
   "source": [
    "Rating=[]"
   ]
  },
  {
   "cell_type": "code",
   "execution_count": 149,
   "metadata": {},
   "outputs": [
    {
     "data": {
      "text/plain": [
       "['5',\n",
       " '5',\n",
       " '5',\n",
       " '5',\n",
       " '5',\n",
       " '5',\n",
       " '5',\n",
       " '4',\n",
       " '5',\n",
       " '5',\n",
       " '5',\n",
       " '5',\n",
       " '5',\n",
       " '5',\n",
       " '5',\n",
       " '5',\n",
       " '5',\n",
       " '5',\n",
       " '5',\n",
       " '5',\n",
       " '5',\n",
       " '5',\n",
       " '4',\n",
       " '5',\n",
       " '5',\n",
       " '5',\n",
       " '5',\n",
       " '4',\n",
       " '5',\n",
       " '5',\n",
       " '5',\n",
       " '5',\n",
       " '5',\n",
       " '5',\n",
       " '5',\n",
       " '5',\n",
       " '5',\n",
       " '4',\n",
       " '5',\n",
       " '5',\n",
       " '5',\n",
       " '5',\n",
       " '5',\n",
       " '5',\n",
       " '5',\n",
       " '5',\n",
       " '4',\n",
       " '5',\n",
       " '5',\n",
       " '5',\n",
       " '5',\n",
       " '5',\n",
       " '4',\n",
       " '5',\n",
       " '5',\n",
       " '5',\n",
       " '5',\n",
       " '5',\n",
       " '5',\n",
       " '5',\n",
       " '5',\n",
       " '5',\n",
       " '5',\n",
       " '5',\n",
       " '4',\n",
       " '5',\n",
       " '5',\n",
       " '5',\n",
       " '4',\n",
       " '5',\n",
       " '5',\n",
       " '5',\n",
       " '4',\n",
       " '5',\n",
       " '5',\n",
       " '5',\n",
       " '5',\n",
       " '5',\n",
       " '5',\n",
       " '5',\n",
       " '5',\n",
       " '5',\n",
       " '4',\n",
       " '5',\n",
       " '5',\n",
       " '4',\n",
       " '5',\n",
       " '5',\n",
       " '5',\n",
       " '5',\n",
       " '5',\n",
       " '5',\n",
       " '5',\n",
       " '5',\n",
       " '5',\n",
       " '5',\n",
       " '3',\n",
       " '5',\n",
       " '5',\n",
       " '5',\n",
       " '5',\n",
       " '5',\n",
       " '5',\n",
       " '5',\n",
       " '5',\n",
       " '5',\n",
       " '5',\n",
       " '5']"
      ]
     },
     "execution_count": 149,
     "metadata": {},
     "output_type": "execute_result"
    }
   ],
   "source": [
    "for i in url7:\n",
    "    driver7.get(i)\n",
    "    rating_tags7=driver7.find_elements_by_xpath(\"//div[@class='_3LWZlK _1BLPMq']\")\n",
    "    for i in rating_tags7:\n",
    "        try:\n",
    "            Rating.append(i.text)\n",
    "        except:\n",
    "            Rating.append(\"-\")\n",
    "            \n",
    "Rating\n"
   ]
  },
  {
   "cell_type": "code",
   "execution_count": 150,
   "metadata": {},
   "outputs": [
    {
     "data": {
      "text/plain": [
       "108"
      ]
     },
     "execution_count": 150,
     "metadata": {},
     "output_type": "execute_result"
    }
   ],
   "source": [
    "len(Rating)"
   ]
  },
  {
   "cell_type": "code",
   "execution_count": 151,
   "metadata": {},
   "outputs": [],
   "source": [
    "Review_Summary=[]"
   ]
  },
  {
   "cell_type": "code",
   "execution_count": 152,
   "metadata": {},
   "outputs": [
    {
     "data": {
      "text/plain": [
       "['Brilliant',\n",
       " 'Simply awesome',\n",
       " 'Best in the market!',\n",
       " 'Perfect product!',\n",
       " 'Fabulous!',\n",
       " 'Worth every penny',\n",
       " 'Great product',\n",
       " 'Good choice',\n",
       " 'Worth every penny',\n",
       " 'Highly recommended',\n",
       " 'Highly recommended',\n",
       " 'Perfect product!',\n",
       " 'Perfect product!',\n",
       " 'Classy product',\n",
       " 'Highly recommended',\n",
       " 'Worth every penny',\n",
       " 'Perfect product!',\n",
       " 'Simply awesome',\n",
       " 'Worth every penny',\n",
       " 'Terrific',\n",
       " 'Worth every penny',\n",
       " 'Wonderful',\n",
       " 'Nice product',\n",
       " 'Classy product',\n",
       " 'Perfect product!',\n",
       " 'Brilliant',\n",
       " 'Must buy!',\n",
       " 'Good choice',\n",
       " 'Wonderful',\n",
       " 'Perfect product!',\n",
       " 'Terrific purchase',\n",
       " 'Simply awesome',\n",
       " 'Great product',\n",
       " 'Mind-blowing purchase',\n",
       " 'Terrific purchase',\n",
       " 'Excellent',\n",
       " 'Simply awesome',\n",
       " 'Good quality product',\n",
       " 'Very poor',\n",
       " 'Classy product',\n",
       " 'Perfect product!',\n",
       " 'Must buy!',\n",
       " 'Fabulous!',\n",
       " 'Mind-blowing purchase',\n",
       " 'Mind-blowing purchase',\n",
       " 'Wonderful',\n",
       " 'Great product',\n",
       " 'Very Good',\n",
       " 'Classy product',\n",
       " 'Perfect product!',\n",
       " 'Just wow!',\n",
       " 'Awesome',\n",
       " 'Terrific',\n",
       " 'Pretty good',\n",
       " 'Terrific purchase',\n",
       " 'Awesome',\n",
       " 'Classy product',\n",
       " 'Brilliant',\n",
       " 'Terrific',\n",
       " 'Perfect product!',\n",
       " 'Awesome',\n",
       " 'Perfect product!',\n",
       " 'Very poor',\n",
       " 'Fabulous!',\n",
       " 'Excellent',\n",
       " 'Must buy!',\n",
       " 'Value-for-money',\n",
       " 'Best in the market!',\n",
       " 'Brilliant',\n",
       " 'Terrific purchase',\n",
       " 'Good quality product',\n",
       " 'Best in the market!',\n",
       " 'Perfect product!',\n",
       " 'Awesome',\n",
       " 'Value-for-money',\n",
       " 'Just wow!',\n",
       " 'Super!',\n",
       " 'Classy product',\n",
       " 'Must buy!',\n",
       " 'Wonderful',\n",
       " 'Mind-blowing purchase',\n",
       " 'Terrific',\n",
       " 'Excellent',\n",
       " 'Excellent',\n",
       " 'Nice product',\n",
       " 'Mind-blowing purchase',\n",
       " 'Highly recommended',\n",
       " 'Pretty good',\n",
       " 'Wonderful',\n",
       " 'Worth every penny',\n",
       " 'Fabulous!',\n",
       " 'Mind-blowing purchase',\n",
       " 'Excellent',\n",
       " 'Super!',\n",
       " 'Fabulous!',\n",
       " 'Just wow!',\n",
       " 'Terrific purchase',\n",
       " 'Awesome',\n",
       " 'Decent product',\n",
       " 'Awesome',\n",
       " 'Highly recommended',\n",
       " 'Perfect product!',\n",
       " 'Perfect product!',\n",
       " 'Classy product',\n",
       " 'Highly recommended',\n",
       " 'Worth every penny',\n",
       " 'Perfect product!',\n",
       " 'Simply awesome',\n",
       " 'Worth every penny',\n",
       " 'Terrific']"
      ]
     },
     "execution_count": 152,
     "metadata": {},
     "output_type": "execute_result"
    }
   ],
   "source": [
    "for i in url7:\n",
    "    driver7.get(i)\n",
    "    srating=driver7.find_elements_by_xpath(\"//p[@class='_2-N8zT']\")\n",
    "    for i in srating:\n",
    "        Review_Summary.append(i.text)\n",
    "        \n",
    "Review_Summary"
   ]
  },
  {
   "cell_type": "code",
   "execution_count": 153,
   "metadata": {},
   "outputs": [],
   "source": [
    "Review=[]"
   ]
  },
  {
   "cell_type": "code",
   "execution_count": 154,
   "metadata": {},
   "outputs": [
    {
     "data": {
      "text/plain": [
       "['The Best Phone for the Money\\n\\nThe iPhone 11 offers superb cameras, a more durable design and excellent battery life for an affordable price.\\n\\nCompelling ultra-wide camera\\nNew Night mode is excellent\\nLong battery life',\n",
       " 'Really satisfied with the Product I received... It’s totally genuine and the packaging was also really good so if ur planning to buy just go for it.',\n",
       " 'Great iPhone very snappy experience as apple kind. Upgraded from iPhone 7.\\nPros\\n-Camera top class\\n- Battery top performed\\n-Chipset no need to say as apple kind\\n-Security as you expect from apple\\n- Display super bright industry leading colour\\naccuracy and super responsive\\n-Build quality as expect from apple sturdy\\npremium durable beautiful stylish.\\n-Os most stable os in smartphone industry\\n\\nCons\\n-No 5G\\n-Display is not based on OLED technology\\n-Charger headphones and 1 apple stic...\\nREAD MORE',\n",
       " 'Amazing phone with great cameras and better battery which gives you the best performance. I just love the camera .',\n",
       " 'This is my first iOS phone. I am very happy with this product. Very much satisfied with this. I love this phone.',\n",
       " 'Previously I was using one plus 3t it was a great phone\\nAnd then I decided to upgrade I am stuck between Samsung s10 plus or iPhone 11\\nI have seen the specs and everything were good except the display it’s somewhere between 720-1080 and it’s not even an amoled it’s an LCD display\\nBut I decided to go with iPhone because I have never used an IOS device I have Been an android user from the past 9 years I ordered IPhone 11 (128gb) product red\\nMy experience after using 3 weeks\\n1. The delivery ...\\nREAD MORE',\n",
       " 'Amazing Powerful and Durable Gadget.\\n\\nI’m am very happy with the camera picture quality, Amazing face id unlocked in dark room, Strong battery with perfect screen size as you can carry easily in pocket. This is my third iPhone.\\n\\nI shifted from android Samsung Note series to iPhone because of the strong build quality and peace of mind for next 3-4 years.\\n\\nDon’t think to much just go for it and I suggest you to go for minimum 128gb variant or more 256gb.\\n\\nI’ve attached my puppy pics and no fi...\\nREAD MORE',\n",
       " 'So far it’s been an AMAZING experience coming back to iOS after nearly a decade but it’s not as versatile as android though phone is sturdy dropped it accidentally a couple of times and nothing happened fortunately camera is awesome',\n",
       " 'i11 is worthy to buy, too much happy with the product. Thank u flipkart I received the item on time..loved it..',\n",
       " 'iphone 11 is a very good phone to buy only if you can compromise for the display. The display on this is device is pretty good but you can get other options with better displays in this price segment.\\nIf you can survive with an HD+ LCD panel with thicker bezels and a notch up top then this is a very good phone for you.\\nCameras are awesome, battery backup excellent, great performance and a decent premium look. Good job Apple !',\n",
       " 'What a camera .....just awesome ..you can feel this iPhone just awesome . Good for gaming also ...try pubg in hd it’s just wow',\n",
       " 'It’s a must buy who is looking for an upgrade from previous generation of iPhones. If you are using XR then still you can hold on for sometime and upgrade to 2020 model else this phone is a must buy . Camera quality is amazing and wide angle is something to count upon. Performance wise it’s amazing and feels premium while holding in hand. So a big YES for this device. Go for 128 GB variant as the 4K videos will occupy lots of space and the storage can get over very quickly. Try to buy it with...\\nREAD MORE',\n",
       " 'Value for money❤️❤️\\nIts awesome mobile phone in the world ...\\nDisplay was very good and bright ..\\nTrust me freinds you r never regret after Buying..\\nJust go for it....\\nI love this phone and i switch to iphone x to 11',\n",
       " 'Totally in love with this ❤ the camera quality is amazing just love it 😘😘😘 itsss dammnnnnnn amazing... Must buy iPhone 11 this is my best experience ever ☀👌👌🧡🧡🧡🧡🧡 thanku apple ❤',\n",
       " \"It's my first time to use iOS phone and I am loving my upgradation 😍😍 I love the color, I love the assebility of the phone....I need to learn more about its functionality, but as far as I have seen, it's quite easy and it has a lot of functions to work on, specially if you are a content writer or a blogger you get a lot of content creation platforms and they are really amazing.\\n\\nThis phone not only for good quality photography but a lot of other task too.😍💯\",\n",
       " 'Best budget Iphone till date ❤️ go for it guys without second thought. Let me explain you guys about Camera, Display, battery, and performance.\\n\\nCamera: at this price range there is no comparison of camera, you’ll love the picture quality as well as video quality. I am a Vlogger I wanted an iPhone with 4k video by front camera and I got this phone and I am more than happy 😃\\n\\nBattery: I use this phone roughly as I am active social media person and I have a youtube channel. so the battery ba...\\nREAD MORE',\n",
       " \"Iphone is just awesome.. battery backup is very very nice.. continuously for 10 hours we can use it.camera is just awesome.. display is just fab.i love it alot..i had to wait 15 days for it as i pre ordered it..overalll it's worth the price..these all images are clicked by my iPhone..and i love it.\",\n",
       " 'Excellent camera, good performance, no lag. The lcd display is also good.. but difference come when we watch movie in prime and Netflix, the colours are not vibrant.. as we see in amoled display.. and the charger in box is of 5 watts.. takes more than 3 hours to charge from 0 to 100.. so guys be prepare to buy 18 watts charger . Finally I am an android user, it was my first Iapple phone, I promise u guys the iOS is so smooth.. overall the phone is damn good.... close eyes to buy it.. thanks t...\\nREAD MORE',\n",
       " 'It’s been almost a month since I have been using this phone. I upgraded from an iPhone 8. The main issue with my 8 was battery and this phone is just awesome when it comes to battery. It lasts a day and a half for me with my regular use , internet connected always with 4g\\nCan’t move forward without saying this. Battery of this phone is a life saver when I am traveling or at work when I don’t get the option to charge\\nCamera is superb. Front cam selfies and back cam photos are just awesome.\\n...\\nREAD MORE',\n",
       " 'Really worth of money. i just love it. It is the best phone ever.',\n",
       " 'Smooth like butter, camera like fantabulous, sound is crystal clear & its red color is damn attractive, i am just loving it. Must buy if you love photography.\\n\\nLucky to get it in sale, thank you Flipkart.',\n",
       " 'This is my first ever I phone. Before this I was using my google nexus 5. But moving from android to iOS is a great experience. It’s worth at this price. I will highly recommend it if you want to move to iOS. The best part of this phone is it’s camera and it’s battery life. This two things have won my heart. I loved it. Happy to have it in my hand. Still exploring its features. And can’t forget to mention Flipkart service. Very prompt service and fast delivery.',\n",
       " 'Awesome Phone. Slightly high price but worth. Better than iPhone XR.\\nCamera is superb and wide angle camera is very clear.\\n12MP selfie camera is also very good.\\nA13 Chip gives a very good and smooth performance.',\n",
       " 'Superb Product !!!\\nA big and worthy upgrade from mi 3S to iphone 11 .\\nTotally loved it !',\n",
       " 'Battery backup is extraordinary, camera is decent & performance offered by A13 bionic is awsome. The display is good in practical usage like the visibility of display is very good in direct sun light compare to pro models. Iam extremely satisfied for the money I spent.',\n",
       " 'I have migrated from OP 7pro... and trust me, iPhone 11 is totally worth it.. following are the reasons:-\\n1)there is ABSOLUTELY NO ISSUE WITH THE DISPLAY... its crisp, sharp and I found it to be much much better than OP7 pro. Netflix, Prime video all run crisply... you won’t miss a thing. True Tone works flawlessly...the display brightness is perfect. OP have not calibrated their screens properly.\\n2) iPhone 11 series have really good cameras... others have spoken in depth about them.\\n3) bat...\\nREAD MORE',\n",
       " 'It’s an amazing product from apple and the camera is simply superb. Phone is faster.Night shot is simply superb and detailing and colour differentiation from camera is an added advantage\\n\\nThis review I have written from iPhone 11 only and I am glad to say outside.\\n\\nCons wise if we see HD+ display only, no battery percentage indicator as in older iPhone 8.\\nNo assistive touch control button in it\\nNo oleophobic coating on back panel glass and finger prints are visible but since I bought mint gr...\\nREAD MORE',\n",
       " 'Looking so good 👍 😍 super 👌 stylish 😎 phone\\nClean box 📦 good 👍 delivery 👌 fast delivery\\nOriginal box Original iphone 📱 👌 😍😍😍',\n",
       " 'I just directly switch from iphone 6s to iphone 11 .The best premium smartphone I recommend to everyone. Excellent quality and colors the iphone have in 11 series.\\nCamera quality is just awesome and the major feel when we hold in our hands. The sound quality and volume is also higher then the previous models.\\nI will recommend to buy iphone 11 instead of pro models , there is nothing much difference as this model contains everything which fulfill our needs.\\n\\nOnly one thing that I dislike abo...\\nREAD MORE',\n",
       " 'After 1 month use I found camera quality best compared to my previous Samsung note 10+.Display not good as note 10 also charging too slow.Apple should add fast charger like 11 plus and pro.Best phone for daily use',\n",
       " 'Upgraded from iphone 6 to 11 best phone for iphone users battery is much better than other iphones camera is awesome love to use it.camera is so clear in night.',\n",
       " \"It's very high performances devise i am like the service of flipkart delevary very fast and packing very nice perfect phone\",\n",
       " 'Well you all know the specifications . One of a kind. Best iPhone till date. Many enhancements to the camera app with many options. Love the glass body with matte finish in the lens area on the back. Lovely colours to choose from. Best battery in an iPhone till date, enough to last more than a day in normal usage. I tested my iPhone 11 battery and lasted for than 24 hours after full charge still with 30% battery charge left. Watched movies for some time. Normal usage on calls, browsing, musi...\\nREAD MORE',\n",
       " 'This will help you more. See if you are planning to buy iPhone 11. I will say. Yes. But there are some plans I just want to disclose before you buy. 1) If you are an existing iPhone X/XS/XS Max/ XR user, better you guys do not think it to buy. You guys have more or less better gadget. 2) If you are an android user and planning to buy premium phone. I will suggest them to please buy iPhone instead of buying an Android. I bet you will never go back to android after using IOS. Now I want to shar...\\nREAD MORE',\n",
       " 'The built quality is not very premium.\\nThe battery back is great .\\nThe LCD panel is not so sharp but the brightness level is very High .\\nCamera is super duper awesome.\\nThe red colour which people think is bright is actually very soothing and excellent colour to choose from .\\nThe A13 Bionic chip is really a flagship processor and can beat any phone which even has 12 gb ram .\\nCamera module is very great and looks very stylish.',\n",
       " 'Amazing camera and feel super machine I am not describe my feeling but this is amazing Phone I am so lucky I have this',\n",
       " 'Really good actually this is my first apple product am using its really awesome performance wise excellent. Am really happy with this iphone11',\n",
       " 'it is very good at performance. Camera is best like before and very smooth response even in water. Don’t buy 12 mini buy iPhone 11 , it is far better than 12 mini believe me ! Have a nice day \\uf8ff ☺️',\n",
       " 'Reviewing again after 5 months. At the beginning the battery and performance was good but it degraded soon. Also I was facing heating issues. The mobile will heat up like a stove sometimes. You cannot even play Pubg even in low settings properly, performance is not a problem but heating is. Also if you play that game for 10 mins the brightness will be automatically down due to over heating even when the auto brightness is set to off. This will not be solved even if u manually increase the bri...\\nREAD MORE',\n",
       " 'We are on apple ecosystem for almost eight years now with couple of iPads and iPhones, including Xr.\\n\\nBought iPhone 11 as a gift to my daughter who loves it. We chose for a purple coloured one. Believe me it is gorgeous and towards the lighter shade. Dazzling and brilliant!\\n\\nThe phone is great and does excellent RAM management like any other Apple device.\\n\\nThe screen, though a LCD and lesser ppi as compared to other flagship phones of competitor brands, is a delight to watch with perfect re...\\nREAD MORE',\n",
       " 'It is just awesome mobile for this price from Apple,\\n\\nAfter 10 days review\\n\\nBattery enough for 1 day even 24*7 Internet will be on and mostly internet usage\\n\\nCamera is just awesome cool , android 64 MP is equal to this just 12 MP\\n\\nA13 Bionic chip will give more high performance without hanging\\n\\nAudio stereo speakers will give Dolby atoms sound with crystal clear\\n\\nVideo recording is like cinematic shots of every sec can be a 4K 60fps. Just awesome this phone\\niPhone 11 loved one',\n",
       " 'Best Apple iPhone that i have bought at a very reasonable price, camera quality is next level just awesome n of superior quality android phones not even close(RIP) to that and also battery is really good but packaging by Flipkart of iPhone was very poor of such a expensive product, firstly im bit worried about the quality of product if i purchased it through online how was the product but i think now this was mine best decision to bought it through Flipkart online because i got genuine Apple...\\nREAD MORE',\n",
       " \"I can say I'm damn impressed with iPhone 11. As they says iPhone 11 have the toughest glass ever in the smartphone which you'll find on the front and back and it's totally smooth. The fit and finish is full apple quality - there's no sense that any cheaping out has happened in the construction. Without saying it's camera features this review won't complete. The iPhone 11 has a dual camera system, consisting of a wide angle len's that's pretty much same as found on the iPhone XR last year, but...\\nREAD MORE\",\n",
       " 'Best Quality Product OF iPhone Series , Sound Quality & Camera quality is very awesome, Battery Life is very Sufficient for 24 hr Backup With Full Internet Access , I love this this Product too much , It is very fast & making me Very fast in all my daily Routine\\nHighlights;\\n1.Camera: 5 STAR\\n2.Video Recording: 5 star\\n3.Night mODE sHOOTING & Camera:4 star\\n4. Audio Quality: Awesome\\n5. Battery : 5 Star\\n6. Touch:5 Star\\n7. Processor: Very Fast\\nThe M...\\nREAD MORE',\n",
       " 'First thanks to Flipkart for this amazing deal and phone is outstanding. I upgraded from iPhone 7 and this is like very big upgrade. But the packaging was very basic I expected a good packaging as they only wrapped one layer of bubble wrap which I don’t think is enough to protect this expensive phone. And I recommend this phone and seller as well.\\n\\nAnd I’m posting this review after using it for 4 days.',\n",
       " 'Superfast delivery by Flipkart. Thanks.\\n\\n1. iPhone 11 is a pretty solid phone for the money you are paying.\\n2. All the bad reviews about the display is confusing. It’s not that bad.\\n3. I switched from a Oneplus 7t. I have no complaints about the display quality of iPhone. Yes, it’s not OLED, so, we are missing on the deep blacks. But that’s it. It is a very colour accurate display. Gets adequately bright and I could not find any pixelation.\\n4. Performance is one of the best, if not best, in ...\\nREAD MORE',\n",
       " \"Again back to apple iphone after a gap of 2-3 years. It's pleasure to use iOS and the quality product by Apple. Iphone 11 still works like a beast in 2021 also. It really capable of doing day to day usage as well as hard core gaming. Battery is awesome. I'm really too much satisfied with it. Apart fto the very gorgious IPS LCD (AMOLED will be better) everything is mind boggling. Iphone💕.\",\n",
       " 'impressive super phone and best in class camera ,sound and face unlock is super fast just see and phone is unlock and fast in daily apps use',\n",
       " 'Well while switching from android to iOS the first thing you need to be careful about is that you will loose all your whatsapp chat backups as both are different operating systems. Camera clarity is awesome and though being an lcd screen clarity and resolution is good. Battery backup is also good unlike previous gen iPhone. So far the experience is good will Padre after a few months of usage.\\n\\nP.S the black is more of a dark grey shade and not jet black',\n",
       " 'In love with this iphone great performance,camera ,battery everything. Go for it have a uncompareble battery backup, no doubts in iPhone camera here You can see the picture which is shot on my iPhone In love with this iphone great performance,camera ,battery everything. Go for it have a uncompareble battery backup, no doubts in iPhone camera here You can see the picture which is shot on my iPhone In love with this iphone great performance,camera ,battery everything. Go for it have a uncompare...\\nREAD MORE',\n",
       " 'Best in class. Battery backup is good especially when you play games like Pubg COD. But it is sort of heavy when you hold in hands. Portrait mode is best to click pictures. Stage light effect is awesome. Try to click photos outside in nature because photos inside home or room will not give you the quality in any phone even in DSLR.',\n",
       " 'Very excited to have this phone. This phone has the real power unlike the android phones having SD 855 . The battery life is very good and the camera quality is excellent as comapred to redmi and other phones except google pixel. I M enjoying every single bit of it. Would recommed only if you have the budget.',\n",
       " \"I upgraded (downgraded?) from my iPhone X since the phone fell down and I didn't want to repair the screen. The box that the phone came in was super slim and I was worried that there'd be no 5W charger with it and my fears were confirmed. However, thankfully I had the 18W USB-C PD charger from Apple which I bought for my iPhone X and it worked perfectly. The charging time is as lethargic as ever though and it takes about 1:30 mins or even 2 hours depending on charge remaining. I'll list some ...\\nREAD MORE\",\n",
       " 'I was using Iphone 6s and also Oneplus 6t. Both mobiles were perfectly alright in Photos, gaming, and smooth interface . My 6s mobile getting battery issue. thought upgrade to 11. Really like this mobile of its Internal storage (compare to 6s) , camera and its touch feeling. Its a worth buying mobile for me.',\n",
       " 'Its Very awesome product working and good camera quality and all about best product and also flipkart is very great deal and offer nice price',\n",
       " 'I am using this phone for 5 days and its one of the best camera out there ❤️ the screen is not oled and i am coming from iphone xs so its little bit not up to the mark i would say\\nBut overall value for money💕😍the battery back up is far better than my iphone xs and its worth in my apple ecosystem💫❤️if u are an apple User and have the eco system then go for it❤️though i will be getting the new iphone but its pretty good💫',\n",
       " 'Best and amazing product.....phone looks so premium.... battary is also good as expected .... Wide angle camera is so addictive ...if you are a IOS lover....then this phone will be the best choice for you all!!💯🔥',\n",
       " 'Excellent camera and display touching very nice and smooth very improvement against iPhone XR and new processor is very fast',\n",
       " \"I got this beast today. And I must say the picture quality of its camera is awesome. Both the cameras works fine.\\n\\nAs for as the processing is concerned, it runs without any lag. You can play and do whatever you want without a glitch.\\n\\nThe battery runs for a day with medium and high workload.\\n\\nThe display is good and the speakers are working fine.\\n\\nThe earphones doesn't have any base and you can use it for calling mostly.\\n\\nThe charging time is approximately for 90 minutes for full charging...\\nREAD MORE\",\n",
       " 'Awesome purchase. Amazing phone with good battery backup. It’s a top notch device. White colour looks amazing. Phone has a few extra feature than iPhone XR. Overall, this is value for money',\n",
       " 'Always love the apple products, upgraded from old iPhone 6S plus to this after having my first baby. I just love to click baby’s photos with it. Overall I just love this phone. Battery back up is okay, sound quality is good. Haven’t tested yet waterproof yet. Only one thing I hate is apple could have given charger & headphones in box.',\n",
       " 'Value for money\\n5 star rating\\nExcellent camera\\nBattery backup full day in single charge.\\n\\nTougher and water resistant design, glossy back.\\nThe screen has excellent brightness and contrast.\\nApple A13 Bionic is the fastest smartphone chip on the planet.\\nExcellent battery life, fast charging support.\\nStereo speakers with great quality.',\n",
       " 'Please DONT buy from here,\\n\\nI purchased Apple iPhone 11. with an exchange of IPhone 7, the exchange did not go well, iPhone 7 had a small scratch out side screen which i could never identify till date, but the FLIPKART person could, so he reduced 50% from exchange rate. I decided not to trade in, but paid money.\\n\\niPhone 11 Detail Below\\n---------------------------------------------\\nIt came with no charging, then i have put for charging, it took lot of time for charging, the phone also showe...\\nREAD MORE',\n",
       " 'awesome phone to have. it has got many smart features apart from mind blowing looks, camera, display, battery and sound. have fallen in love with this phone. must buy phone if you have got enough money. thanks to flipkart and apple of course..',\n",
       " 'Its a fabulous mobile look awesome performance unbeaten camera like dslr battery good i think this is a beast of mobile',\n",
       " 'Dear friends... I want to share my experience with you about this amazing I phone 11....this is my first iPhone and special things about this mobile is it has great camera, battery backup and awesome display.... I mean everything is perfect.loved it 👍👍👍',\n",
       " \"Just got this iphone 11\\nAnd it is most powerful mobile phone I have used ever\\n\\nSo,go for it if you want a phone with best specification like camera,battery backup,display, A13 bionic chip\\n\\nThat's my review about this phone but yours can be differ from me....\",\n",
       " \"The best all rounder iphone. Flipkart is doing a great job. They're delivery services are blazing fast. I got delivery on the same day. Genuine Apple Product. Working great. Talking about review There's no need of review for iphones. They're simply the best.\",\n",
       " 'Amazing phone and on great deal I received with super fast delivery by Flipkart...',\n",
       " 'finally an iPhone with very nice battery backup. update from iPhone 7 and happy to have it. camera is not up to the mark in low light but overall a recommended phone if your budget allows 😀',\n",
       " \"I'm switching this phone to oppo reno 10x zoom\\nIt's really impressive\\nRarely I'm missing smooth display touch response like oppo reno but\\nI really loved it.\\nCamera really impressive\",\n",
       " 'Damn this phone is a blast . Upgraded from android to ios and is a duperb experience. Battery backup is top notch and display also pretty good',\n",
       " 'Worth the money’ starting first from its performance it beats out all phones , second the smoothness of camera is awesome, contrast ratio is much than expected. Price will not matter if u r a quality person, if not other phones are available with better discount',\n",
       " 'I dreamt about this day from a long time.... Getting an iPhone with my own money.... Super happy and worth spending every penny',\n",
       " \"I'm Really happy with the product\\nDelivery was fast as well\\n..it was a gift for my sister and she loved it so much.\",\n",
       " 'Great iphone.\\nI am writing this review after 2 months of usage.\\nCamera is excellent, especially the nightmode\\nDisplay perfect\\nBattery backup awesome\\nSound quality very good\\nOverall Apple gives you a perfect iphone in this range.\\nReally in love with iPhone 11',\n",
       " 'Did an upgrade from 6s plus to iphone 11.\\nAo far the experience is well and good. Felt smoother than 6s plus. The camera quality is superb. Battery backup is descent. Not a heavy user, and gets power more than a day. Go for it if you need an alrounder iphone in a competitve price.',\n",
       " 'Gifted my man on his 30th birthday 🎂 He loves it.. Him happy so i am more than happy 😍😘❤️🥰',\n",
       " 'I rate this product 5* as it has got amazing user experience with the best performing A13 bionic processor. The screen responds and graphics rendering is top notch. With casual gaming and internet browsing, the battery lasts for approx. 1 day. Camera is very good. You will fall in love with the portrait mode. You can call me a loyal Apple customer or whatever but I won’t stop praising the products and overall experience. That user experience matters and is worth every penny you pay.\\n\\nBelow ar...\\nREAD MORE',\n",
       " 'Super and marvellous phone look very cute and nice sound. I love this phone i think white is good colur.Excellent camer 5*😍😘♥️♥️',\n",
       " 'awesome Phone Smooth Touch Too good Sexyy looks one word Awesome',\n",
       " 'I bought iPhone 11 On March 2021, And I am Writing this review after using the phone for 4 Months. I would Say Everything is fine, Top Performance, Nice Camera as Anyone would Expect from any series of iPhone but when the Question comes to Battery it is complicated. The Battery is fully optimised and it comes 3110 mAh capacity but the problem is with the charger. Honestly Apple Removed charger from in Box items in the name of Environment and they are also forcing us to buy any 20W PD 3rd part...\\nREAD MORE',\n",
       " \"It was amazing experience for me. Honestly i am using iPhone first time so I don't have that much past experience about that. But after using 7 days this mobile i want to give some honest feedback.\\n1- Display 9 out of 10\\n2- Camera 9.5 out of 10\\n3- Battery 7 out of 10\\n4- Performance 9.5 out of 10\\n5- Features & Functions 10 out of 10\\n6- Outer looks and colour 10 out of 10\\nRest i think i will understand after using this for few months.\\nI will highly recommend you guys if you have budget then you...\\nREAD MORE\",\n",
       " \"Just go for it.\\nThis phone is really amazing. I ordered it for my wife and we click photos on this thing which are better than dslr. I own OnePlus 6t but it's camera sucks. iPhone is really amazing when it comes to camera. It's worth spending 50k on this. Cons- only display is lcd. While using u don't feel it but if u compare with other phone then u can see difference quite easily.\\nChanging from Android to iphone is bit difficult coz most of things u don't know but I liked it. Some of the a...\\nREAD MORE\",\n",
       " \"If you are looking for a premium phone under 55k, this is the one for you.Got the iPhone 11 during the Republic day sale. Performance is top notch in this price range. Camera's do a perfect job in taking good quality photos and videos. Battery backup too is satisfactory. Writing this review after using for a week. Any further observations would be updated.\",\n",
       " 'Absolutely powerful gadget. Loved it’s look! Soo glassy and classy. I would definitely recommend this model of Apple. Only disappointed with the 5W charger, one should purchase an 18W adapter for fast charging. Though battery backup is great. Bought it in September 2020, reviewing after so long so I’m gonna put the genuine review here.✅',\n",
       " 'Thanks Flipkart For this amazing deal! I had a dream of owning a iphone since i had known about.\\nIm very happy with my purchase & it is totally worth it.\\nAmazing experience all over !!\\n\\nAnyone who’s thinking of buying it in 2021, i would simply say go for it without any second thoughts ❤️',\n",
       " \"I've used this phone for over a month now and here are my takeaways.\\nI would like to first talk about the best things about this phone and then the cons of it.\\n\\nPros:\\nThis phone is a performance beast. It handles large games and applications effortlessly and you won't find any stutters or lags while playing graphic intensive games like pubg, cod , mortal kombat and asphalt.\\n\\nThis phone has only 4gb ram and yet the ram management is amazing, it can keep 3 heavy games in memory without reload...\\nREAD MORE\",\n",
       " 'Nice value for money good and best price I phone mind blowing camera processor very fast other android mobile I am happy India top selling phone 2020',\n",
       " 'Undoubtedly Iphone 11 is the most successful model till now and its performance is extraordinary and the security features are very impressive, display is more vibrant sound quality Camera Quality 5*****, but Iphone should add accessories too and act like scrooge.',\n",
       " 'I purchased the iPhone 11 a month back. I must say Apple has impressed me yet again . I have been an Apple user for past 5 years . The phone is power packed with amazing features . What impressed me the most was the battery backup the phone offers . Battery can easily run upto 1.5 days in single charge with moderate to\\nHeavy usage . If you’re looking for a value for money device , I don’t see any other phone in the price range which can match the iPhone 11 .\\nOne thing I didn’t like was that ...\\nREAD MORE',\n",
       " 'Excellent camera 📸 And Display touching very Nice And Smooth and very improvement against\\nI phone 11 and new processor is very fast',\n",
       " 'A perfect phone and a good battery super camera and the sound is dynamic overall the phone is perfect for upgrading from lower iPhone model to iPhone 11',\n",
       " 'This is my first ever iPhone.\\nAnd I truly don’t regret switching to IOS from my Android.\\n\\nIt is easily an alternative to a DSLR camera.\\nIf you’re obsessed with photos and videos, just don’t think twice or don’t compare to other androids(Samsung S10 lite or OnePlus 8/8T), as it’s far better from them in every field.\\nComparing will only make you confused.\\n\\nI am getting an average Screen on Time of around 10 hours with 30 percent left. I haven’t let my device discharged below 30 % as it aff...\\nREAD MORE',\n",
       " 'Everything is perfect pictures come out so clearly and at first I wasn’t sure when I got it then when I started to use it and get the hang of it it was amazing!! I can’t wait to see what the next future phones will be like. The screen display on this bad boy are unbelievable they are so clear and never fail me. The performance is super cool there is a lot of cool features as well I like this phone because I feel that it is easy to use and one of my favorite things about this phone is the Face...\\nREAD MORE',\n",
       " 'The ultimate performance\\nCamera is superb\\nThe battery backup also very good i never saw iphone gives this much of battery backup\\nIf any one wana buy iphone 11 definitely i will recommend this mobile\\nIt has the better battery and powerfull processer peak performance glorious camera and the display also 100% high quality lcd display if u had money for for 12 if u dont wana invest much money on that then go for iphone 11 it has maximum same specs only main difference between the 12 and 11 is...\\nREAD MORE',\n",
       " 'I use a Note10+ and have been using both iOS and Android devices.\\n\\nCamera has really good features and portraits are super good, better than Samsung flagship. Overall camera setup can still be enhanced and hopeful for better upgrades on software in next release\\n\\nOperating system is quite a breeze and user experience of daily usage is very high as compared to Android. I moved to iOS very swiftly in 2 days for all my office work from Note10+\\n\\nBattery holds up quite well with 4 hrs of call and ...\\nREAD MORE',\n",
       " 'The phone is completely good\\nAs far as camera Apple is king of it\\nAnd its a beast in performance\\nAnd the battery is pretty good too',\n",
       " 'Everything u ll like it when u use this iPhone. Simple changes only not many to lower models but it’s nice to use. Little heavy compared to previous models like 7,8',\n",
       " 'Can’t beat the software and hardware integration of apple.\\nPerforms like a beast. Great quality camera\\n6-7 hours screen on time which is good. Nothing much to complaint about the screen. Good connectivity speeds.\\nGreat buy and Flipkart’s delivery top notch as usual',\n",
       " 'What a camera .....just awesome ..you can feel this iPhone just awesome . Good for gaming also ...try pubg in hd it’s just wow',\n",
       " 'It’s a must buy who is looking for an upgrade from previous generation of iPhones. If you are using XR then still you can hold on for sometime and upgrade to 2020 model else this phone is a must buy . Camera quality is amazing and wide angle is something to count upon. Performance wise it’s amazing and feels premium while holding in hand. So a big YES for this device. Go for 128 GB variant as the 4K videos will occupy lots of space and the storage can get over very quickly. Try to buy it with...\\nREAD MORE',\n",
       " 'Value for money❤️❤️\\nIts awesome mobile phone in the world ...\\nDisplay was very good and bright ..\\nTrust me freinds you r never regret after Buying..\\nJust go for it....\\nI love this phone and i switch to iphone x to 11',\n",
       " 'Totally in love with this ❤ the camera quality is amazing just love it 😘😘😘 itsss dammnnnnnn amazing... Must buy iPhone 11 this is my best experience ever ☀👌👌🧡🧡🧡🧡🧡 thanku apple ❤',\n",
       " \"It's my first time to use iOS phone and I am loving my upgradation 😍😍 I love the color, I love the assebility of the phone....I need to learn more about its functionality, but as far as I have seen, it's quite easy and it has a lot of functions to work on, specially if you are a content writer or a blogger you get a lot of content creation platforms and they are really amazing.\\n\\nThis phone not only for good quality photography but a lot of other task too.😍💯\",\n",
       " 'Best budget Iphone till date ❤️ go for it guys without second thought. Let me explain you guys about Camera, Display, battery, and performance.\\n\\nCamera: at this price range there is no comparison of camera, you’ll love the picture quality as well as video quality. I am a Vlogger I wanted an iPhone with 4k video by front camera and I got this phone and I am more than happy 😃\\n\\nBattery: I use this phone roughly as I am active social media person and I have a youtube channel. so the battery ba...\\nREAD MORE',\n",
       " \"Iphone is just awesome.. battery backup is very very nice.. continuously for 10 hours we can use it.camera is just awesome.. display is just fab.i love it alot..i had to wait 15 days for it as i pre ordered it..overalll it's worth the price..these all images are clicked by my iPhone..and i love it.\",\n",
       " 'Excellent camera, good performance, no lag. The lcd display is also good.. but difference come when we watch movie in prime and Netflix, the colours are not vibrant.. as we see in amoled display.. and the charger in box is of 5 watts.. takes more than 3 hours to charge from 0 to 100.. so guys be prepare to buy 18 watts charger . Finally I am an android user, it was my first Iapple phone, I promise u guys the iOS is so smooth.. overall the phone is damn good.... close eyes to buy it.. thanks t...\\nREAD MORE',\n",
       " 'It’s been almost a month since I have been using this phone. I upgraded from an iPhone 8. The main issue with my 8 was battery and this phone is just awesome when it comes to battery. It lasts a day and a half for me with my regular use , internet connected always with 4g\\nCan’t move forward without saying this. Battery of this phone is a life saver when I am traveling or at work when I don’t get the option to charge\\nCamera is superb. Front cam selfies and back cam photos are just awesome.\\n...\\nREAD MORE',\n",
       " 'Really worth of money. i just love it. It is the best phone ever.']"
      ]
     },
     "execution_count": 154,
     "metadata": {},
     "output_type": "execute_result"
    }
   ],
   "source": [
    "for i in url7:\n",
    "    driver7.get(i)\n",
    "    summary=driver7.find_elements_by_xpath(\"//div[@class='t-ZTKy']\")\n",
    "    for i in summary:\n",
    "        Review.append(i.text)\n",
    "        \n",
    "Review\n",
    "    "
   ]
  },
  {
   "cell_type": "code",
   "execution_count": 155,
   "metadata": {},
   "outputs": [
    {
     "data": {
      "text/plain": [
       "108"
      ]
     },
     "execution_count": 155,
     "metadata": {},
     "output_type": "execute_result"
    }
   ],
   "source": [
    "len(Rating)"
   ]
  },
  {
   "cell_type": "code",
   "execution_count": 156,
   "metadata": {},
   "outputs": [
    {
     "data": {
      "text/plain": [
       "110"
      ]
     },
     "execution_count": 156,
     "metadata": {},
     "output_type": "execute_result"
    }
   ],
   "source": [
    "len(Review_Summary)"
   ]
  },
  {
   "cell_type": "code",
   "execution_count": 157,
   "metadata": {},
   "outputs": [
    {
     "data": {
      "text/plain": [
       "110"
      ]
     },
     "execution_count": 157,
     "metadata": {},
     "output_type": "execute_result"
    }
   ],
   "source": [
    "len(Review)"
   ]
  },
  {
   "cell_type": "code",
   "execution_count": 158,
   "metadata": {},
   "outputs": [
    {
     "data": {
      "text/html": [
       "<div>\n",
       "<style scoped>\n",
       "    .dataframe tbody tr th:only-of-type {\n",
       "        vertical-align: middle;\n",
       "    }\n",
       "\n",
       "    .dataframe tbody tr th {\n",
       "        vertical-align: top;\n",
       "    }\n",
       "\n",
       "    .dataframe thead th {\n",
       "        text-align: right;\n",
       "    }\n",
       "</style>\n",
       "<table border=\"1\" class=\"dataframe\">\n",
       "  <thead>\n",
       "    <tr style=\"text-align: right;\">\n",
       "      <th></th>\n",
       "      <th>Rating</th>\n",
       "      <th>Reivew Summary</th>\n",
       "      <th>Reivew</th>\n",
       "    </tr>\n",
       "  </thead>\n",
       "  <tbody>\n",
       "    <tr>\n",
       "      <th>0</th>\n",
       "      <td>5</td>\n",
       "      <td>Brilliant</td>\n",
       "      <td>The Best Phone for the Money\\n\\nThe iPhone 11 ...</td>\n",
       "    </tr>\n",
       "    <tr>\n",
       "      <th>1</th>\n",
       "      <td>5</td>\n",
       "      <td>Simply awesome</td>\n",
       "      <td>Really satisfied with the Product I received.....</td>\n",
       "    </tr>\n",
       "    <tr>\n",
       "      <th>2</th>\n",
       "      <td>5</td>\n",
       "      <td>Best in the market!</td>\n",
       "      <td>Great iPhone very snappy experience as apple k...</td>\n",
       "    </tr>\n",
       "    <tr>\n",
       "      <th>3</th>\n",
       "      <td>5</td>\n",
       "      <td>Perfect product!</td>\n",
       "      <td>Amazing phone with great cameras and better ba...</td>\n",
       "    </tr>\n",
       "    <tr>\n",
       "      <th>4</th>\n",
       "      <td>5</td>\n",
       "      <td>Fabulous!</td>\n",
       "      <td>This is my first iOS phone. I am very happy wi...</td>\n",
       "    </tr>\n",
       "    <tr>\n",
       "      <th>...</th>\n",
       "      <td>...</td>\n",
       "      <td>...</td>\n",
       "      <td>...</td>\n",
       "    </tr>\n",
       "    <tr>\n",
       "      <th>95</th>\n",
       "      <td>5</td>\n",
       "      <td>Just wow!</td>\n",
       "      <td>The ultimate performance\\nCamera is superb\\nTh...</td>\n",
       "    </tr>\n",
       "    <tr>\n",
       "      <th>96</th>\n",
       "      <td>3</td>\n",
       "      <td>Terrific purchase</td>\n",
       "      <td>I use a Note10+ and have been using both iOS a...</td>\n",
       "    </tr>\n",
       "    <tr>\n",
       "      <th>97</th>\n",
       "      <td>5</td>\n",
       "      <td>Awesome</td>\n",
       "      <td>The phone is completely good\\nAs far as camera...</td>\n",
       "    </tr>\n",
       "    <tr>\n",
       "      <th>98</th>\n",
       "      <td>5</td>\n",
       "      <td>Decent product</td>\n",
       "      <td>Everything u ll like it when u use this iPhone...</td>\n",
       "    </tr>\n",
       "    <tr>\n",
       "      <th>99</th>\n",
       "      <td>5</td>\n",
       "      <td>Awesome</td>\n",
       "      <td>Can’t beat the software and hardware integrati...</td>\n",
       "    </tr>\n",
       "  </tbody>\n",
       "</table>\n",
       "<p>100 rows × 3 columns</p>\n",
       "</div>"
      ],
      "text/plain": [
       "   Rating       Reivew Summary  \\\n",
       "0       5            Brilliant   \n",
       "1       5       Simply awesome   \n",
       "2       5  Best in the market!   \n",
       "3       5     Perfect product!   \n",
       "4       5            Fabulous!   \n",
       "..    ...                  ...   \n",
       "95      5            Just wow!   \n",
       "96      3    Terrific purchase   \n",
       "97      5              Awesome   \n",
       "98      5       Decent product   \n",
       "99      5              Awesome   \n",
       "\n",
       "                                               Reivew  \n",
       "0   The Best Phone for the Money\\n\\nThe iPhone 11 ...  \n",
       "1   Really satisfied with the Product I received.....  \n",
       "2   Great iPhone very snappy experience as apple k...  \n",
       "3   Amazing phone with great cameras and better ba...  \n",
       "4   This is my first iOS phone. I am very happy wi...  \n",
       "..                                                ...  \n",
       "95  The ultimate performance\\nCamera is superb\\nTh...  \n",
       "96  I use a Note10+ and have been using both iOS a...  \n",
       "97  The phone is completely good\\nAs far as camera...  \n",
       "98  Everything u ll like it when u use this iPhone...  \n",
       "99  Can’t beat the software and hardware integrati...  \n",
       "\n",
       "[100 rows x 3 columns]"
      ]
     },
     "execution_count": 158,
     "metadata": {},
     "output_type": "execute_result"
    }
   ],
   "source": [
    "df7=pd.DataFrame()\n",
    "\n",
    "df7['Rating']=Rating[0:100]\n",
    "df7['Reivew Summary']=Review_Summary[0:100]\n",
    "df7['Reivew']=Review[0:100]\n",
    "\n",
    "df7"
   ]
  },
  {
   "cell_type": "markdown",
   "metadata": {},
   "source": [
    "# Q8: Scrape data for first 100 sneakers you find when you visit flipkart.com and \n",
    "search for “sneakers” in the search field.\n",
    "You have to scrape 4 attributes of each sneaker :\n",
    "1. Brand\n",
    "2. Product Description\n",
    "3. Price\n",
    "4. discount %"
   ]
  },
  {
   "cell_type": "code",
   "execution_count": 318,
   "metadata": {},
   "outputs": [],
   "source": [
    "driver8=webdriver.Chrome('chromedriver.exe')"
   ]
  },
  {
   "cell_type": "code",
   "execution_count": 319,
   "metadata": {},
   "outputs": [],
   "source": [
    "url8='https://www.flipkart.com/'"
   ]
  },
  {
   "cell_type": "code",
   "execution_count": 320,
   "metadata": {},
   "outputs": [],
   "source": [
    "driver8.get(url8)"
   ]
  },
  {
   "cell_type": "code",
   "execution_count": 321,
   "metadata": {},
   "outputs": [],
   "source": [
    "search_tag8=driver8.find_element_by_xpath(\"//input[@class='_3704LK']\")"
   ]
  },
  {
   "cell_type": "code",
   "execution_count": 322,
   "metadata": {},
   "outputs": [],
   "source": [
    "search_tag8.send_keys('sneakers')"
   ]
  },
  {
   "cell_type": "code",
   "execution_count": 323,
   "metadata": {},
   "outputs": [],
   "source": [
    "search_btn_tag8=driver8.find_element_by_xpath(\"//button[@class='L0Z3Pu']\").click()"
   ]
  },
  {
   "cell_type": "code",
   "execution_count": 324,
   "metadata": {},
   "outputs": [],
   "source": [
    "brand_name_tags8=driver8.find_elements_by_xpath(\"//div[@class='_2WkVRV']\")"
   ]
  },
  {
   "cell_type": "code",
   "execution_count": 325,
   "metadata": {},
   "outputs": [],
   "source": [
    "Brand_Name8=[]"
   ]
  },
  {
   "cell_type": "code",
   "execution_count": 326,
   "metadata": {},
   "outputs": [
    {
     "data": {
      "text/plain": [
       "<selenium.webdriver.remote.webelement.WebElement (session=\"740d34637a60cb86876151c704a31793\", element=\"62ace2de-0891-4c6f-a4f2-67e22787f614\")>"
      ]
     },
     "execution_count": 326,
     "metadata": {},
     "output_type": "execute_result"
    }
   ],
   "source": [
    "for i in range(1,4):\n",
    "    brand_name_tags8=driver8.find_elements_by_xpath(\"//div[@class='_2WkVRV']\")\n",
    "    for i in brand_name_tags8:\n",
    "        Brand_Name8.append(i.text)\n",
    "    Brand_Name8\n",
    "next_button=driver8.find_element_by_xpath(\"//a[@class='_1LKTO3']//span\")\n",
    "next_button"
   ]
  },
  {
   "cell_type": "code",
   "execution_count": 327,
   "metadata": {},
   "outputs": [
    {
     "data": {
      "text/plain": [
       "120"
      ]
     },
     "execution_count": 327,
     "metadata": {},
     "output_type": "execute_result"
    }
   ],
   "source": [
    "len(Brand_Name8)"
   ]
  },
  {
   "cell_type": "code",
   "execution_count": 328,
   "metadata": {},
   "outputs": [
    {
     "data": {
      "text/plain": [
       "['luxury fashion',\n",
       " 'luxury fashion',\n",
       " 'Chevit',\n",
       " 'luxury fashion',\n",
       " 'Longwalk',\n",
       " 'BRUTON',\n",
       " 'ASTEROID',\n",
       " 'pollachief',\n",
       " 'Chevit',\n",
       " 'Creer',\n",
       " 'Numenzo',\n",
       " 'luxury fashion',\n",
       " 'BIRDE',\n",
       " 'PEHANOSA',\n",
       " 'Shoes Bank',\n",
       " 'India hub',\n",
       " 'SCATCHITE',\n",
       " 'VIPSJAZZY',\n",
       " 'Numenzo',\n",
       " 'Chevit',\n",
       " 'ASTEROID',\n",
       " 'Kreverse',\n",
       " 'World Wear Footwear',\n",
       " 'VIPSJAZZY',\n",
       " 'believe',\n",
       " 'Numenzo',\n",
       " 'Absolute comfort',\n",
       " 'AMICO',\n",
       " 'RODDICK SHOES',\n",
       " 'Magnolia',\n",
       " 'SPARX',\n",
       " 'Chevit',\n",
       " 'D-SNEAKERZ',\n",
       " 'Arohi',\n",
       " 'restinfoot',\n",
       " 'believe',\n",
       " 'India hub',\n",
       " 'Robbie jones',\n",
       " 'Jack Diamond',\n",
       " 'AMICO',\n",
       " 'luxury fashion',\n",
       " 'luxury fashion',\n",
       " 'Chevit',\n",
       " 'luxury fashion',\n",
       " 'Longwalk',\n",
       " 'BRUTON',\n",
       " 'ASTEROID',\n",
       " 'pollachief',\n",
       " 'Chevit',\n",
       " 'Creer',\n",
       " 'Numenzo',\n",
       " 'luxury fashion',\n",
       " 'BIRDE',\n",
       " 'PEHANOSA',\n",
       " 'Shoes Bank',\n",
       " 'India hub',\n",
       " 'SCATCHITE',\n",
       " 'VIPSJAZZY',\n",
       " 'Numenzo',\n",
       " 'Chevit',\n",
       " 'ASTEROID',\n",
       " 'Kreverse',\n",
       " 'World Wear Footwear',\n",
       " 'VIPSJAZZY',\n",
       " 'believe',\n",
       " 'Numenzo',\n",
       " 'Absolute comfort',\n",
       " 'AMICO',\n",
       " 'RODDICK SHOES',\n",
       " 'Magnolia',\n",
       " 'SPARX',\n",
       " 'Chevit',\n",
       " 'D-SNEAKERZ',\n",
       " 'Arohi',\n",
       " 'restinfoot',\n",
       " 'believe',\n",
       " 'India hub',\n",
       " 'Robbie jones',\n",
       " 'Jack Diamond',\n",
       " 'AMICO',\n",
       " 'luxury fashion',\n",
       " 'luxury fashion',\n",
       " 'Chevit',\n",
       " 'luxury fashion',\n",
       " 'Longwalk',\n",
       " 'BRUTON',\n",
       " 'ASTEROID',\n",
       " 'pollachief',\n",
       " 'Chevit',\n",
       " 'Creer',\n",
       " 'Numenzo',\n",
       " 'luxury fashion',\n",
       " 'BIRDE',\n",
       " 'PEHANOSA',\n",
       " 'Shoes Bank',\n",
       " 'India hub',\n",
       " 'SCATCHITE',\n",
       " 'VIPSJAZZY',\n",
       " 'Numenzo',\n",
       " 'Chevit',\n",
       " 'ASTEROID',\n",
       " 'Kreverse',\n",
       " 'World Wear Footwear',\n",
       " 'VIPSJAZZY',\n",
       " 'believe',\n",
       " 'Numenzo',\n",
       " 'Absolute comfort',\n",
       " 'AMICO',\n",
       " 'RODDICK SHOES',\n",
       " 'Magnolia',\n",
       " 'SPARX',\n",
       " 'Chevit',\n",
       " 'D-SNEAKERZ',\n",
       " 'Arohi',\n",
       " 'restinfoot',\n",
       " 'believe',\n",
       " 'India hub',\n",
       " 'Robbie jones',\n",
       " 'Jack Diamond',\n",
       " 'AMICO']"
      ]
     },
     "execution_count": 328,
     "metadata": {},
     "output_type": "execute_result"
    }
   ],
   "source": [
    "Brand_Name8"
   ]
  },
  {
   "cell_type": "code",
   "execution_count": 329,
   "metadata": {},
   "outputs": [],
   "source": [
    "Price8=[]"
   ]
  },
  {
   "cell_type": "code",
   "execution_count": 330,
   "metadata": {},
   "outputs": [
    {
     "data": {
      "text/plain": [
       "<selenium.webdriver.remote.webelement.WebElement (session=\"740d34637a60cb86876151c704a31793\", element=\"62ace2de-0891-4c6f-a4f2-67e22787f614\")>"
      ]
     },
     "execution_count": 330,
     "metadata": {},
     "output_type": "execute_result"
    }
   ],
   "source": [
    "for i in range(1,4):\n",
    "    price_tags8=driver8.find_elements_by_xpath(\"//div[@class='_30jeq3']\")\n",
    "    for i in price_tags8:\n",
    "        Price8.append(i.text)\n",
    "    Price8\n",
    "next_button=driver8.find_element_by_xpath(\"//a[@class='_1LKTO3']//span\")\n",
    "next_button"
   ]
  },
  {
   "cell_type": "code",
   "execution_count": 331,
   "metadata": {},
   "outputs": [
    {
     "data": {
      "text/plain": [
       "120"
      ]
     },
     "execution_count": 331,
     "metadata": {},
     "output_type": "execute_result"
    }
   ],
   "source": [
    "len(Price8)"
   ]
  },
  {
   "cell_type": "code",
   "execution_count": 332,
   "metadata": {},
   "outputs": [],
   "source": [
    "Dis8=[]"
   ]
  },
  {
   "cell_type": "code",
   "execution_count": 333,
   "metadata": {},
   "outputs": [
    {
     "data": {
      "text/plain": [
       "<selenium.webdriver.remote.webelement.WebElement (session=\"740d34637a60cb86876151c704a31793\", element=\"f3e09ecc-7ea2-4523-9d59-9e566535b477\")>"
      ]
     },
     "execution_count": 333,
     "metadata": {},
     "output_type": "execute_result"
    }
   ],
   "source": [
    "for i in range(1,4):\n",
    "    try:\n",
    "        discount_tags8=driver8.find_elements_by_xpath(\"//div[@class='_3Ay6Sb']\")\n",
    "        for i in discount_tags8:\n",
    "            Dis8.append(i.text)\n",
    "    except:\n",
    "        Dis8.append(\"-\")\n",
    "    Discount8\n",
    "next_button=driver8.find_element_by_xpath(\"//a[@class='_1LKTO3']\")\n",
    "next_button"
   ]
  },
  {
   "cell_type": "code",
   "execution_count": 334,
   "metadata": {},
   "outputs": [
    {
     "data": {
      "text/plain": [
       "120"
      ]
     },
     "execution_count": 334,
     "metadata": {},
     "output_type": "execute_result"
    }
   ],
   "source": [
    "len(Dis8)"
   ]
  },
  {
   "cell_type": "code",
   "execution_count": 335,
   "metadata": {},
   "outputs": [
    {
     "data": {
      "text/plain": [
       "['52% off',\n",
       " '53% off',\n",
       " '64% off',\n",
       " '70% off',\n",
       " '46% off',\n",
       " '86% off',\n",
       " '75% off',\n",
       " '57% off',\n",
       " '72% off',\n",
       " '60% off',\n",
       " '24% off',\n",
       " '76% off',\n",
       " '66% off',\n",
       " '63% off',\n",
       " '65% off',\n",
       " '82% off',\n",
       " '60% off',\n",
       " '60% off',\n",
       " '77% off',\n",
       " '68% off',\n",
       " '50% off',\n",
       " '51% off',\n",
       " '73% off',\n",
       " '69% off',\n",
       " '60% off',\n",
       " '60% off',\n",
       " '50% off',\n",
       " '50% off',\n",
       " '52% off',\n",
       " '7% off',\n",
       " '60% off',\n",
       " '81% off',\n",
       " '47% off',\n",
       " '53% off',\n",
       " '65% off',\n",
       " '81% off',\n",
       " '60% off',\n",
       " '50% off',\n",
       " '80% off',\n",
       " '44% off',\n",
       " '52% off',\n",
       " '53% off',\n",
       " '64% off',\n",
       " '70% off',\n",
       " '46% off',\n",
       " '86% off',\n",
       " '75% off',\n",
       " '57% off',\n",
       " '72% off',\n",
       " '60% off',\n",
       " '24% off',\n",
       " '76% off',\n",
       " '66% off',\n",
       " '63% off',\n",
       " '65% off',\n",
       " '82% off',\n",
       " '60% off',\n",
       " '60% off',\n",
       " '77% off',\n",
       " '68% off',\n",
       " '50% off',\n",
       " '51% off',\n",
       " '73% off',\n",
       " '69% off',\n",
       " '60% off',\n",
       " '60% off',\n",
       " '50% off',\n",
       " '50% off',\n",
       " '52% off',\n",
       " '7% off',\n",
       " '60% off',\n",
       " '81% off',\n",
       " '47% off',\n",
       " '53% off',\n",
       " '65% off',\n",
       " '81% off',\n",
       " '60% off',\n",
       " '50% off',\n",
       " '80% off',\n",
       " '44% off',\n",
       " '52% off',\n",
       " '53% off',\n",
       " '64% off',\n",
       " '70% off',\n",
       " '46% off',\n",
       " '86% off',\n",
       " '75% off',\n",
       " '57% off',\n",
       " '72% off',\n",
       " '60% off',\n",
       " '24% off',\n",
       " '76% off',\n",
       " '66% off',\n",
       " '63% off',\n",
       " '65% off',\n",
       " '82% off',\n",
       " '60% off',\n",
       " '60% off',\n",
       " '77% off',\n",
       " '68% off',\n",
       " '50% off',\n",
       " '51% off',\n",
       " '73% off',\n",
       " '69% off',\n",
       " '60% off',\n",
       " '60% off',\n",
       " '50% off',\n",
       " '50% off',\n",
       " '52% off',\n",
       " '7% off',\n",
       " '60% off',\n",
       " '81% off',\n",
       " '47% off',\n",
       " '53% off',\n",
       " '65% off',\n",
       " '81% off',\n",
       " '60% off',\n",
       " '50% off',\n",
       " '80% off',\n",
       " '44% off',\n",
       " '64% off',\n",
       " '70% off',\n",
       " '46% off',\n",
       " '86% off',\n",
       " '75% off',\n",
       " '72% off',\n",
       " '60% off',\n",
       " '66% off',\n",
       " '24% off',\n",
       " '63% off',\n",
       " '65% off',\n",
       " '77% off',\n",
       " '60% off',\n",
       " '60% off',\n",
       " '50% off',\n",
       " '73% off',\n",
       " '51% off',\n",
       " '60% off',\n",
       " '60% off',\n",
       " '68% off',\n",
       " '50% off',\n",
       " '52% off',\n",
       " '7% off',\n",
       " '60% off',\n",
       " '47% off',\n",
       " '53% off',\n",
       " '65% off',\n",
       " '60% off',\n",
       " '50% off',\n",
       " '80% off',\n",
       " '37% off',\n",
       " '62% off',\n",
       " '50% off',\n",
       " '56% off',\n",
       " '50% off',\n",
       " '69% off',\n",
       " '18% off',\n",
       " '52% off',\n",
       " '51% off',\n",
       " '56% off',\n",
       " '64% off',\n",
       " '70% off',\n",
       " '46% off',\n",
       " '86% off',\n",
       " '75% off',\n",
       " '72% off',\n",
       " '60% off',\n",
       " '66% off',\n",
       " '24% off',\n",
       " '63% off',\n",
       " '65% off',\n",
       " '77% off',\n",
       " '60% off',\n",
       " '60% off',\n",
       " '50% off',\n",
       " '73% off',\n",
       " '51% off',\n",
       " '60% off',\n",
       " '60% off',\n",
       " '68% off',\n",
       " '50% off',\n",
       " '52% off',\n",
       " '7% off',\n",
       " '60% off',\n",
       " '47% off',\n",
       " '53% off',\n",
       " '65% off',\n",
       " '60% off',\n",
       " '50% off',\n",
       " '80% off',\n",
       " '37% off',\n",
       " '62% off',\n",
       " '50% off',\n",
       " '56% off',\n",
       " '50% off',\n",
       " '69% off',\n",
       " '18% off',\n",
       " '52% off',\n",
       " '51% off',\n",
       " '56% off',\n",
       " '64% off',\n",
       " '70% off',\n",
       " '46% off',\n",
       " '86% off',\n",
       " '75% off',\n",
       " '72% off',\n",
       " '60% off',\n",
       " '66% off',\n",
       " '24% off',\n",
       " '63% off',\n",
       " '65% off',\n",
       " '77% off',\n",
       " '60% off',\n",
       " '60% off',\n",
       " '50% off',\n",
       " '73% off',\n",
       " '51% off',\n",
       " '60% off',\n",
       " '60% off',\n",
       " '68% off',\n",
       " '50% off',\n",
       " '52% off',\n",
       " '7% off',\n",
       " '60% off',\n",
       " '47% off',\n",
       " '53% off',\n",
       " '65% off',\n",
       " '60% off',\n",
       " '50% off',\n",
       " '80% off',\n",
       " '37% off',\n",
       " '62% off',\n",
       " '50% off',\n",
       " '56% off',\n",
       " '50% off',\n",
       " '69% off',\n",
       " '18% off',\n",
       " '52% off',\n",
       " '51% off',\n",
       " '56% off',\n",
       " '57% off',\n",
       " '76% off',\n",
       " '64% off',\n",
       " '70% off',\n",
       " '46% off',\n",
       " '86% off',\n",
       " '75% off',\n",
       " '82% off',\n",
       " '72% off',\n",
       " '60% off',\n",
       " '24% off',\n",
       " '55% off',\n",
       " '66% off',\n",
       " '63% off',\n",
       " '65% off',\n",
       " '68% off',\n",
       " '60% off',\n",
       " '60% off',\n",
       " '77% off',\n",
       " '51% off',\n",
       " '50% off',\n",
       " '51% off',\n",
       " '73% off',\n",
       " '50% off',\n",
       " '60% off',\n",
       " '60% off',\n",
       " '50% off',\n",
       " '69% off',\n",
       " '52% off',\n",
       " '7% off',\n",
       " '60% off',\n",
       " '50% off',\n",
       " '47% off',\n",
       " '53% off',\n",
       " '65% off',\n",
       " '81% off',\n",
       " '60% off',\n",
       " '50% off',\n",
       " '80% off',\n",
       " '81% off',\n",
       " '57% off',\n",
       " '76% off',\n",
       " '64% off',\n",
       " '70% off',\n",
       " '46% off',\n",
       " '86% off',\n",
       " '75% off',\n",
       " '82% off',\n",
       " '72% off',\n",
       " '60% off',\n",
       " '24% off',\n",
       " '55% off',\n",
       " '66% off',\n",
       " '63% off',\n",
       " '65% off',\n",
       " '68% off',\n",
       " '60% off',\n",
       " '60% off',\n",
       " '77% off',\n",
       " '51% off',\n",
       " '50% off',\n",
       " '51% off',\n",
       " '73% off',\n",
       " '50% off',\n",
       " '60% off',\n",
       " '60% off',\n",
       " '50% off',\n",
       " '69% off',\n",
       " '52% off',\n",
       " '7% off',\n",
       " '60% off',\n",
       " '50% off',\n",
       " '47% off',\n",
       " '53% off',\n",
       " '65% off',\n",
       " '81% off',\n",
       " '60% off',\n",
       " '50% off',\n",
       " '80% off',\n",
       " '81% off',\n",
       " '57% off',\n",
       " '76% off',\n",
       " '64% off',\n",
       " '70% off',\n",
       " '46% off',\n",
       " '86% off',\n",
       " '75% off',\n",
       " '82% off',\n",
       " '72% off',\n",
       " '60% off',\n",
       " '24% off',\n",
       " '55% off',\n",
       " '66% off',\n",
       " '63% off',\n",
       " '65% off',\n",
       " '68% off',\n",
       " '60% off',\n",
       " '60% off',\n",
       " '77% off',\n",
       " '51% off',\n",
       " '50% off',\n",
       " '51% off',\n",
       " '73% off',\n",
       " '50% off',\n",
       " '60% off',\n",
       " '60% off',\n",
       " '50% off',\n",
       " '69% off',\n",
       " '52% off',\n",
       " '7% off',\n",
       " '60% off',\n",
       " '50% off',\n",
       " '47% off',\n",
       " '53% off',\n",
       " '65% off',\n",
       " '81% off',\n",
       " '60% off',\n",
       " '50% off',\n",
       " '80% off',\n",
       " '81% off',\n",
       " '57% off',\n",
       " '76% off',\n",
       " '64% off',\n",
       " '70% off',\n",
       " '46% off',\n",
       " '86% off',\n",
       " '75% off',\n",
       " '82% off',\n",
       " '72% off',\n",
       " '60% off',\n",
       " '24% off',\n",
       " '55% off',\n",
       " '66% off',\n",
       " '63% off',\n",
       " '65% off',\n",
       " '68% off',\n",
       " '60% off',\n",
       " '60% off',\n",
       " '77% off',\n",
       " '51% off',\n",
       " '50% off',\n",
       " '51% off',\n",
       " '73% off',\n",
       " '50% off',\n",
       " '60% off',\n",
       " '60% off',\n",
       " '50% off',\n",
       " '69% off',\n",
       " '52% off',\n",
       " '7% off',\n",
       " '60% off',\n",
       " '50% off',\n",
       " '47% off',\n",
       " '53% off',\n",
       " '65% off',\n",
       " '81% off',\n",
       " '60% off',\n",
       " '50% off',\n",
       " '80% off',\n",
       " '81% off',\n",
       " '57% off',\n",
       " '76% off',\n",
       " '64% off',\n",
       " '70% off',\n",
       " '46% off',\n",
       " '86% off',\n",
       " '75% off',\n",
       " '82% off',\n",
       " '72% off',\n",
       " '60% off',\n",
       " '24% off',\n",
       " '55% off',\n",
       " '66% off',\n",
       " '63% off',\n",
       " '65% off',\n",
       " '68% off',\n",
       " '60% off',\n",
       " '60% off',\n",
       " '77% off',\n",
       " '51% off',\n",
       " '50% off',\n",
       " '51% off',\n",
       " '73% off',\n",
       " '50% off',\n",
       " '60% off',\n",
       " '60% off',\n",
       " '50% off',\n",
       " '69% off',\n",
       " '52% off',\n",
       " '7% off',\n",
       " '60% off',\n",
       " '50% off',\n",
       " '47% off',\n",
       " '53% off',\n",
       " '65% off',\n",
       " '81% off',\n",
       " '60% off',\n",
       " '50% off',\n",
       " '80% off',\n",
       " '81% off',\n",
       " '57% off',\n",
       " '76% off',\n",
       " '64% off',\n",
       " '70% off',\n",
       " '46% off',\n",
       " '86% off',\n",
       " '75% off',\n",
       " '82% off',\n",
       " '72% off',\n",
       " '60% off',\n",
       " '24% off',\n",
       " '55% off',\n",
       " '66% off',\n",
       " '63% off',\n",
       " '65% off',\n",
       " '68% off',\n",
       " '60% off',\n",
       " '60% off',\n",
       " '77% off',\n",
       " '51% off',\n",
       " '50% off',\n",
       " '51% off',\n",
       " '73% off',\n",
       " '50% off',\n",
       " '60% off',\n",
       " '60% off',\n",
       " '50% off',\n",
       " '69% off',\n",
       " '52% off',\n",
       " '7% off',\n",
       " '60% off',\n",
       " '50% off',\n",
       " '47% off',\n",
       " '53% off',\n",
       " '65% off',\n",
       " '81% off',\n",
       " '60% off',\n",
       " '50% off',\n",
       " '80% off',\n",
       " '81% off',\n",
       " '57% off',\n",
       " '76% off',\n",
       " '64% off',\n",
       " '70% off',\n",
       " '46% off',\n",
       " '86% off',\n",
       " '75% off',\n",
       " '57% off',\n",
       " '72% off',\n",
       " '60% off',\n",
       " '66% off',\n",
       " '33% off',\n",
       " '24% off',\n",
       " '63% off',\n",
       " '65% off',\n",
       " '82% off',\n",
       " '60% off',\n",
       " '60% off',\n",
       " '77% off',\n",
       " '68% off',\n",
       " '50% off',\n",
       " '51% off',\n",
       " '73% off',\n",
       " '80% off',\n",
       " '60% off',\n",
       " '60% off',\n",
       " '52% off',\n",
       " '51% off',\n",
       " '50% off',\n",
       " '7% off',\n",
       " '60% off',\n",
       " '50% off',\n",
       " '47% off',\n",
       " '53% off',\n",
       " '65% off',\n",
       " '69% off',\n",
       " '60% off',\n",
       " '50% off',\n",
       " '80% off',\n",
       " '81% off',\n",
       " '57% off',\n",
       " '76% off',\n",
       " '64% off',\n",
       " '70% off',\n",
       " '46% off',\n",
       " '86% off',\n",
       " '75% off',\n",
       " '57% off',\n",
       " '72% off',\n",
       " '60% off',\n",
       " '66% off',\n",
       " '33% off',\n",
       " '24% off',\n",
       " '63% off',\n",
       " '65% off',\n",
       " '82% off',\n",
       " '60% off',\n",
       " '60% off',\n",
       " '77% off',\n",
       " '68% off',\n",
       " '50% off',\n",
       " '51% off',\n",
       " '73% off',\n",
       " '80% off',\n",
       " '60% off',\n",
       " '60% off',\n",
       " '52% off',\n",
       " '51% off',\n",
       " '50% off',\n",
       " '7% off',\n",
       " '60% off',\n",
       " '50% off',\n",
       " '47% off',\n",
       " '53% off',\n",
       " '65% off',\n",
       " '69% off',\n",
       " '60% off',\n",
       " '50% off',\n",
       " '80% off',\n",
       " '81% off',\n",
       " '57% off',\n",
       " '76% off',\n",
       " '64% off',\n",
       " '70% off',\n",
       " '46% off',\n",
       " '86% off',\n",
       " '75% off',\n",
       " '57% off',\n",
       " '72% off',\n",
       " '60% off',\n",
       " '66% off',\n",
       " '33% off',\n",
       " '24% off',\n",
       " '63% off',\n",
       " '65% off',\n",
       " '82% off',\n",
       " '60% off',\n",
       " '60% off',\n",
       " '77% off',\n",
       " '68% off',\n",
       " '50% off',\n",
       " '51% off',\n",
       " '73% off',\n",
       " '80% off',\n",
       " '60% off',\n",
       " '60% off',\n",
       " '52% off',\n",
       " '51% off',\n",
       " '50% off',\n",
       " '7% off',\n",
       " '60% off',\n",
       " '50% off',\n",
       " '47% off',\n",
       " '53% off',\n",
       " '65% off',\n",
       " '69% off',\n",
       " '60% off',\n",
       " '50% off',\n",
       " '80% off',\n",
       " '81% off']"
      ]
     },
     "execution_count": 335,
     "metadata": {},
     "output_type": "execute_result"
    }
   ],
   "source": [
    "Discount8"
   ]
  },
  {
   "cell_type": "code",
   "execution_count": 336,
   "metadata": {},
   "outputs": [],
   "source": [
    "Decription8=[]"
   ]
  },
  {
   "cell_type": "code",
   "execution_count": 337,
   "metadata": {},
   "outputs": [
    {
     "data": {
      "text/plain": [
       "<selenium.webdriver.remote.webelement.WebElement (session=\"740d34637a60cb86876151c704a31793\", element=\"62ace2de-0891-4c6f-a4f2-67e22787f614\")>"
      ]
     },
     "execution_count": 337,
     "metadata": {},
     "output_type": "execute_result"
    }
   ],
   "source": [
    "for i in range(1,4):\n",
    "    try:\n",
    "        dec_tags8=driver8.find_elements_by_xpath(\"//a[@class='IRpwTa']\")\n",
    "        for i in dec_tags8:\n",
    "            Decription8.append(i.text)\n",
    "    except:\n",
    "        Decription.append(\"-\")\n",
    "    Decription8\n",
    "    \n",
    "next_button=driver8.find_element_by_xpath(\"//a[@class='_1LKTO3']//span\")\n",
    "next_button"
   ]
  },
  {
   "cell_type": "code",
   "execution_count": 338,
   "metadata": {},
   "outputs": [
    {
     "data": {
      "text/plain": [
       "102"
      ]
     },
     "execution_count": 338,
     "metadata": {},
     "output_type": "execute_result"
    }
   ],
   "source": [
    "len(Decription8)"
   ]
  },
  {
   "cell_type": "code",
   "execution_count": 341,
   "metadata": {},
   "outputs": [
    {
     "data": {
      "text/plain": [
       "['Sneakers For Men',\n",
       " 'luxury fashionable casual shoes Sneakers For Men',\n",
       " 'Super Stylish & Trendy Combo Pack of 02 Pairs Sneakers ...',\n",
       " 'Luxury Fashionable casual sneaker shoes Sneakers For Me...',\n",
       " 'Men Boxer Sneakers For Men',\n",
       " 'Combo Pack Of 4 Casual Shoes Loafer Shoes Sneakers For ...',\n",
       " \"Original Luxury Branded Fashionable Men's Casual Walkin...\",\n",
       " 'Casual Sneaker for Men Sneakers For Men',\n",
       " 'Perfect & Affordable Combo Pack of 02 Pairs Sneakers Ou...',\n",
       " 'Sneakers For Men',\n",
       " 'Luxury Fashionable casual sneaker shoes Sneakers For Me...',\n",
       " 'Birde Trendy Casual Shoes Sneakers For Men',\n",
       " 'Sneakers For Men',\n",
       " \"White Sneaker For Men's/Boy's Sneakers For Men\",\n",
       " 'Sneakers For Men',\n",
       " 'Sneakers Sneakers For Men',\n",
       " 'Sneakers For Men',\n",
       " 'Combo Pack of 4 Casual Sneakers With Sneakers For Men',\n",
       " \"Original Luxury Branded Fashionable Men's Casual Walkin...\",\n",
       " 'Sneakers For Men',\n",
       " '5011-Latest Collection Stylish Casual Loafer Sneakers S...',\n",
       " 'Sneakers for men(black_6) Sneakers For Men',\n",
       " 'Sneakers For Men',\n",
       " 'Sneakers For Men',\n",
       " 'Fashion Outdoor Canvas Casual Light Weight Lace-up Even...',\n",
       " 'Sneakers For Men',\n",
       " 'Unique & Perfect Collection Combo Pack of 02 Shoes for ...',\n",
       " \"Casual , Partywear Sneakers Shoes For Men's And Boys Wh...\",\n",
       " 'Sneakers For Men',\n",
       " \"Casual shoes,Sneakers for men's,shoes for men's Sneaker...\",\n",
       " 'Sneakers for men Sneakers For Men',\n",
       " 'Fashionable sneaker casual shoes Sneakers For Men',\n",
       " 'Casual Sneakers Shoes For Men Sneakers For Men',\n",
       " 'Sneakers For Men',\n",
       " 'Sneakers For Men',\n",
       " 'luxury fashionable casual shoes Sneakers For Men',\n",
       " 'Super Stylish & Trendy Combo Pack of 02 Pairs Sneakers ...',\n",
       " 'Luxury Fashionable casual sneaker shoes Sneakers For Me...',\n",
       " 'Men Boxer Sneakers For Men',\n",
       " 'Combo Pack Of 4 Casual Shoes Loafer Shoes Sneakers For ...',\n",
       " \"Original Luxury Branded Fashionable Men's Casual Walkin...\",\n",
       " 'Casual Sneaker for Men Sneakers For Men',\n",
       " 'Perfect & Affordable Combo Pack of 02 Pairs Sneakers Ou...',\n",
       " 'Sneakers For Men',\n",
       " 'Luxury Fashionable casual sneaker shoes Sneakers For Me...',\n",
       " 'Birde Trendy Casual Shoes Sneakers For Men',\n",
       " 'Sneakers For Men',\n",
       " \"White Sneaker For Men's/Boy's Sneakers For Men\",\n",
       " 'Sneakers For Men',\n",
       " 'Sneakers Sneakers For Men',\n",
       " 'Sneakers For Men',\n",
       " 'Combo Pack of 4 Casual Sneakers With Sneakers For Men',\n",
       " \"Original Luxury Branded Fashionable Men's Casual Walkin...\",\n",
       " 'Sneakers For Men',\n",
       " '5011-Latest Collection Stylish Casual Loafer Sneakers S...',\n",
       " 'Sneakers for men(black_6) Sneakers For Men',\n",
       " 'Sneakers For Men',\n",
       " 'Sneakers For Men',\n",
       " 'Fashion Outdoor Canvas Casual Light Weight Lace-up Even...',\n",
       " 'Sneakers For Men',\n",
       " 'Unique & Perfect Collection Combo Pack of 02 Shoes for ...',\n",
       " \"Casual , Partywear Sneakers Shoes For Men's And Boys Wh...\",\n",
       " 'Sneakers For Men',\n",
       " \"Casual shoes,Sneakers for men's,shoes for men's Sneaker...\",\n",
       " 'Sneakers for men Sneakers For Men',\n",
       " 'Fashionable sneaker casual shoes Sneakers For Men',\n",
       " 'Casual Sneakers Shoes For Men Sneakers For Men',\n",
       " 'Sneakers For Men',\n",
       " 'Sneakers For Men',\n",
       " 'luxury fashionable casual shoes Sneakers For Men',\n",
       " 'Super Stylish & Trendy Combo Pack of 02 Pairs Sneakers ...',\n",
       " 'Luxury Fashionable casual sneaker shoes Sneakers For Me...',\n",
       " 'Men Boxer Sneakers For Men',\n",
       " 'Combo Pack Of 4 Casual Shoes Loafer Shoes Sneakers For ...',\n",
       " \"Original Luxury Branded Fashionable Men's Casual Walkin...\",\n",
       " 'Casual Sneaker for Men Sneakers For Men',\n",
       " 'Perfect & Affordable Combo Pack of 02 Pairs Sneakers Ou...',\n",
       " 'Sneakers For Men',\n",
       " 'Luxury Fashionable casual sneaker shoes Sneakers For Me...',\n",
       " 'Birde Trendy Casual Shoes Sneakers For Men',\n",
       " 'Sneakers For Men',\n",
       " \"White Sneaker For Men's/Boy's Sneakers For Men\",\n",
       " 'Sneakers For Men',\n",
       " 'Sneakers Sneakers For Men',\n",
       " 'Sneakers For Men',\n",
       " 'Combo Pack of 4 Casual Sneakers With Sneakers For Men',\n",
       " \"Original Luxury Branded Fashionable Men's Casual Walkin...\",\n",
       " 'Sneakers For Men',\n",
       " '5011-Latest Collection Stylish Casual Loafer Sneakers S...',\n",
       " 'Sneakers for men(black_6) Sneakers For Men',\n",
       " 'Sneakers For Men',\n",
       " 'Sneakers For Men',\n",
       " 'Fashion Outdoor Canvas Casual Light Weight Lace-up Even...',\n",
       " 'Sneakers For Men',\n",
       " 'Unique & Perfect Collection Combo Pack of 02 Shoes for ...',\n",
       " \"Casual , Partywear Sneakers Shoes For Men's And Boys Wh...\",\n",
       " 'Sneakers For Men',\n",
       " \"Casual shoes,Sneakers for men's,shoes for men's Sneaker...\",\n",
       " 'Sneakers for men Sneakers For Men',\n",
       " 'Fashionable sneaker casual shoes Sneakers For Men',\n",
       " 'Casual Sneakers Shoes For Men Sneakers For Men',\n",
       " 'Sneakers For Men']"
      ]
     },
     "execution_count": 341,
     "metadata": {},
     "output_type": "execute_result"
    }
   ],
   "source": [
    "Decription8"
   ]
  },
  {
   "cell_type": "code",
   "execution_count": 339,
   "metadata": {},
   "outputs": [],
   "source": [
    "df8=pd.DataFrame()"
   ]
  },
  {
   "cell_type": "code",
   "execution_count": 340,
   "metadata": {},
   "outputs": [
    {
     "data": {
      "text/html": [
       "<div>\n",
       "<style scoped>\n",
       "    .dataframe tbody tr th:only-of-type {\n",
       "        vertical-align: middle;\n",
       "    }\n",
       "\n",
       "    .dataframe tbody tr th {\n",
       "        vertical-align: top;\n",
       "    }\n",
       "\n",
       "    .dataframe thead th {\n",
       "        text-align: right;\n",
       "    }\n",
       "</style>\n",
       "<table border=\"1\" class=\"dataframe\">\n",
       "  <thead>\n",
       "    <tr style=\"text-align: right;\">\n",
       "      <th></th>\n",
       "      <th>Brand Name</th>\n",
       "      <th>Product Description</th>\n",
       "      <th>Price</th>\n",
       "      <th>Discount</th>\n",
       "    </tr>\n",
       "  </thead>\n",
       "  <tbody>\n",
       "    <tr>\n",
       "      <th>0</th>\n",
       "      <td>luxury fashion</td>\n",
       "      <td>Sneakers For Men</td>\n",
       "      <td>₹379</td>\n",
       "      <td>52% off</td>\n",
       "    </tr>\n",
       "    <tr>\n",
       "      <th>1</th>\n",
       "      <td>luxury fashion</td>\n",
       "      <td>luxury fashionable casual shoes Sneakers For Men</td>\n",
       "      <td>₹399</td>\n",
       "      <td>53% off</td>\n",
       "    </tr>\n",
       "    <tr>\n",
       "      <th>2</th>\n",
       "      <td>Chevit</td>\n",
       "      <td>Super Stylish &amp; Trendy Combo Pack of 02 Pairs ...</td>\n",
       "      <td>₹567</td>\n",
       "      <td>64% off</td>\n",
       "    </tr>\n",
       "    <tr>\n",
       "      <th>3</th>\n",
       "      <td>luxury fashion</td>\n",
       "      <td>Luxury Fashionable casual sneaker shoes Sneake...</td>\n",
       "      <td>₹379</td>\n",
       "      <td>70% off</td>\n",
       "    </tr>\n",
       "    <tr>\n",
       "      <th>4</th>\n",
       "      <td>Longwalk</td>\n",
       "      <td>Men Boxer Sneakers For Men</td>\n",
       "      <td>₹266</td>\n",
       "      <td>46% off</td>\n",
       "    </tr>\n",
       "    <tr>\n",
       "      <th>...</th>\n",
       "      <td>...</td>\n",
       "      <td>...</td>\n",
       "      <td>...</td>\n",
       "      <td>...</td>\n",
       "    </tr>\n",
       "    <tr>\n",
       "      <th>95</th>\n",
       "      <td>India hub</td>\n",
       "      <td>Casual , Partywear Sneakers Shoes For Men's An...</td>\n",
       "      <td>₹399</td>\n",
       "      <td>82% off</td>\n",
       "    </tr>\n",
       "    <tr>\n",
       "      <th>96</th>\n",
       "      <td>SCATCHITE</td>\n",
       "      <td>Sneakers For Men</td>\n",
       "      <td>₹398</td>\n",
       "      <td>60% off</td>\n",
       "    </tr>\n",
       "    <tr>\n",
       "      <th>97</th>\n",
       "      <td>VIPSJAZZY</td>\n",
       "      <td>Casual shoes,Sneakers for men's,shoes for men'...</td>\n",
       "      <td>₹399</td>\n",
       "      <td>60% off</td>\n",
       "    </tr>\n",
       "    <tr>\n",
       "      <th>98</th>\n",
       "      <td>Numenzo</td>\n",
       "      <td>Sneakers for men Sneakers For Men</td>\n",
       "      <td>₹449</td>\n",
       "      <td>77% off</td>\n",
       "    </tr>\n",
       "    <tr>\n",
       "      <th>99</th>\n",
       "      <td>Chevit</td>\n",
       "      <td>Fashionable sneaker casual shoes Sneakers For Men</td>\n",
       "      <td>₹474</td>\n",
       "      <td>68% off</td>\n",
       "    </tr>\n",
       "  </tbody>\n",
       "</table>\n",
       "<p>100 rows × 4 columns</p>\n",
       "</div>"
      ],
      "text/plain": [
       "        Brand Name                                Product Description Price  \\\n",
       "0   luxury fashion                                   Sneakers For Men  ₹379   \n",
       "1   luxury fashion   luxury fashionable casual shoes Sneakers For Men  ₹399   \n",
       "2           Chevit  Super Stylish & Trendy Combo Pack of 02 Pairs ...  ₹567   \n",
       "3   luxury fashion  Luxury Fashionable casual sneaker shoes Sneake...  ₹379   \n",
       "4         Longwalk                         Men Boxer Sneakers For Men  ₹266   \n",
       "..             ...                                                ...   ...   \n",
       "95       India hub  Casual , Partywear Sneakers Shoes For Men's An...  ₹399   \n",
       "96       SCATCHITE                                   Sneakers For Men  ₹398   \n",
       "97       VIPSJAZZY  Casual shoes,Sneakers for men's,shoes for men'...  ₹399   \n",
       "98         Numenzo                  Sneakers for men Sneakers For Men  ₹449   \n",
       "99          Chevit  Fashionable sneaker casual shoes Sneakers For Men  ₹474   \n",
       "\n",
       "   Discount  \n",
       "0   52% off  \n",
       "1   53% off  \n",
       "2   64% off  \n",
       "3   70% off  \n",
       "4   46% off  \n",
       "..      ...  \n",
       "95  82% off  \n",
       "96  60% off  \n",
       "97  60% off  \n",
       "98  77% off  \n",
       "99  68% off  \n",
       "\n",
       "[100 rows x 4 columns]"
      ]
     },
     "execution_count": 340,
     "metadata": {},
     "output_type": "execute_result"
    }
   ],
   "source": [
    "df8['Brand Name']=Brand_Name8[0:100]\n",
    "df8['Product Description']=Decription8[0:100]\n",
    "df8['Price']=Price8[0:100]\n",
    "df8['Discount']=Discount8[0:100]\n",
    "\n",
    "df8"
   ]
  },
  {
   "cell_type": "markdown",
   "metadata": {},
   "source": [
    "# Q9 Go to the link - https://www.myntra.com/shoes"
   ]
  },
  {
   "cell_type": "markdown",
   "metadata": {},
   "source": [
    "Set Price filter to “Rs. 6935 to Rs. 13621” , Color filter to “Black”, as shown in the below image And then scrape First 100 shoes data you get. The data should include “Brand” of the shoes , Short Shoe description, price of the shoe as shown in the below image. Please note that applying the filter and scraping the data , everything should be done through code only and there should not be any manual step."
   ]
  },
  {
   "cell_type": "code",
   "execution_count": 350,
   "metadata": {},
   "outputs": [],
   "source": [
    "driver9=webdriver.Chrome('chromedriver.exe')"
   ]
  },
  {
   "cell_type": "code",
   "execution_count": 351,
   "metadata": {},
   "outputs": [],
   "source": [
    "url9='https://www.myntra.com/shoes'"
   ]
  },
  {
   "cell_type": "code",
   "execution_count": 352,
   "metadata": {},
   "outputs": [],
   "source": [
    "driver9.get(url9)"
   ]
  },
  {
   "cell_type": "code",
   "execution_count": 353,
   "metadata": {},
   "outputs": [],
   "source": [
    "filter_button = driver9.find_element_by_xpath(\"//li[@class='colour-listItem']\").click()"
   ]
  },
  {
   "cell_type": "code",
   "execution_count": 354,
   "metadata": {},
   "outputs": [],
   "source": [
    "filter_button =driver9.find_element_by_xpath(\"//ul[@class='price-list']//li[2]//label\").click()"
   ]
  },
  {
   "cell_type": "code",
   "execution_count": 355,
   "metadata": {},
   "outputs": [],
   "source": [
    "shoe_brand=[]\n",
    "short_shoe_description=[]\n",
    "price=[]"
   ]
  },
  {
   "cell_type": "code",
   "execution_count": 356,
   "metadata": {},
   "outputs": [
    {
     "data": {
      "text/plain": [
       "<selenium.webdriver.remote.webelement.WebElement (session=\"c01abfef8d3f4fd3b76e2872c7085226\", element=\"c7ec2577-9dbe-4d28-a31a-b7d63d65e00a\")>"
      ]
     },
     "execution_count": 356,
     "metadata": {},
     "output_type": "execute_result"
    }
   ],
   "source": [
    "for i in range(1,3):\n",
    "    brand = driver9.find_elements_by_xpath(\"//h3[@class='product-brand']\")\n",
    "    for i in brand:\n",
    "        shoe_brand.append(i.text)\n",
    "    shoe_brand  \n",
    "next_button=driver9.find_element_by_xpath(\"//li[@class='pagination-next']//a\") \n",
    "next_button"
   ]
  },
  {
   "cell_type": "code",
   "execution_count": 357,
   "metadata": {},
   "outputs": [
    {
     "data": {
      "text/plain": [
       "['ALDO',\n",
       " 'Puma',\n",
       " 'J.FONTINI',\n",
       " 'Puma',\n",
       " 'Puma',\n",
       " 'Puma',\n",
       " 'ASICS',\n",
       " 'Hush Puppies',\n",
       " 'Nike',\n",
       " 'Clarks',\n",
       " 'Puma',\n",
       " 'UNDER ARMOUR',\n",
       " 'Geox',\n",
       " 'Puma',\n",
       " 'UNDER ARMOUR',\n",
       " 'Hush Puppies',\n",
       " 'FORCLAZ By Decathlon',\n",
       " 'Puma',\n",
       " 'Geox',\n",
       " 'UNDER ARMOUR',\n",
       " 'Puma',\n",
       " 'Puma',\n",
       " 'Hush Puppies',\n",
       " 'UNDER ARMOUR',\n",
       " 'UNDER ARMOUR',\n",
       " 'Puma',\n",
       " 'PUMA Motorsport',\n",
       " 'Hush Puppies',\n",
       " 'UNDER ARMOUR',\n",
       " 'ASICS',\n",
       " 'Puma',\n",
       " 'Calvin Klein',\n",
       " 'UNDER ARMOUR',\n",
       " 'UNDER ARMOUR',\n",
       " 'Geox',\n",
       " 'ROSSO BRUNELLO',\n",
       " 'DAVINCHI',\n",
       " 'J.FONTINI',\n",
       " 'ROSSO BRUNELLO',\n",
       " 'Geox',\n",
       " 'Puma',\n",
       " 'RARE RABBIT',\n",
       " 'Heel & Buckle London',\n",
       " 'J.FONTINI',\n",
       " 'J.FONTINI',\n",
       " 'ASICS',\n",
       " 'ALDO',\n",
       " 'RARE RABBIT',\n",
       " 'Hush Puppies',\n",
       " 'DAVINCHI',\n",
       " 'ALDO',\n",
       " 'Puma',\n",
       " 'J.FONTINI',\n",
       " 'Puma',\n",
       " 'Puma',\n",
       " 'Puma',\n",
       " 'ASICS',\n",
       " 'Hush Puppies',\n",
       " 'Nike',\n",
       " 'Clarks',\n",
       " 'Puma',\n",
       " 'UNDER ARMOUR',\n",
       " 'Geox',\n",
       " 'Puma',\n",
       " 'UNDER ARMOUR',\n",
       " 'Hush Puppies',\n",
       " 'FORCLAZ By Decathlon',\n",
       " 'Puma',\n",
       " 'Geox',\n",
       " 'UNDER ARMOUR',\n",
       " 'Puma',\n",
       " 'Puma',\n",
       " 'Hush Puppies',\n",
       " 'UNDER ARMOUR',\n",
       " 'UNDER ARMOUR',\n",
       " 'Puma',\n",
       " 'PUMA Motorsport',\n",
       " 'Hush Puppies',\n",
       " 'UNDER ARMOUR',\n",
       " 'ASICS',\n",
       " 'Puma',\n",
       " 'Calvin Klein',\n",
       " 'UNDER ARMOUR',\n",
       " 'UNDER ARMOUR',\n",
       " 'Geox',\n",
       " 'ROSSO BRUNELLO',\n",
       " 'DAVINCHI',\n",
       " 'J.FONTINI',\n",
       " 'ROSSO BRUNELLO',\n",
       " 'Geox',\n",
       " 'Puma',\n",
       " 'RARE RABBIT',\n",
       " 'Heel & Buckle London',\n",
       " 'J.FONTINI',\n",
       " 'J.FONTINI',\n",
       " 'ASICS',\n",
       " 'ALDO',\n",
       " 'RARE RABBIT',\n",
       " 'Hush Puppies',\n",
       " 'DAVINCHI']"
      ]
     },
     "execution_count": 357,
     "metadata": {},
     "output_type": "execute_result"
    }
   ],
   "source": [
    "shoe_brand"
   ]
  },
  {
   "cell_type": "code",
   "execution_count": 358,
   "metadata": {},
   "outputs": [
    {
     "data": {
      "text/plain": [
       "<selenium.webdriver.remote.webelement.WebElement (session=\"c01abfef8d3f4fd3b76e2872c7085226\", element=\"c7ec2577-9dbe-4d28-a31a-b7d63d65e00a\")>"
      ]
     },
     "execution_count": 358,
     "metadata": {},
     "output_type": "execute_result"
    }
   ],
   "source": [
    "for i in range(1,3):\n",
    "    desc = driver9.find_elements_by_xpath(\"//h4[@class='product-product']\")\n",
    "    for i in desc:\n",
    "        short_shoe_description.append(i.text)\n",
    "    short_shoe_description  \n",
    "next_button=driver9.find_element_by_xpath(\"//li[@class='pagination-next']//a\") \n",
    "next_button"
   ]
  },
  {
   "cell_type": "code",
   "execution_count": 359,
   "metadata": {},
   "outputs": [
    {
     "data": {
      "text/plain": [
       "['Men Driving Shoes',\n",
       " 'Men Cell Fraction Fade Running',\n",
       " 'Men Black Leather Loafers',\n",
       " 'Men Velocity Nitro Running',\n",
       " 'Mesh Hybrid Fuego Running',\n",
       " 'Men BlackTraining or Gym Shoes',\n",
       " 'Men Tennis Shoes',\n",
       " 'Men Solid Leather Formal Slip-Ons',\n",
       " \"Men BlazerLow '77 Sneakers\",\n",
       " 'Men Solid Formal Leather Derbys',\n",
       " 'Men FUSE Training Shoes',\n",
       " 'Women HOVR Sonic 4 FnRn',\n",
       " 'Men Printed Slip-On Sneakers',\n",
       " 'Men Liberate Nitro Running',\n",
       " 'Men HOVR Infinite Running',\n",
       " 'Men Solid Leather Formal Slip-Ons',\n",
       " 'TREKKING 100 Boots',\n",
       " 'Men Black Shoes',\n",
       " 'Men Sneakers',\n",
       " 'Men HOVR Sonic STRT Tech Shoes',\n",
       " 'Women Deviate Nitro Running',\n",
       " 'Women Eternity Nitro Running',\n",
       " 'Men Leather Slip-On Sneakers',\n",
       " 'Women HOVR Sonic 4 Running',\n",
       " 'GS SC 3Zero IV Basketball',\n",
       " 'Women Velocity Nitro Running',\n",
       " 'Unisex FerrariRS-Fast Sneakers',\n",
       " 'Men Formal Derbys',\n",
       " 'Women Charged Assert 8 Running',\n",
       " 'Women GlideRide Running Shoes',\n",
       " 'Men Liberate NITRO Running',\n",
       " 'Men Loafers',\n",
       " 'Women Charged Bandit 6 Running',\n",
       " 'Women Charged Impulse Shft',\n",
       " 'Men Leather Flat Boots',\n",
       " 'Men Solid Leather Formal Monk Shoes',\n",
       " 'Men Textured Formal Leather Loafers',\n",
       " 'Men Solid Loafers',\n",
       " 'Men Solid Formal Monks Shoes',\n",
       " 'Men Solid Sneakers',\n",
       " 'Unisex Colourblocked Sneakers',\n",
       " 'Men Leather Flat Boots',\n",
       " 'Women Solid Leather Gladiators',\n",
       " 'Men Textured Leather Loafers',\n",
       " 'Men Textured Leather Loafers',\n",
       " 'Women GlideRide Running Shoes',\n",
       " 'Women Sneakers',\n",
       " 'Men Leather Formal Slip-Ons',\n",
       " 'Men Solid Leather Formal Derbys',\n",
       " 'Men Solid Leather Formal Derbys',\n",
       " 'Men Driving Shoes',\n",
       " 'Men Cell Fraction Fade Running',\n",
       " 'Men Black Leather Loafers',\n",
       " 'Men Velocity Nitro Running',\n",
       " 'Mesh Hybrid Fuego Running',\n",
       " 'Men BlackTraining or Gym Shoes',\n",
       " 'Men Tennis Shoes',\n",
       " 'Men Solid Leather Formal Slip-Ons',\n",
       " \"Men BlazerLow '77 Sneakers\",\n",
       " 'Men Solid Formal Leather Derbys',\n",
       " 'Men FUSE Training Shoes',\n",
       " 'Women HOVR Sonic 4 FnRn',\n",
       " 'Men Printed Slip-On Sneakers',\n",
       " 'Men Liberate Nitro Running',\n",
       " 'Men HOVR Infinite Running',\n",
       " 'Men Solid Leather Formal Slip-Ons',\n",
       " 'TREKKING 100 Boots',\n",
       " 'Men Black Shoes',\n",
       " 'Men Sneakers',\n",
       " 'Men HOVR Sonic STRT Tech Shoes',\n",
       " 'Women Deviate Nitro Running',\n",
       " 'Women Eternity Nitro Running',\n",
       " 'Men Leather Slip-On Sneakers',\n",
       " 'Women HOVR Sonic 4 Running',\n",
       " 'GS SC 3Zero IV Basketball',\n",
       " 'Women Velocity Nitro Running',\n",
       " 'Unisex FerrariRS-Fast Sneakers',\n",
       " 'Men Formal Derbys',\n",
       " 'Women Charged Assert 8 Running',\n",
       " 'Women GlideRide Running Shoes',\n",
       " 'Men Liberate NITRO Running',\n",
       " 'Men Loafers',\n",
       " 'Women Charged Bandit 6 Running',\n",
       " 'Women Charged Impulse Shft',\n",
       " 'Men Leather Flat Boots',\n",
       " 'Men Solid Leather Formal Monk Shoes',\n",
       " 'Men Textured Formal Leather Loafers',\n",
       " 'Men Solid Loafers',\n",
       " 'Men Solid Formal Monks Shoes',\n",
       " 'Men Solid Sneakers',\n",
       " 'Unisex Colourblocked Sneakers',\n",
       " 'Men Leather Flat Boots',\n",
       " 'Women Solid Leather Gladiators',\n",
       " 'Men Textured Leather Loafers',\n",
       " 'Men Textured Leather Loafers',\n",
       " 'Women GlideRide Running Shoes',\n",
       " 'Women Sneakers',\n",
       " 'Men Leather Formal Slip-Ons',\n",
       " 'Men Solid Leather Formal Derbys',\n",
       " 'Men Solid Leather Formal Derbys']"
      ]
     },
     "execution_count": 359,
     "metadata": {},
     "output_type": "execute_result"
    }
   ],
   "source": [
    "short_shoe_description"
   ]
  },
  {
   "cell_type": "code",
   "execution_count": 360,
   "metadata": {},
   "outputs": [
    {
     "data": {
      "text/plain": [
       "<selenium.webdriver.remote.webelement.WebElement (session=\"c01abfef8d3f4fd3b76e2872c7085226\", element=\"c7ec2577-9dbe-4d28-a31a-b7d63d65e00a\")>"
      ]
     },
     "execution_count": 360,
     "metadata": {},
     "output_type": "execute_result"
    }
   ],
   "source": [
    "for i in range(1,6):\n",
    "    price_tags = driver9.find_elements_by_xpath(\"//div[@class='product-price']\")\n",
    "    for i in price_tags:\n",
    "        price.append(i.text)\n",
    "    price  \n",
    "next_button=driver9.find_element_by_xpath(\"//li[@class='pagination-next']//a\") \n",
    "next_button"
   ]
  },
  {
   "cell_type": "code",
   "execution_count": 361,
   "metadata": {},
   "outputs": [
    {
     "data": {
      "text/plain": [
       "['Rs. 11999',\n",
       " 'Rs. 6999',\n",
       " 'Rs. 8490',\n",
       " 'Rs. 10999',\n",
       " 'Rs. 6999',\n",
       " 'Rs. 6999',\n",
       " 'Rs. 9999',\n",
       " 'Rs. 8099Rs. 8999(10% OFF)',\n",
       " 'Rs. 7195',\n",
       " 'Rs. 6999Rs. 9999(30% OFF)',\n",
       " 'Rs. 7999',\n",
       " 'Rs. 10999',\n",
       " 'Rs. 10999',\n",
       " 'Rs. 7499Rs. 9999(25% OFF)',\n",
       " 'Rs. 11999',\n",
       " 'Rs. 8999Rs. 9999(10% OFF)',\n",
       " 'Rs. 6999',\n",
       " 'Rs. 6999',\n",
       " 'Rs. 9999',\n",
       " 'Rs. 9999',\n",
       " 'Rs. 7499Rs. 14999(50% OFF)',\n",
       " 'Rs. 7799Rs. 12999(40% OFF)',\n",
       " 'Rs. 6999Rs. 9999(30% OFF)',\n",
       " 'Rs. 10999',\n",
       " 'Rs. 7499',\n",
       " 'Rs. 7149Rs. 10999(35% OFF)',\n",
       " 'Rs. 9999',\n",
       " 'Rs. 8999Rs. 9999(10% OFF)',\n",
       " 'Rs. 6999',\n",
       " 'Rs. 11199Rs. 13999(20% OFF)',\n",
       " 'Rs. 9999',\n",
       " 'Rs. 7199Rs. 8999(20% OFF)',\n",
       " 'Rs. 8999',\n",
       " 'Rs. 7499',\n",
       " 'Rs. 11999',\n",
       " 'Rs. 12999',\n",
       " 'Rs. 8990',\n",
       " 'Rs. 8990',\n",
       " 'Rs. 12999',\n",
       " 'Rs. 9999',\n",
       " 'Rs. 6999',\n",
       " 'Rs. 10999',\n",
       " 'Rs. 6993Rs. 9990(30% OFF)',\n",
       " 'Rs. 7990',\n",
       " 'Rs. 7990',\n",
       " 'Rs. 11199Rs. 13999(20% OFF)',\n",
       " 'Rs. 11999',\n",
       " 'Rs. 9999',\n",
       " 'Rs. 8999Rs. 9999(10% OFF)',\n",
       " 'Rs. 8990',\n",
       " 'Rs. 11999',\n",
       " 'Rs. 6999',\n",
       " 'Rs. 8490',\n",
       " 'Rs. 10999',\n",
       " 'Rs. 6999',\n",
       " 'Rs. 6999',\n",
       " 'Rs. 9999',\n",
       " 'Rs. 8099Rs. 8999(10% OFF)',\n",
       " 'Rs. 7195',\n",
       " 'Rs. 6999Rs. 9999(30% OFF)',\n",
       " 'Rs. 7999',\n",
       " 'Rs. 10999',\n",
       " 'Rs. 10999',\n",
       " 'Rs. 7499Rs. 9999(25% OFF)',\n",
       " 'Rs. 11999',\n",
       " 'Rs. 8999Rs. 9999(10% OFF)',\n",
       " 'Rs. 6999',\n",
       " 'Rs. 6999',\n",
       " 'Rs. 9999',\n",
       " 'Rs. 9999',\n",
       " 'Rs. 7499Rs. 14999(50% OFF)',\n",
       " 'Rs. 7799Rs. 12999(40% OFF)',\n",
       " 'Rs. 6999Rs. 9999(30% OFF)',\n",
       " 'Rs. 10999',\n",
       " 'Rs. 7499',\n",
       " 'Rs. 7149Rs. 10999(35% OFF)',\n",
       " 'Rs. 9999',\n",
       " 'Rs. 8999Rs. 9999(10% OFF)',\n",
       " 'Rs. 6999',\n",
       " 'Rs. 11199Rs. 13999(20% OFF)',\n",
       " 'Rs. 9999',\n",
       " 'Rs. 7199Rs. 8999(20% OFF)',\n",
       " 'Rs. 8999',\n",
       " 'Rs. 7499',\n",
       " 'Rs. 11999',\n",
       " 'Rs. 12999',\n",
       " 'Rs. 8990',\n",
       " 'Rs. 8990',\n",
       " 'Rs. 12999',\n",
       " 'Rs. 9999',\n",
       " 'Rs. 6999',\n",
       " 'Rs. 10999',\n",
       " 'Rs. 6993Rs. 9990(30% OFF)',\n",
       " 'Rs. 7990',\n",
       " 'Rs. 7990',\n",
       " 'Rs. 11199Rs. 13999(20% OFF)',\n",
       " 'Rs. 11999',\n",
       " 'Rs. 9999',\n",
       " 'Rs. 8999Rs. 9999(10% OFF)',\n",
       " 'Rs. 8990',\n",
       " 'Rs. 11999',\n",
       " 'Rs. 6999',\n",
       " 'Rs. 8490',\n",
       " 'Rs. 10999',\n",
       " 'Rs. 6999',\n",
       " 'Rs. 6999',\n",
       " 'Rs. 9999',\n",
       " 'Rs. 8099Rs. 8999(10% OFF)',\n",
       " 'Rs. 7195',\n",
       " 'Rs. 6999Rs. 9999(30% OFF)',\n",
       " 'Rs. 7999',\n",
       " 'Rs. 10999',\n",
       " 'Rs. 10999',\n",
       " 'Rs. 7499Rs. 9999(25% OFF)',\n",
       " 'Rs. 11999',\n",
       " 'Rs. 8999Rs. 9999(10% OFF)',\n",
       " 'Rs. 6999',\n",
       " 'Rs. 6999',\n",
       " 'Rs. 9999',\n",
       " 'Rs. 9999',\n",
       " 'Rs. 7499Rs. 14999(50% OFF)',\n",
       " 'Rs. 7799Rs. 12999(40% OFF)',\n",
       " 'Rs. 6999Rs. 9999(30% OFF)',\n",
       " 'Rs. 10999',\n",
       " 'Rs. 7499',\n",
       " 'Rs. 7149Rs. 10999(35% OFF)',\n",
       " 'Rs. 9999',\n",
       " 'Rs. 8999Rs. 9999(10% OFF)',\n",
       " 'Rs. 6999',\n",
       " 'Rs. 11199Rs. 13999(20% OFF)',\n",
       " 'Rs. 9999',\n",
       " 'Rs. 7199Rs. 8999(20% OFF)',\n",
       " 'Rs. 8999',\n",
       " 'Rs. 7499',\n",
       " 'Rs. 11999',\n",
       " 'Rs. 12999',\n",
       " 'Rs. 8990',\n",
       " 'Rs. 8990',\n",
       " 'Rs. 12999',\n",
       " 'Rs. 9999',\n",
       " 'Rs. 6999',\n",
       " 'Rs. 10999',\n",
       " 'Rs. 6993Rs. 9990(30% OFF)',\n",
       " 'Rs. 7990',\n",
       " 'Rs. 7990',\n",
       " 'Rs. 11199Rs. 13999(20% OFF)',\n",
       " 'Rs. 11999',\n",
       " 'Rs. 9999',\n",
       " 'Rs. 8999Rs. 9999(10% OFF)',\n",
       " 'Rs. 8990',\n",
       " 'Rs. 11999',\n",
       " 'Rs. 6999',\n",
       " 'Rs. 8490',\n",
       " 'Rs. 10999',\n",
       " 'Rs. 6999',\n",
       " 'Rs. 6999',\n",
       " 'Rs. 9999',\n",
       " 'Rs. 8099Rs. 8999(10% OFF)',\n",
       " 'Rs. 7195',\n",
       " 'Rs. 6999Rs. 9999(30% OFF)',\n",
       " 'Rs. 7999',\n",
       " 'Rs. 10999',\n",
       " 'Rs. 10999',\n",
       " 'Rs. 7499Rs. 9999(25% OFF)',\n",
       " 'Rs. 11999',\n",
       " 'Rs. 8999Rs. 9999(10% OFF)',\n",
       " 'Rs. 6999',\n",
       " 'Rs. 6999',\n",
       " 'Rs. 9999',\n",
       " 'Rs. 9999',\n",
       " 'Rs. 7499Rs. 14999(50% OFF)',\n",
       " 'Rs. 7799Rs. 12999(40% OFF)',\n",
       " 'Rs. 6999Rs. 9999(30% OFF)',\n",
       " 'Rs. 10999',\n",
       " 'Rs. 7499',\n",
       " 'Rs. 7149Rs. 10999(35% OFF)',\n",
       " 'Rs. 9999',\n",
       " 'Rs. 8999Rs. 9999(10% OFF)',\n",
       " 'Rs. 6999',\n",
       " 'Rs. 11199Rs. 13999(20% OFF)',\n",
       " 'Rs. 9999',\n",
       " 'Rs. 7199Rs. 8999(20% OFF)',\n",
       " 'Rs. 8999',\n",
       " 'Rs. 7499',\n",
       " 'Rs. 11999',\n",
       " 'Rs. 12999',\n",
       " 'Rs. 8990',\n",
       " 'Rs. 8990',\n",
       " 'Rs. 12999',\n",
       " 'Rs. 9999',\n",
       " 'Rs. 6999',\n",
       " 'Rs. 10999',\n",
       " 'Rs. 6993Rs. 9990(30% OFF)',\n",
       " 'Rs. 7990',\n",
       " 'Rs. 7990',\n",
       " 'Rs. 11199Rs. 13999(20% OFF)',\n",
       " 'Rs. 11999',\n",
       " 'Rs. 9999',\n",
       " 'Rs. 8999Rs. 9999(10% OFF)',\n",
       " 'Rs. 8990',\n",
       " 'Rs. 11999',\n",
       " 'Rs. 6999',\n",
       " 'Rs. 8490',\n",
       " 'Rs. 10999',\n",
       " 'Rs. 6999',\n",
       " 'Rs. 6999',\n",
       " 'Rs. 9999',\n",
       " 'Rs. 8099Rs. 8999(10% OFF)',\n",
       " 'Rs. 7195',\n",
       " 'Rs. 6999Rs. 9999(30% OFF)',\n",
       " 'Rs. 7999',\n",
       " 'Rs. 10999',\n",
       " 'Rs. 10999',\n",
       " 'Rs. 7499Rs. 9999(25% OFF)',\n",
       " 'Rs. 11999',\n",
       " 'Rs. 8999Rs. 9999(10% OFF)',\n",
       " 'Rs. 6999',\n",
       " 'Rs. 6999',\n",
       " 'Rs. 9999',\n",
       " 'Rs. 9999',\n",
       " 'Rs. 7499Rs. 14999(50% OFF)',\n",
       " 'Rs. 7799Rs. 12999(40% OFF)',\n",
       " 'Rs. 6999Rs. 9999(30% OFF)',\n",
       " 'Rs. 10999',\n",
       " 'Rs. 7499',\n",
       " 'Rs. 7149Rs. 10999(35% OFF)',\n",
       " 'Rs. 9999',\n",
       " 'Rs. 8999Rs. 9999(10% OFF)',\n",
       " 'Rs. 6999',\n",
       " 'Rs. 11199Rs. 13999(20% OFF)',\n",
       " 'Rs. 9999',\n",
       " 'Rs. 7199Rs. 8999(20% OFF)',\n",
       " 'Rs. 8999',\n",
       " 'Rs. 7499',\n",
       " 'Rs. 11999',\n",
       " 'Rs. 12999',\n",
       " 'Rs. 8990',\n",
       " 'Rs. 8990',\n",
       " 'Rs. 12999',\n",
       " 'Rs. 9999',\n",
       " 'Rs. 6999',\n",
       " 'Rs. 10999',\n",
       " 'Rs. 6993Rs. 9990(30% OFF)',\n",
       " 'Rs. 7990',\n",
       " 'Rs. 7990',\n",
       " 'Rs. 11199Rs. 13999(20% OFF)',\n",
       " 'Rs. 11999',\n",
       " 'Rs. 9999',\n",
       " 'Rs. 8999Rs. 9999(10% OFF)',\n",
       " 'Rs. 8990']"
      ]
     },
     "execution_count": 361,
     "metadata": {},
     "output_type": "execute_result"
    }
   ],
   "source": [
    "price"
   ]
  },
  {
   "cell_type": "code",
   "execution_count": 348,
   "metadata": {},
   "outputs": [],
   "source": [
    "df9=pd.DataFrame()"
   ]
  },
  {
   "cell_type": "code",
   "execution_count": 363,
   "metadata": {},
   "outputs": [
    {
     "data": {
      "text/html": [
       "<div>\n",
       "<style scoped>\n",
       "    .dataframe tbody tr th:only-of-type {\n",
       "        vertical-align: middle;\n",
       "    }\n",
       "\n",
       "    .dataframe tbody tr th {\n",
       "        vertical-align: top;\n",
       "    }\n",
       "\n",
       "    .dataframe thead th {\n",
       "        text-align: right;\n",
       "    }\n",
       "</style>\n",
       "<table border=\"1\" class=\"dataframe\">\n",
       "  <thead>\n",
       "    <tr style=\"text-align: right;\">\n",
       "      <th></th>\n",
       "      <th>Brand Name</th>\n",
       "      <th>Short Description</th>\n",
       "      <th>Price</th>\n",
       "    </tr>\n",
       "  </thead>\n",
       "  <tbody>\n",
       "    <tr>\n",
       "      <th>0</th>\n",
       "      <td>ALDO</td>\n",
       "      <td>Men Driving Shoes</td>\n",
       "      <td>Rs. 11999</td>\n",
       "    </tr>\n",
       "    <tr>\n",
       "      <th>1</th>\n",
       "      <td>Puma</td>\n",
       "      <td>Men Cell Fraction Fade Running</td>\n",
       "      <td>Rs. 6999</td>\n",
       "    </tr>\n",
       "    <tr>\n",
       "      <th>2</th>\n",
       "      <td>J.FONTINI</td>\n",
       "      <td>Men Black Leather Loafers</td>\n",
       "      <td>Rs. 8490</td>\n",
       "    </tr>\n",
       "    <tr>\n",
       "      <th>3</th>\n",
       "      <td>Puma</td>\n",
       "      <td>Men Velocity Nitro Running</td>\n",
       "      <td>Rs. 10999</td>\n",
       "    </tr>\n",
       "    <tr>\n",
       "      <th>4</th>\n",
       "      <td>Puma</td>\n",
       "      <td>Mesh Hybrid Fuego Running</td>\n",
       "      <td>Rs. 6999</td>\n",
       "    </tr>\n",
       "    <tr>\n",
       "      <th>...</th>\n",
       "      <td>...</td>\n",
       "      <td>...</td>\n",
       "      <td>...</td>\n",
       "    </tr>\n",
       "    <tr>\n",
       "      <th>95</th>\n",
       "      <td>ASICS</td>\n",
       "      <td>Women GlideRide Running Shoes</td>\n",
       "      <td>Rs. 11199Rs. 13999(20% OFF)</td>\n",
       "    </tr>\n",
       "    <tr>\n",
       "      <th>96</th>\n",
       "      <td>ALDO</td>\n",
       "      <td>Women Sneakers</td>\n",
       "      <td>Rs. 11999</td>\n",
       "    </tr>\n",
       "    <tr>\n",
       "      <th>97</th>\n",
       "      <td>RARE RABBIT</td>\n",
       "      <td>Men Leather Formal Slip-Ons</td>\n",
       "      <td>Rs. 9999</td>\n",
       "    </tr>\n",
       "    <tr>\n",
       "      <th>98</th>\n",
       "      <td>Hush Puppies</td>\n",
       "      <td>Men Solid Leather Formal Derbys</td>\n",
       "      <td>Rs. 8999Rs. 9999(10% OFF)</td>\n",
       "    </tr>\n",
       "    <tr>\n",
       "      <th>99</th>\n",
       "      <td>DAVINCHI</td>\n",
       "      <td>Men Solid Leather Formal Derbys</td>\n",
       "      <td>Rs. 8990</td>\n",
       "    </tr>\n",
       "  </tbody>\n",
       "</table>\n",
       "<p>100 rows × 3 columns</p>\n",
       "</div>"
      ],
      "text/plain": [
       "      Brand Name                Short Description                        Price\n",
       "0           ALDO                Men Driving Shoes                    Rs. 11999\n",
       "1           Puma   Men Cell Fraction Fade Running                     Rs. 6999\n",
       "2      J.FONTINI        Men Black Leather Loafers                     Rs. 8490\n",
       "3           Puma       Men Velocity Nitro Running                    Rs. 10999\n",
       "4           Puma        Mesh Hybrid Fuego Running                     Rs. 6999\n",
       "..           ...                              ...                          ...\n",
       "95         ASICS    Women GlideRide Running Shoes  Rs. 11199Rs. 13999(20% OFF)\n",
       "96          ALDO                   Women Sneakers                    Rs. 11999\n",
       "97   RARE RABBIT      Men Leather Formal Slip-Ons                     Rs. 9999\n",
       "98  Hush Puppies  Men Solid Leather Formal Derbys    Rs. 8999Rs. 9999(10% OFF)\n",
       "99      DAVINCHI  Men Solid Leather Formal Derbys                     Rs. 8990\n",
       "\n",
       "[100 rows x 3 columns]"
      ]
     },
     "execution_count": 363,
     "metadata": {},
     "output_type": "execute_result"
    }
   ],
   "source": [
    "df9['Brand Name']=shoe_brand\n",
    "df9['Short Description']=short_shoe_description\n",
    "df9['Price']=price[0:100]\n",
    "\n",
    "df9[0:100]"
   ]
  },
  {
   "cell_type": "code",
   "execution_count": null,
   "metadata": {},
   "outputs": [],
   "source": []
  },
  {
   "cell_type": "code",
   "execution_count": null,
   "metadata": {},
   "outputs": [],
   "source": []
  },
  {
   "cell_type": "markdown",
   "metadata": {},
   "source": [
    "# Q10 Go to webpage https://www.amazon.in/¶"
   ]
  },
  {
   "cell_type": "markdown",
   "metadata": {},
   "source": [
    "Enter “Laptop” in the search field and then click the search icon. Then set CPU Type filter to “Intel Core i7” and “Intel Core i9” as shown in the below image: After setting the filters scrape first 10 laptops data. You have to scrape 3 attributes for each laptop:"
   ]
  },
  {
   "cell_type": "markdown",
   "metadata": {},
   "source": [
    "1.title"
   ]
  },
  {
   "cell_type": "markdown",
   "metadata": {},
   "source": [
    "2.Ratings"
   ]
  },
  {
   "cell_type": "markdown",
   "metadata": {},
   "source": [
    "3.Price As shown in the below image as the tick marked attributes"
   ]
  },
  {
   "cell_type": "code",
   "execution_count": 86,
   "metadata": {},
   "outputs": [],
   "source": [
    "driver10=webdriver.Chrome('chromedriver.exe')"
   ]
  },
  {
   "cell_type": "code",
   "execution_count": 87,
   "metadata": {},
   "outputs": [],
   "source": [
    "url10='https://www.amazon.in/'"
   ]
  },
  {
   "cell_type": "code",
   "execution_count": 88,
   "metadata": {},
   "outputs": [],
   "source": [
    "driver10.get(url10)"
   ]
  },
  {
   "cell_type": "code",
   "execution_count": 89,
   "metadata": {},
   "outputs": [],
   "source": [
    "search_tag10=driver10.find_element_by_xpath(\"//input[@id='twotabsearchtextbox']\")"
   ]
  },
  {
   "cell_type": "code",
   "execution_count": 90,
   "metadata": {},
   "outputs": [],
   "source": [
    "search_tag10.send_keys('Laptop')"
   ]
  },
  {
   "cell_type": "code",
   "execution_count": 91,
   "metadata": {},
   "outputs": [],
   "source": [
    "search_btn=driver10.find_element_by_id('nav-search-submit-button').click()"
   ]
  },
  {
   "cell_type": "code",
   "execution_count": 92,
   "metadata": {},
   "outputs": [],
   "source": [
    "filter_tag1=driver10.find_element_by_xpath(\"//li[@id='p_n_feature_thirteen_browse-bin/16757432031']//span\").click()"
   ]
  },
  {
   "cell_type": "code",
   "execution_count": 93,
   "metadata": {},
   "outputs": [],
   "source": [
    "filter_button = driver10.find_elements_by_xpath(\"//span[@class='a-size-base a-color-base']\")\n",
    "for i in filter_button:\n",
    "    if i.text=='Intel Core i7':\n",
    "        i.click()\n",
    "        break"
   ]
  },
  {
   "cell_type": "code",
   "execution_count": 94,
   "metadata": {},
   "outputs": [],
   "source": [
    "urls = []\n",
    "for i in driver10.find_elements_by_xpath(\"//a[@class='a-link-normal a-text-normal']\"):\n",
    "    urls.append(i.get_attribute(\"href\"))"
   ]
  },
  {
   "cell_type": "code",
   "execution_count": 95,
   "metadata": {},
   "outputs": [],
   "source": [
    "laptop_titles=[]\n",
    "laptop_ratings=[]"
   ]
  },
  {
   "cell_type": "code",
   "execution_count": 96,
   "metadata": {},
   "outputs": [],
   "source": [
    "for i in urls:\n",
    "    driver10.get(i)\n",
    "    time.sleep(3)\n",
    "    \n",
    "    \n",
    "    try:\n",
    "        titles = driver10.find_element_by_xpath(\"//span[@class='a-size-large product-title-word-break']\")\n",
    "        laptop_titles.append(titles.text)\n",
    "    except:\n",
    "        laptop_titles.append(\"-\")\n",
    "        \n",
    "        \n",
    "        \n",
    "    try:\n",
    "        ratings=driver10.find_element_by_xpath(\"//span[@class='a-size-medium a-color-base']\")\n",
    "        laptop_ratings.append(ratings.text)\n",
    "    except:\n",
    "        laptop_ratings.append(\"-\")"
   ]
  },
  {
   "cell_type": "code",
   "execution_count": 97,
   "metadata": {},
   "outputs": [
    {
     "data": {
      "text/plain": [
       "26"
      ]
     },
     "execution_count": 97,
     "metadata": {},
     "output_type": "execute_result"
    }
   ],
   "source": [
    "len(laptop_ratings)"
   ]
  },
  {
   "cell_type": "code",
   "execution_count": 98,
   "metadata": {},
   "outputs": [
    {
     "data": {
      "text/plain": [
       "26"
      ]
     },
     "execution_count": 98,
     "metadata": {},
     "output_type": "execute_result"
    }
   ],
   "source": [
    "len(laptop_titles)"
   ]
  },
  {
   "cell_type": "code",
   "execution_count": 101,
   "metadata": {},
   "outputs": [],
   "source": [
    "price= driver10.find_elements_by_xpath(\"//span[@class='a-price']\")"
   ]
  },
  {
   "cell_type": "code",
   "execution_count": 102,
   "metadata": {},
   "outputs": [
    {
     "data": {
      "text/plain": [
       "['₹1,14,990',\n",
       " '₹1,23,300',\n",
       " '₹77,990',\n",
       " '₹57,490',\n",
       " '₹73,990',\n",
       " '₹87,990',\n",
       " '₹1,13,990',\n",
       " '₹1,23,300',\n",
       " '₹94,500',\n",
       " '₹72,999',\n",
       " '₹1,07,990',\n",
       " '₹1,19,499',\n",
       " '₹76,999',\n",
       " '₹52,999',\n",
       " '₹63,999',\n",
       " '₹1,01,910',\n",
       " '₹81,290',\n",
       " '₹84,867',\n",
       " '₹41,999',\n",
       " '₹39,999',\n",
       " '₹41,999',\n",
       " '₹45,999',\n",
       " '₹40,999',\n",
       " '₹51,999',\n",
       " '₹45,999',\n",
       " '₹429.00',\n",
       " '₹2,810.00',\n",
       " '₹1,490.00',\n",
       " '₹375.00',\n",
       " '₹2,140.00',\n",
       " '']"
      ]
     },
     "execution_count": 102,
     "metadata": {},
     "output_type": "execute_result"
    }
   ],
   "source": [
    "laptop_price=[]\n",
    "for i in price:\n",
    "    laptop_price.append(i.text)\n",
    "laptop_price"
   ]
  },
  {
   "cell_type": "code",
   "execution_count": 103,
   "metadata": {},
   "outputs": [
    {
     "data": {
      "text/html": [
       "<div>\n",
       "<style scoped>\n",
       "    .dataframe tbody tr th:only-of-type {\n",
       "        vertical-align: middle;\n",
       "    }\n",
       "\n",
       "    .dataframe tbody tr th {\n",
       "        vertical-align: top;\n",
       "    }\n",
       "\n",
       "    .dataframe thead th {\n",
       "        text-align: right;\n",
       "    }\n",
       "</style>\n",
       "<table border=\"1\" class=\"dataframe\">\n",
       "  <thead>\n",
       "    <tr style=\"text-align: right;\">\n",
       "      <th></th>\n",
       "      <th>Title</th>\n",
       "      <th>Rating</th>\n",
       "      <th>Price</th>\n",
       "    </tr>\n",
       "  </thead>\n",
       "  <tbody>\n",
       "    <tr>\n",
       "      <th>0</th>\n",
       "      <td>Dell XPS 9370 13.3-inch FHD Display Thin &amp; Lig...</td>\n",
       "      <td>2.8 out of 5</td>\n",
       "      <td>₹1,14,990</td>\n",
       "    </tr>\n",
       "    <tr>\n",
       "      <th>1</th>\n",
       "      <td>HP Envy 11th Gen Core i7 Processor 13.3-inch (...</td>\n",
       "      <td>4.1 out of 5</td>\n",
       "      <td>₹1,23,300</td>\n",
       "    </tr>\n",
       "    <tr>\n",
       "      <th>2</th>\n",
       "      <td>Lenovo IdeaPad S540 11th Gen Intel Core i7 13....</td>\n",
       "      <td>4.3 out of 5</td>\n",
       "      <td>₹77,990</td>\n",
       "    </tr>\n",
       "    <tr>\n",
       "      <th>3</th>\n",
       "      <td>Mi Notebook Horizon Edition 14 Intel Core i7-1...</td>\n",
       "      <td>4.2 out of 5</td>\n",
       "      <td>₹57,490</td>\n",
       "    </tr>\n",
       "    <tr>\n",
       "      <th>4</th>\n",
       "      <td>Lenovo IdeaPad Gaming 3 Intel Core i7 10th Gen...</td>\n",
       "      <td>4.4 out of 5</td>\n",
       "      <td>₹73,990</td>\n",
       "    </tr>\n",
       "    <tr>\n",
       "      <th>5</th>\n",
       "      <td>ASUS TUF Dash F15 (2021), 15.6-inch (39.62 cms...</td>\n",
       "      <td>3.5 out of 5</td>\n",
       "      <td>₹87,990</td>\n",
       "    </tr>\n",
       "    <tr>\n",
       "      <th>6</th>\n",
       "      <td>ASUS TUF Gaming F17 (2021), 17.3-inch (43.94 c...</td>\n",
       "      <td>-</td>\n",
       "      <td>₹1,13,990</td>\n",
       "    </tr>\n",
       "    <tr>\n",
       "      <th>7</th>\n",
       "      <td>HP Envy 11th Gen Core i7 Processor 13.3-inch (...</td>\n",
       "      <td>4.1 out of 5</td>\n",
       "      <td>₹1,23,300</td>\n",
       "    </tr>\n",
       "    <tr>\n",
       "      <th>8</th>\n",
       "      <td>HP Pavilion 13(2021) 11th Gen Intel Core i7 La...</td>\n",
       "      <td>5 out of 5</td>\n",
       "      <td>₹94,500</td>\n",
       "    </tr>\n",
       "    <tr>\n",
       "      <th>9</th>\n",
       "      <td>Mi Notebook Pro QHD+ IPS Anti Glare Display In...</td>\n",
       "      <td>4.6 out of 5</td>\n",
       "      <td>₹72,999</td>\n",
       "    </tr>\n",
       "  </tbody>\n",
       "</table>\n",
       "</div>"
      ],
      "text/plain": [
       "                                               Title        Rating      Price\n",
       "0  Dell XPS 9370 13.3-inch FHD Display Thin & Lig...  2.8 out of 5  ₹1,14,990\n",
       "1  HP Envy 11th Gen Core i7 Processor 13.3-inch (...  4.1 out of 5  ₹1,23,300\n",
       "2  Lenovo IdeaPad S540 11th Gen Intel Core i7 13....  4.3 out of 5    ₹77,990\n",
       "3  Mi Notebook Horizon Edition 14 Intel Core i7-1...  4.2 out of 5    ₹57,490\n",
       "4  Lenovo IdeaPad Gaming 3 Intel Core i7 10th Gen...  4.4 out of 5    ₹73,990\n",
       "5  ASUS TUF Dash F15 (2021), 15.6-inch (39.62 cms...  3.5 out of 5    ₹87,990\n",
       "6  ASUS TUF Gaming F17 (2021), 17.3-inch (43.94 c...             -  ₹1,13,990\n",
       "7  HP Envy 11th Gen Core i7 Processor 13.3-inch (...  4.1 out of 5  ₹1,23,300\n",
       "8  HP Pavilion 13(2021) 11th Gen Intel Core i7 La...    5 out of 5    ₹94,500\n",
       "9  Mi Notebook Pro QHD+ IPS Anti Glare Display In...  4.6 out of 5    ₹72,999"
      ]
     },
     "execution_count": 103,
     "metadata": {},
     "output_type": "execute_result"
    }
   ],
   "source": [
    "df10=pd.DataFrame()\n",
    "\n",
    "df10['Title']=laptop_titles[0:10]\n",
    "df10['Rating']=laptop_ratings[0:10]\n",
    "df10['Price']=laptop_price[0:10]\n",
    "\n",
    "df10"
   ]
  },
  {
   "cell_type": "code",
   "execution_count": null,
   "metadata": {},
   "outputs": [],
   "source": []
  }
 ],
 "metadata": {
  "kernelspec": {
   "display_name": "Python 3",
   "language": "python",
   "name": "python3"
  },
  "language_info": {
   "codemirror_mode": {
    "name": "ipython",
    "version": 3
   },
   "file_extension": ".py",
   "mimetype": "text/x-python",
   "name": "python",
   "nbconvert_exporter": "python",
   "pygments_lexer": "ipython3",
   "version": "3.8.5"
  }
 },
 "nbformat": 4,
 "nbformat_minor": 4
}
